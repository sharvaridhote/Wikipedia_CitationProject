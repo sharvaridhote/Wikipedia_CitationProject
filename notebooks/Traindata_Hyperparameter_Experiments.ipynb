{
 "cells": [
  {
   "cell_type": "markdown",
   "metadata": {
    "toc": true
   },
   "source": [
    "<h1>Table of Contents<span class=\"tocSkip\"></span></h1>\n",
    "<div class=\"toc\"><ul class=\"toc-item\"></ul></div>"
   ]
  },
  {
   "cell_type": "code",
   "execution_count": 25,
   "metadata": {
    "scrolled": true
   },
   "outputs": [],
   "source": [
    "import pandas as pd\n",
    "import unicodedata\n",
    "import random\n",
    "from train import training\n",
    "from util import load_data, evaluate,  df_tolist\n",
    "from sklearn.utils import shuffle"
   ]
  },
  {
   "cell_type": "code",
   "execution_count": 29,
   "metadata": {},
   "outputs": [
    {
     "name": "stdout",
     "output_type": "stream",
     "text": [
      "(32788, 2)\n",
      "0    20465\n",
      "1    12323\n",
      "Name: label, dtype: int64\n"
     ]
    },
    {
     "data": {
      "text/html": [
       "<div>\n",
       "<style scoped>\n",
       "    .dataframe tbody tr th:only-of-type {\n",
       "        vertical-align: middle;\n",
       "    }\n",
       "\n",
       "    .dataframe tbody tr th {\n",
       "        vertical-align: top;\n",
       "    }\n",
       "\n",
       "    .dataframe thead th {\n",
       "        text-align: right;\n",
       "    }\n",
       "</style>\n",
       "<table border=\"1\" class=\"dataframe\">\n",
       "  <thead>\n",
       "    <tr style=\"text-align: right;\">\n",
       "      <th></th>\n",
       "      <th>Statements</th>\n",
       "      <th>label</th>\n",
       "    </tr>\n",
       "  </thead>\n",
       "  <tbody>\n",
       "    <tr>\n",
       "      <th>0</th>\n",
       "      <td>This initiated progressive collapse of the ent...</td>\n",
       "      <td>1</td>\n",
       "    </tr>\n",
       "    <tr>\n",
       "      <th>1</th>\n",
       "      <td>It was also one of the first projects accepted...</td>\n",
       "      <td>1</td>\n",
       "    </tr>\n",
       "    <tr>\n",
       "      <th>2</th>\n",
       "      <td>The building was 610 feet (190 m) tall, with a...</td>\n",
       "      <td>1</td>\n",
       "    </tr>\n",
       "    <tr>\n",
       "      <th>3</th>\n",
       "      <td>The substation had a caisson foundation design...</td>\n",
       "      <td>1</td>\n",
       "    </tr>\n",
       "    <tr>\n",
       "      <th>4</th>\n",
       "      <td>The final design for 7 World Trade Center was ...</td>\n",
       "      <td>1</td>\n",
       "    </tr>\n",
       "  </tbody>\n",
       "</table>\n",
       "</div>"
      ],
      "text/plain": [
       "                                          Statements  label\n",
       "0  This initiated progressive collapse of the ent...      1\n",
       "1  It was also one of the first projects accepted...      1\n",
       "2  The building was 610 feet (190 m) tall, with a...      1\n",
       "3  The substation had a caisson foundation design...      1\n",
       "4  The final design for 7 World Trade Center was ...      1"
      ]
     },
     "execution_count": 29,
     "metadata": {},
     "output_type": "execute_result"
    }
   ],
   "source": [
    "# change to dataframe to Spacy format\n",
    "# wikidata featured articles scraped text\n",
    "df = pd.read_csv('E:/Sharpest_Mind/WikipediaCitation/notebooks/final_list1.csv', encoding = 'utf8')\n",
    "df= df[(df['Statements'].str.split().str.len() >20)].reset_index(drop=True)\n",
    "df['Statements'] = df['Statements'].astype(str)\n",
    "print(df.shape)\n",
    "print(df.label.value_counts())\n",
    "df.head()"
   ]
  },
  {
   "cell_type": "code",
   "execution_count": 30,
   "metadata": {},
   "outputs": [],
   "source": [
    "df1 = df[df['label']==1]\n",
    "df2 = df[df['label']==0]"
   ]
  },
  {
   "cell_type": "code",
   "execution_count": 35,
   "metadata": {},
   "outputs": [],
   "source": [
    "df3=pd.concat([df1,df2[:12323]])"
   ]
  },
  {
   "cell_type": "code",
   "execution_count": 36,
   "metadata": {
    "scrolled": true
   },
   "outputs": [
    {
     "data": {
      "text/plain": [
       "1    12323\n",
       "0    12323\n",
       "Name: label, dtype: int64"
      ]
     },
     "execution_count": 36,
     "metadata": {},
     "output_type": "execute_result"
    }
   ],
   "source": [
    "df3.label.value_counts()"
   ]
  },
  {
   "cell_type": "code",
   "execution_count": 37,
   "metadata": {},
   "outputs": [
    {
     "data": {
      "text/html": [
       "<div>\n",
       "<style scoped>\n",
       "    .dataframe tbody tr th:only-of-type {\n",
       "        vertical-align: middle;\n",
       "    }\n",
       "\n",
       "    .dataframe tbody tr th {\n",
       "        vertical-align: top;\n",
       "    }\n",
       "\n",
       "    .dataframe thead th {\n",
       "        text-align: right;\n",
       "    }\n",
       "</style>\n",
       "<table border=\"1\" class=\"dataframe\">\n",
       "  <thead>\n",
       "    <tr style=\"text-align: right;\">\n",
       "      <th></th>\n",
       "      <th>Statements</th>\n",
       "      <th>label</th>\n",
       "    </tr>\n",
       "  </thead>\n",
       "  <tbody>\n",
       "    <tr>\n",
       "      <th>0</th>\n",
       "      <td>This initiated progressive collapse of the ent...</td>\n",
       "      <td>1</td>\n",
       "    </tr>\n",
       "    <tr>\n",
       "      <th>1</th>\n",
       "      <td>It was also one of the first projects accepted...</td>\n",
       "      <td>1</td>\n",
       "    </tr>\n",
       "    <tr>\n",
       "      <th>2</th>\n",
       "      <td>The building was 610 feet (190 m) tall, with a...</td>\n",
       "      <td>1</td>\n",
       "    </tr>\n",
       "    <tr>\n",
       "      <th>3</th>\n",
       "      <td>The substation had a caisson foundation design...</td>\n",
       "      <td>1</td>\n",
       "    </tr>\n",
       "    <tr>\n",
       "      <th>4</th>\n",
       "      <td>The final design for 7 World Trade Center was ...</td>\n",
       "      <td>1</td>\n",
       "    </tr>\n",
       "  </tbody>\n",
       "</table>\n",
       "</div>"
      ],
      "text/plain": [
       "                                          Statements  label\n",
       "0  This initiated progressive collapse of the ent...      1\n",
       "1  It was also one of the first projects accepted...      1\n",
       "2  The building was 610 feet (190 m) tall, with a...      1\n",
       "3  The substation had a caisson foundation design...      1\n",
       "4  The final design for 7 World Trade Center was ...      1"
      ]
     },
     "execution_count": 37,
     "metadata": {},
     "output_type": "execute_result"
    }
   ],
   "source": [
    "df3.head()"
   ]
  },
  {
   "cell_type": "code",
   "execution_count": 18,
   "metadata": {},
   "outputs": [],
   "source": [
    "df3.to_csv('sents_listV3.csv', index=False)"
   ]
  },
  {
   "cell_type": "code",
   "execution_count": 55,
   "metadata": {},
   "outputs": [
    {
     "name": "stdout",
     "output_type": "stream",
     "text": [
      "[('In his conclusions, Smith noted that Lancaster was favourably situated to provide a healthy environment for its inhabitants, and that this could be achieved by \"a complete and constant supply of pure and soft water, and   a thorough system of drainage and sewerage\".', {'cats': {'POSITIVE': True, 'NEGATIVE': False}})]\n"
     ]
    }
   ],
   "source": [
    "# Processing the final format of training and validation data\n",
    "# Calling the load_data() function \n",
    "\n",
    "(train_texts, train_cats), (dev_texts, dev_cats) = load_data(df3,split=0.8)\n",
    "train_data = list(zip(train_texts,[{'cats': cats} for cats in train_cats]))\n",
    "print(train_data[:1])\n",
    "dev_data = list(zip(dev_texts,[{'cats': cats} for cats in dev_cats]))\n",
    "print(dev_data[:1])\n"
   ]
  },
  {
   "cell_type": "code",
   "execution_count": 39,
   "metadata": {},
   "outputs": [
    {
     "name": "stdout",
     "output_type": "stream",
     "text": [
      "(19998, 2)\n"
     ]
    }
   ],
   "source": [
    "# Converting the dataframe into a list of tuples\n",
    "# change to dataframe to Spacy format\n",
    "# wikidata citation needed text\n",
    "df4 = pd.read_csv('E:/Sharpest_Mind/WikipediaCitation/data/processed/csv_files/sort/Citation_needed_wiki.csv', encoding = 'ISO-8859-1')\n",
    "df4 = shuffle(df4)\n",
    "test1 =df_tolist(df4)\n",
    "print(df4.shape)\n",
    "random.shuffle(test1)\n",
    "\n",
    "test_texts1, test_cats1 = zip(*test1[:4000])\n",
    "test_cats1 = [{\"POSITIVE\": bool(y), \"NEGATIVE\": not bool(y)} for y in test_cats1]\n",
    "test_data1 = list(zip(test_texts1,[{'cats': cats} for cats in test_cats1]))"
   ]
  },
  {
   "cell_type": "code",
   "execution_count": 40,
   "metadata": {},
   "outputs": [
    {
     "name": "stdout",
     "output_type": "stream",
     "text": [
      "(19980, 2)\n"
     ]
    }
   ],
   "source": [
    "# Converting the dataframe into a list of tuples\n",
    "# wikidata random articles -biography section\n",
    "df5 = pd.read_csv('E:/Sharpest_Mind/WikipediaCitation/data/processed/csv_files/sort/wiki_data_test.csv', encoding = 'ISO-8859-1')\n",
    "df5 = shuffle(df5)\n",
    "test2 =df_tolist(df5)\n",
    "print(df5.shape)\n",
    "random.shuffle(test2)\n",
    "\n",
    "test_texts2, test_cats2 = zip(*test2[:4000])\n",
    "test_cats2 = [{\"POSITIVE\": bool(y), \"NEGATIVE\": not bool(y)} for y in test_cats2]\n",
    "test_data2 = list(zip(test_texts2,[{'cats': cats} for cats in test_cats2]))"
   ]
  },
  {
   "cell_type": "code",
   "execution_count": 41,
   "metadata": {},
   "outputs": [
    {
     "name": "stdout",
     "output_type": "stream",
     "text": [
      "19716\n",
      "4000\n",
      "4000\n",
      "4930\n"
     ]
    }
   ],
   "source": [
    "print(len(train_data))\n",
    "print(len(test_data1))\n",
    "print(len(test_data2))\n",
    "print(len(dev_data))"
   ]
  },
  {
   "cell_type": "code",
   "execution_count": 43,
   "metadata": {
    "scrolled": true
   },
   "outputs": [
    {
     "name": "stdout",
     "output_type": "stream",
     "text": [
      "Training the model...\n",
      "LOSS \tA_train\tA_dev\tA_test\t  P  \t  R  \n",
      "13.6897\t0.9712\t0.9631\t0.7135\t0.9728\t0.9695\t0.9711\n",
      "2.9058\t0.9830\t0.9773\t0.7245\t0.9692\t0.9978\t0.9833\n",
      "1.6088\t0.9872\t0.9805\t0.7345\t0.9770\t0.9979\t0.9873\n",
      "1.7525\t0.9887\t0.9805\t0.7195\t0.9783\t0.9995\t0.9888\n",
      "1.3494\t0.9917\t0.9803\t0.6945\t0.9852\t0.9984\t0.9917\n",
      "Saved model to model_artifactnewdataL2-2e-4\n"
     ]
    }
   ],
   "source": [
    "# Model 1 - cnn, L2 =2e-4\n",
    "train_results1, dev_results1, test_results1 = training(train_texts, train_cats, dev_texts, dev_cats, test_texts1, test_cats1, L2 = 2e-4, \n",
    "                                                     learn_rate = 0.001, output_dir='model_artifactnewdataL2-2e-4')"
   ]
  },
  {
   "cell_type": "code",
   "execution_count": 44,
   "metadata": {
    "scrolled": false
   },
   "outputs": [
    {
     "name": "stdout",
     "output_type": "stream",
     "text": [
      "Training the model...\n",
      "LOSS \tA_train\tA_dev\tA_test\t  P  \t  R  \n",
      "13.7329\t0.9658\t0.9704\t0.7500\t0.9732\t0.9579\t0.9655\n",
      "3.5510\t0.9770\t0.9773\t0.7462\t0.9587\t0.9969\t0.9774\n",
      "2.1554\t0.9814\t0.9787\t0.6810\t0.9729\t0.9905\t0.9816\n",
      "2.2494\t0.9795\t0.9793\t0.6512\t0.9615\t0.9989\t0.9798\n",
      "2.1275\t0.9834\t0.9809\t0.6435\t0.9827\t0.9841\t0.9834\n",
      "Saved model to model_artifactnewdataL2-0.001\n"
     ]
    }
   ],
   "source": [
    "# Model 2 - cnn, L2 0.0001 \n",
    "train_results2, dev_results2, test_results2 = training(train_texts, train_cats, dev_texts, dev_cats, test_texts1, test_cats1, L2 = 0.001, \n",
    "                                                     learn_rate = 0.001, output_dir='model_artifactnewdataL2-0.001')"
   ]
  },
  {
   "cell_type": "code",
   "execution_count": 48,
   "metadata": {},
   "outputs": [
    {
     "data": {
      "image/png": "[encoded data removed]",
      "text/plain": [
       "<Figure size 432x288 with 1 Axes>"
      ]
     },
     "metadata": {
      "needs_background": "light"
     },
     "output_type": "display_data"
    }
   ],
   "source": [
    "import matplotlib.pyplot as plt\n",
    "\n",
    "accuracy_train = [(d['textcat_a']) for d in train_results1]\n",
    "accuracy_dev = [(d['textcat_a']) for d in dev_results1]\n",
    "accuracy_test = [(d['textcat_a']) for d in test_results1]\n",
    "accuracy_train1 = [(d['textcat_a']) for d in train_results2]\n",
    "accuracy_dev1 = [(d['textcat_a']) for d in dev_results2]\n",
    "accuracy_test1 = [(d['textcat_a']) for d in test_results2]\n",
    "epochs = range(0,5)\n",
    "plt.plot(epochs, accuracy_train, 'g', label='Training accuracy_model1')\n",
    "plt.plot(epochs, accuracy_dev, 'k', label='Validation accuracy_model1')\n",
    "plt.plot(epochs, accuracy_test, 'b', label='Testing accuracy_model1')\n",
    "plt.plot(epochs, accuracy_train1, 'r', label='Training accuracy_model2')\n",
    "plt.plot(epochs, accuracy_dev1, 'c', label='Validation accuracy_model2')\n",
    "plt.plot(epochs, accuracy_test1, 'y', label='Testing accuracy_model2')\n",
    "plt.title('Training and Validation Accuracy  Model1 L2= 2e-4, Model 2 L2 =0.1')\n",
    "plt.xlabel('Epochs')\n",
    "plt.ylabel('accuracy')\n",
    "plt.legend()\n",
    "plt.show()"
   ]
  },
  {
   "cell_type": "code",
   "execution_count": 49,
   "metadata": {},
   "outputs": [
    {
     "data": {
      "image/png": "[encoded data removed]",
      "text/plain": [
       "<Figure size 432x288 with 1 Axes>"
      ]
     },
     "metadata": {
      "needs_background": "light"
     },
     "output_type": "display_data"
    }
   ],
   "source": [
    "import matplotlib.pyplot as plt\n",
    "\n",
    "accuracy_train = [(d['textcat_a']) for d in train_results1]\n",
    "accuracy_dev = [(d['textcat_a']) for d in dev_results1]\n",
    "accuracy_test = [(d['textcat_a']) for d in test_results1]\n",
    "\n",
    "epochs = range(0,5)\n",
    "plt.plot(epochs, accuracy_train, 'g', label='Training accuracy_model1')\n",
    "plt.plot(epochs, accuracy_dev, 'k', label='Validation accuracy_model1')\n",
    "plt.plot(epochs, accuracy_test, 'b', label='Testing accuracy_model1')\n",
    "\n",
    "plt.title('Training and Validation Accuracy LR2=0.001')\n",
    "plt.xlabel('Epochs')\n",
    "plt.ylabel('accuracy')\n",
    "plt.legend()\n",
    "plt.show()"
   ]
  },
  {
   "cell_type": "code",
   "execution_count": 54,
   "metadata": {},
   "outputs": [
    {
     "data": {
      "image/png": "[encoded data removed]",
      "text/plain": [
       "<Figure size 432x288 with 1 Axes>"
      ]
     },
     "metadata": {
      "needs_background": "light"
     },
     "output_type": "display_data"
    }
   ],
   "source": [
    "import matplotlib.pyplot as plt\n",
    "\n",
    "precision_test1 = [(d['textcat_p']) for d in test_results1]\n",
    "precision_test2 = [(d['textcat_p']) for d in test_results2]\n",
    "#precision_test3 = [(d['textcat_p']) for d in test_result3]\n",
    "#precision_test4 = [(d['textcat_p']) for d in test_result4]\n",
    "\n",
    "epochs = range(0,5)\n",
    "plt.plot(epochs, precision_test1, 'g', label='L2=2e-4')\n",
    "plt.plot(epochs, precision_test2, 'b', label='L2=0.001')\n",
    "#plt.plot(epochs, precision_test3, 'r', label='3')\n",
    "#plt.plot(epochs, precision_test4, 'c', label='4')\n",
    "plt.title('Training and Validation precision')\n",
    "plt.xlabel('Epochs')\n",
    "plt.ylabel('precision')\n",
    "plt.legend()\n",
    "plt.show()"
   ]
  },
  {
   "cell_type": "code",
   "execution_count": null,
   "metadata": {},
   "outputs": [],
   "source": [
    "import matplotlib.pyplot as plt\n",
    "\n",
    "precision_test1 = [(d['textcat_a']) for d in test_results1]\n",
    "precision_test2 = [(d['textcat_a']) for d in test_results2]\n",
    "precision_test3 = [(d['textcat_a']) for d in test_result3]\n",
    "precision_test4 = [(d['textcat_a']) for d in test_result4]\n",
    "\n",
    "epochs = range(0,5)\n",
    "plt.plot(epochs, precision_test1, 'g', label='1')\n",
    "plt.plot(epochs, precision_test2, 'b', label='2')\n",
    "plt.plot(epochs, precision_test3, 'r', label='3')\n",
    "plt.plot(epochs, precision_test4, 'c', label='4')\n",
    "plt.title('Test accuracy ')\n",
    "plt.xlabel('Epochs')\n",
    "plt.ylabel('precision')\n",
    "plt.legend()\n",
    "plt.show()"
   ]
  },
  {
   "cell_type": "code",
   "execution_count": 58,
   "metadata": {},
   "outputs": [
    {
     "data": {
      "text/plain": [
       "{'POSITIVE': 0.21122442185878754, 'NEGATIVE': 0.788775622844696}"
      ]
     },
     "execution_count": 58,
     "metadata": {},
     "output_type": "execute_result"
    }
   ],
   "source": [
    "import spacy\n",
    "# Testing the model = https://en.wikipedia.org/wiki/Che_Guevara - positive sentence\n",
    "loaded_model = spacy.load('E:/Sharpest_Mind/WikipediaCitation/notebooks/model_artifactnewdataL2-0.001')\n",
    "test_text= \"Such positions also allowed him to play a central role in training the militia forces who repelled the Bay of Pigs Invasion and bringing the Soviet nuclear-armed ballistic missiles to Cuba which precipitated the 1962 Cuban Missile Crisis \"\n",
    "doc=loaded_model(test_text)\n",
    "doc.cats"
   ]
  },
  {
   "cell_type": "code",
   "execution_count": null,
   "metadata": {},
   "outputs": [],
   "source": [
    "spacy.displacy.render(doc, style='ent')"
   ]
  },
  {
   "cell_type": "code",
   "execution_count": 61,
   "metadata": {
    "scrolled": true
   },
   "outputs": [
    {
     "data": {
      "text/plain": [
       "{'POSITIVE': 0.16090162098407745, 'NEGATIVE': 0.839098334312439}"
      ]
     },
     "execution_count": 61,
     "metadata": {},
     "output_type": "execute_result"
    }
   ],
   "source": [
    "# Testing the model - negative sentences\n",
    "test_text=\"Later, during the Age of Exploration, maps became progressively more accurate for navigation needs and were often sprinkled with sketches and drawings such as sailing ships showing the direction of trade winds, little trees and mounds to represent forests and mountains and of course, plenty of sea creatures and exotic natives much of them imaginary. As the need for geographical accuracy increased, these illustrations gradually slipped off the map and onto the borders and eventually disappeared altogether in the wake of modern scientific cartography.\"\n",
    "doc=loaded_model(test_text)\n",
    "doc.cats"
   ]
  },
  {
   "cell_type": "code",
   "execution_count": 60,
   "metadata": {},
   "outputs": [
    {
     "data": {
      "text/plain": [
       "{'POSITIVE': 0.16090162098407745, 'NEGATIVE': 0.839098334312439}"
      ]
     },
     "execution_count": 60,
     "metadata": {},
     "output_type": "execute_result"
    }
   ],
   "source": [
    "# Testing the model - negative sentence\n",
    "test_text=\"Later, during the Age of Exploration, maps became progressively more accurate for navigation needs and were often sprinkled with sketches and drawings such as sailing ships showing the direction of trade winds, little trees and mounds to represent forests and mountains and of course, plenty of sea creatures and exotic natives much of them imaginary. As the need for geographical accuracy increased, these illustrations gradually slipped off the map and onto the borders and eventually disappeared altogether in the wake of modern scientific cartography.\"\n",
    "doc=loaded_model(test_text)\n",
    "doc.cats"
   ]
  },
  {
   "cell_type": "code",
   "execution_count": 59,
   "metadata": {},
   "outputs": [
    {
     "data": {
      "text/plain": [
       "{'POSITIVE': 0.998630940914154, 'NEGATIVE': 0.0013690843479707837}"
      ]
     },
     "execution_count": 59,
     "metadata": {},
     "output_type": "execute_result"
    }
   ],
   "source": [
    "#positive sentence \n",
    "\n",
    "test_text1 = 'Anthropomorphic maps date back to when Sebastian Münster used a queen to depict Europe in 1570.'\n",
    "doc=loaded_model(test_text1)\n",
    "doc.cats"
   ]
  },
  {
   "cell_type": "code",
   "execution_count": null,
   "metadata": {},
   "outputs": [],
   "source": [
    "#positive sentence \n",
    "\n",
    "test_text = 'The leading panoramic map artists in the U.S.A. were Herman Brosius, Camille N. Drie, Thaddeus Mortimer Fowler, Paul Giraud, Augustus Koch, D. D. Morse, Henry Welge, and A. L. Westyard.'\n",
    "doc=nlp(test_text)\n",
    "doc.cats"
   ]
  }
 ],
 "metadata": {
  "kernelspec": {
   "display_name": "Python 3",
   "language": "python",
   "name": "python3"
  },
  "language_info": {
   "codemirror_mode": {
    "name": "ipython",
    "version": 3
   },
   "file_extension": ".py",
   "mimetype": "text/x-python",
   "name": "python",
   "nbconvert_exporter": "python",
   "pygments_lexer": "ipython3",
   "version": "3.7.3"
  },
  "toc": {
   "base_numbering": 1,
   "nav_menu": {},
   "number_sections": true,
   "sideBar": true,
   "skip_h1_title": true,
   "title_cell": "Table of Contents",
   "title_sidebar": "Contents",
   "toc_cell": true,
   "toc_position": {},
   "toc_section_display": true,
   "toc_window_display": false
  }
 },
 "nbformat": 4,
 "nbformat_minor": 4
}
