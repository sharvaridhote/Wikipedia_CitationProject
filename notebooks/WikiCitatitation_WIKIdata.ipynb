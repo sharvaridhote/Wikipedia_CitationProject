{
 "cells": [
  {
   "cell_type": "markdown",
   "metadata": {
    "toc": true
   },
   "source": [
    "<h1>Table of Contents<span class=\"tocSkip\"></span></h1>\n",
    "<div class=\"toc\"><ul class=\"toc-item\"></ul></div>"
   ]
  },
  {
   "cell_type": "code",
   "execution_count": 13,
   "metadata": {
    "scrolled": false
   },
   "outputs": [
    {
     "data": {
      "text/html": [
       "<div>\n",
       "<style scoped>\n",
       "    .dataframe tbody tr th:only-of-type {\n",
       "        vertical-align: middle;\n",
       "    }\n",
       "\n",
       "    .dataframe tbody tr th {\n",
       "        vertical-align: top;\n",
       "    }\n",
       "\n",
       "    .dataframe thead th {\n",
       "        text-align: right;\n",
       "    }\n",
       "</style>\n",
       "<table border=\"1\" class=\"dataframe\">\n",
       "  <thead>\n",
       "    <tr style=\"text-align: right;\">\n",
       "      <th></th>\n",
       "      <th>text_new</th>\n",
       "      <th>label</th>\n",
       "    </tr>\n",
       "  </thead>\n",
       "  <tbody>\n",
       "    <tr>\n",
       "      <th>0</th>\n",
       "      <td>The close similarities between measles virus, ...</td>\n",
       "      <td>1</td>\n",
       "    </tr>\n",
       "    <tr>\n",
       "      <th>1</th>\n",
       "      <td>Although the main weapon used was vaccinia vir...</td>\n",
       "      <td>1</td>\n",
       "    </tr>\n",
       "    <tr>\n",
       "      <th>2</th>\n",
       "      <td>Other coronaviruses were known to cause mild i...</td>\n",
       "      <td>1</td>\n",
       "    </tr>\n",
       "    <tr>\n",
       "      <th>3</th>\n",
       "      <td>Some zoonotic infections are often \"dead ends\"...</td>\n",
       "      <td>1</td>\n",
       "    </tr>\n",
       "    <tr>\n",
       "      <th>4</th>\n",
       "      <td>Microorganisms constitute more than 90 per cen...</td>\n",
       "      <td>1</td>\n",
       "    </tr>\n",
       "  </tbody>\n",
       "</table>\n",
       "</div>"
      ],
      "text/plain": [
       "                                            text_new  label\n",
       "0  The close similarities between measles virus, ...      1\n",
       "1  Although the main weapon used was vaccinia vir...      1\n",
       "2  Other coronaviruses were known to cause mild i...      1\n",
       "3  Some zoonotic infections are often \"dead ends\"...      1\n",
       "4  Microorganisms constitute more than 90 per cen...      1"
      ]
     },
     "execution_count": 13,
     "metadata": {},
     "output_type": "execute_result"
    }
   ],
   "source": [
    "import pandas as pd\n",
    "import unicodedata\n",
    "df = pd.read_csv('E:/Sharpest_Mind/WikipediaCitation/notebooks/Data/wiki_data.csv', encoding = 'utf8')\n",
    "\n",
    "df['text_new'] = (df['text_new'].map(lambda x: unicodedata.normalize('NFKD', str(x))))\n",
    "\n",
    "df.head()"
   ]
  },
  {
   "cell_type": "code",
   "execution_count": 14,
   "metadata": {},
   "outputs": [
    {
     "data": {
      "text/plain": [
       "(19998, 2)"
      ]
     },
     "execution_count": 14,
     "metadata": {},
     "output_type": "execute_result"
    }
   ],
   "source": [
    "df.shape"
   ]
  },
  {
   "cell_type": "code",
   "execution_count": 15,
   "metadata": {},
   "outputs": [
    {
     "data": {
      "text/plain": [
       "[('The Hoysala era was an important period in the development of art, architecture, and religion in South India. The empire is remembered today primarily for Hoysala architecture. Over a hundred surviving temples are scattered across Karnataka.',\n",
       "  0),\n",
       " (\"The Falkland Islands (/ˈfɔːlklənd/; Spanish: Islas Malvinas , pronounced [ˈislas malˈβinas]) is an archipelago in the South Atlantic Ocean on the Patagonian Shelf. The principal islands are about 300 miles (483 kilometres) east of South America's southern Patagonian coast, at a latitude of about 52°S. The archipelago, with an area of 4,700 square miles (12,000 square kilometres), comprises East Falkland, West Falkland and 776 smaller islands. As a British overseas territory, the Falklands have internal self-governance, and the United Kingdom takes responsibility for their defence and foreign affairs. The Falkland Islands' capital is Stanley on East Falkland.\",\n",
       "  0),\n",
       " (\"Controversy exists over the Falklands' discovery and subsequent colonisation by Europeans. At various times, the islands have had French, British, Spanish, and Argentine settlements. Britain reasserted its rule in 1833, although Argentina maintains its claim to the islands. In April 1982, Argentine forces temporarily occupied the islands. British administration was restored two months later at the end of the Falklands War. Most Falklanders favour the archipelago remaining a UK overseas territory, but its sovereignty status is part of an ongoing dispute between Argentina and the United Kingdom.\",\n",
       "  0),\n",
       " ('The islands lie on the boundary of the subantarctic oceanic and tundra climate zones, and both major islands have mountain ranges reaching 2,300 feet (700 m). They are home to large bird populations, although many no longer breed on the main islands because of competition from introduced species. Major economic activities include fishing, tourism and sheep farming, with an emphasis on high-quality wool exports. Oil exploration, licensed by the Falkland Islands Government, remains controversial as a result of maritime disputes with Argentina.',\n",
       "  0),\n",
       " ('Within the region, millions felt the rupture. Reactions to the earthquake varied: some people near the epicenter did not react to the shaking, while others panicked. A future earthquake in the region is extremely likely; in 2005, seismologists and geologists estimated a 90% chance of a magnitude 6–7 tremor before 2055, likely originating in the Wabash Valley seismic zone on the Illinois–Indiana border or the New Madrid fault zone.',\n",
       "  0),\n",
       " (\"Romance is the eighth studio album by Mexican singer Luis Miguel. It was released by WEA Latina on 19 November 1991. Although the production was originally intended as another collaboration with Juan Carlos Calderón, that plan was scrapped when Calderón was unable to compose songs for the album. Facing a new-material deadline in his recording contract, at his manager's suggestion Miguel chose bolero music for his next project. Mexican singer-songwriter Armando Manzanero was hired by WEA Latina to co-produce the album with Miguel. Recording began in August 1991 at Ocean Way Recording in Hollywood, California, with Bebu Silvetti the arranger.\",\n",
       "  0),\n",
       " ('On the album Miguel covers twelve boleros, originally recorded from 1944 to 1986. The first two singles, \"Inolvidable\" and \"No Sé Tú\", reached number one on the Billboard Hot Latin Songs chart in the United States and spent six months atop the Mexican charts. \"Mucho Corazón\" and \"Cómo\" were in the top five of the Hot Latin Songs chart, and \"Usted\" and \"La Barca\" received airplay throughout Latin America. Miguel promoted the record with a tour of the United States and Latin America. The album was generally well received by music critics, who praised Miguel\\'s singing and the record\\'s production. The singer received several accolades, including a Grammy nomination for Best Latin Pop Album.',\n",
       "  0),\n",
       " ('Romance sold over seven million copies worldwide, his bestselling record in his music career. In the United States, it spent 32 weeks at number one on the Billboard Latin Pop Albums chart, and was the first Spanish-language album by a non-crossover Latin artist to be certified gold by the Recording Industry Association of America (RIAA); it was also certified gold in Brazil and Taiwan, firsts for a Spanish-speaking artist. Romance is the third-bestselling album of all time in Mexico, and the bestselling record in Argentina by a non-native artist. The album was noted by critics as reviving interest in bolero music. Its success encouraged Miguel to release three more bolero records: Segundo Romance (1994), Romances (1997) and Mis Romances (2001).',\n",
       "  0)]"
      ]
     },
     "execution_count": 15,
     "metadata": {},
     "output_type": "execute_result"
    }
   ],
   "source": [
    "# Converting the dataframe into a list of tuples\n",
    "df['tuples'] = df.apply(lambda row: (row['text_new'],row['label']), axis=1)\n",
    "train1=df['tuples'].tolist()\n",
    "train1[19990:]"
   ]
  },
  {
   "cell_type": "code",
   "execution_count": 16,
   "metadata": {},
   "outputs": [],
   "source": [
    "\n",
    "df = df[['tuples', 'label']]\n",
    "df.to_csv('df_train_Wikidata.csv', index=False)"
   ]
  },
  {
   "cell_type": "code",
   "execution_count": 17,
   "metadata": {},
   "outputs": [
    {
     "data": {
      "text/plain": [
       "['tagger', 'parser', 'ner', 'textcat']"
      ]
     },
     "execution_count": 17,
     "metadata": {},
     "output_type": "execute_result"
    }
   ],
   "source": [
    "import spacy\n",
    "nlp = spacy.load('en_core_web_sm')\n",
    "# Adding the built-in textcat component to the pipeline.\n",
    "textcat=nlp.create_pipe( \"textcat\", config={\"exclusive_classes\": True, \"architecture\": \"ensemble\"})\n",
    "nlp.add_pipe(textcat, last=True)\n",
    "nlp.pipe_names"
   ]
  },
  {
   "cell_type": "code",
   "execution_count": 18,
   "metadata": {},
   "outputs": [
    {
     "data": {
      "text/plain": [
       "1"
      ]
     },
     "execution_count": 18,
     "metadata": {},
     "output_type": "execute_result"
    },
    {
     "data": {
      "text/plain": [
       "1"
      ]
     },
     "execution_count": 18,
     "metadata": {},
     "output_type": "execute_result"
    }
   ],
   "source": [
    "# Adding the labels to textcat\n",
    "textcat.add_label(\"POSITIVE\")\n",
    "textcat.add_label(\"NEGATIVE\")"
   ]
  },
  {
   "cell_type": "code",
   "execution_count": 20,
   "metadata": {
    "scrolled": false
   },
   "outputs": [
    {
     "data": {
      "text/plain": [
       "[('The Great North had opened using a system of telegraphic train orders, and as the signalling was being upgraded this was being replaced with electric tablet working over the single line sections',\n",
       "  {'cats': {'POSITIVE': True, 'NEGATIVE': False}}),\n",
       " ('Like other major rugby nations Argentina, Australia, France and South Africa, New Zealand does not have an official stadium for its national team. Instead, the All Blacks play their test matches at a variety of venues throughout New Zealand.',\n",
       "  {'cats': {'POSITIVE': False, 'NEGATIVE': True}}),\n",
       " ('Trophimowsky was an anarchist, tutor, and former Orthodox priest-turned-atheist,  and Nathalie was the illegitimate daughter of a middle-class Lutheran German and a Russian Jew',\n",
       "  {'cats': {'POSITIVE': True, 'NEGATIVE': False}}),\n",
       " ('Many presentations still describe Compsognathus as \"chicken-sized\" dinosaurs because of the small size of the German specimen, which is now believed to be a juvenile. Compsognathus longipes is one of the few dinosaur species for which diet is known with certainty: the remains of small, agile lizards are preserved in the bellies of both specimens. Teeth discovered in Portugal may be further fossil remains of the genus.',\n",
       "  {'cats': {'POSITIVE': False, 'NEGATIVE': True}}),\n",
       " ('Her books were now reaching a wide public, having been reprinted in paperback by the mass-market publisher Penguin Books, where they sold more than a million copies between 1955 and 1985',\n",
       "  {'cats': {'POSITIVE': True, 'NEGATIVE': False}}),\n",
       " ('The game is a non-direct sequel to Gravity Bone (2008) and features the same main character—an unnamed spy. It was developed as part of the Kickstarter campaign for the revival of the Idle Thumbs podcast and included a free copy of its predecessor. Thirty Flights of Loving received generally favorable reviews from video game media outlets, scoring 88 out of 100 on aggregate website Metacritic. A follow-up, Quadrilateral Cowboy, was released on July 25, 2016.',\n",
       "  {'cats': {'POSITIVE': False, 'NEGATIVE': True}}),\n",
       " ('These ants do not pose any threat to humans, as they are incapable of stinging and can only spray formic acid, however, the larger soldiers are capable of inflicting a painful bite with their powerful jaws, and the formic acid they spray is corrosive to human skin',\n",
       "  {'cats': {'POSITIVE': True, 'NEGATIVE': False}}),\n",
       " ('The earliest description of the process dates to the 10th century. In 1684, Great Britain granted the first formal extraction process patent. Extraction industries and innovations became widespread during the 19th century. The industry shrank in the mid-20th century following the discovery of large reserves of conventional oil, but high petroleum prices at the beginning of the 21st century have led to renewed interest, accompanied by the development and testing of newer technologies.',\n",
       "  {'cats': {'POSITIVE': False, 'NEGATIVE': True}}),\n",
       " ('Today, the actual-size replica of Borobudur Ship that had sailed from Indonesia to Africa in 2004 is displayed in the Samudra Raksa Museum, located a few hundred meters north of Borobudur.',\n",
       "  {'cats': {'POSITIVE': True, 'NEGATIVE': False}}),\n",
       " (\"A Baptist congregation was gathering at the site of the present-day church by at least 1756. Primitive Baptist minister John Monroe (1750–1824) is credited for establishing a place of worship at this site; he is interred in the church's cemetery. The land on which Capon Chapel was built originally belonged to William C. Nixon (1789–1869), a member of the Virginia House of Delegates; later, it was transferred to the Pugh family. The first documented mention of a church at the Capon Chapel site was in March 1852, when Joseph Pugh allocated the land to three trustees for the construction of a church and cemetery.\",\n",
       "  {'cats': {'POSITIVE': False, 'NEGATIVE': True}})]"
      ]
     },
     "execution_count": 20,
     "metadata": {},
     "output_type": "execute_result"
    },
    {
     "data": {
      "text/plain": [
       "[(' Amphetamine is also known to increase intracellular calcium, an effect which is associated with DAT phosphorylation through an unidentified Ca2+/calmodulin-dependent protein kinase (CAMK)-dependent pathway, in turn producing dopamine efflux',\n",
       "  {'cats': {'POSITIVE': True, 'NEGATIVE': False}}),\n",
       " ('His past experience and the credibility derived from his time in Japan brought him a large clientele of opulent locals, posing in traditional attire for official portraits. Other images, from Buddhas to landscapes and buildings, were sold from master albums in Burma and Europe.',\n",
       "  {'cats': {'POSITIVE': False, 'NEGATIVE': True}}),\n",
       " (\"Family Trade is an American reality television series broadcast by Game Show Network (GSN). The show premiered on March 12, 2013; its eighth and final episode aired on April 16, 2013. Filmed in Middlebury, Vermont, the series chronicles the daily activities of G. Stone Motors, a GMC and Ford car dealership that employs the barter system in selling its automobiles. The business is operated by its founder, Gardner Stone, his son and daughter, Todd and Darcy, and General Manager Travis Romano. The series features the shop's daily interaction with its customers, who bring in a variety of items that can be resold in order to receive a down payment on the vehicle they are leasing or purchasing. Commentary and narration are also often provided by the Stones during the episodes.\",\n",
       "  {'cats': {'POSITIVE': False, 'NEGATIVE': True}}),\n",
       " ('Most of the other Australian officers served in staff positions; for instance Lieutenant Colonel Bill Robertson was the chief of staff of the 51st (Highland) Infantry Division when that unit arrived in Normandy and was later posted to the 50th (Northumbrian) Infantry Division where he served in the same role',\n",
       "  {'cats': {'POSITIVE': True, 'NEGATIVE': False}}),\n",
       " ('The largest bats are a few species of Pteropus megabats and the giant golden-crowned flying fox, (Acerodon jubatus), which can weigh 1.6 kilograms (3.5 lb) with a wingspan of 1.7 metres (5.6 ft)',\n",
       "  {'cats': {'POSITIVE': True, 'NEGATIVE': False}}),\n",
       " ('The techniques sometimes appeared together in ukiyo-e works, geometrical perspective providing an illusion of depth in the background and the more expressive Chinese perspective in the fore',\n",
       "  {'cats': {'POSITIVE': True, 'NEGATIVE': False}}),\n",
       " ('Raymie Muzquiz directed \"A Rugrats Chanukah\" from a script by J. David Stem and David N. Weiss. In 1992, Nickelodeon executives had pitched the idea of a Chanukah special to the production team, but the concept was revised and became the 1995 special, \"A Rugrats Passover\". After production of the Passover episode wrapped, the crew returned to the Chanukah idea. Nickelodeon broadcast \"A Rugrats Chanukah\" on December 4, 1996; the episode received a Nielsen rating of 7.9 and positive reviews from television critics. Along with other Rugrats episodes featuring Boris and his wife, the special attracted controversy when the Anti-Defamation League compared the character designs to anti-Semitic drawings from a 1930s Nazi newspaper.',\n",
       "  {'cats': {'POSITIVE': False, 'NEGATIVE': True}}),\n",
       " ('Released in 1990, it was a major comeback for the band, and included the hits \"Thunderstruck\" and \"Are You Ready\", which reached No.5 and No.16 respectively on Billboard\\'s Mainstream Rock Tracks Chart, and \"Moneytalks\", which peaked at No.23 on the Billboard Hot 100',\n",
       "  {'cats': {'POSITIVE': True, 'NEGATIVE': False}}),\n",
       " (\"Its south-west tower was begun 100 years later and constructed between 1365 and 1395, and the north-west tower between 1425 and 1435, both in the Perpendicular Gothic style to the design of William Wynford,  who also filled many of the cathedral's early English lancet windows with delicate tracery.\",\n",
       "  {'cats': {'POSITIVE': True, 'NEGATIVE': False}}),\n",
       " ('An analysis of information from the National Survey on Drug Use and Health showed that the use of psychedelic drugs such as psilocybin is associated with significantly reduced odds of past month psychological distress, past year suicidal thinking, past year suicidal planning, and past year suicide attempt.',\n",
       "  {'cats': {'POSITIVE': True, 'NEGATIVE': False}})]"
      ]
     },
     "execution_count": 20,
     "metadata": {},
     "output_type": "execute_result"
    }
   ],
   "source": [
    "import random\n",
    "\n",
    "def load_data( split=0.8):\n",
    "    train_data=train1\n",
    "    # Shuffle the data\n",
    "    \n",
    "    random.shuffle(train_data)\n",
    "    texts, labels = zip(*train_data)\n",
    "    # get the categories for each review\n",
    "    cats = [{\"POSITIVE\": bool(y), \"NEGATIVE\": not bool(y)} for y in labels]\n",
    "\n",
    "    # Splitting the training and evaluation data\n",
    "    split = int(len(train_data) * split)\n",
    "    return (texts[:split], cats[:split]), (texts[split:], cats[split:])\n",
    "\n",
    "\n",
    "\n",
    "# Calling the load_data() function \n",
    "(train_texts, train_cats), (dev_texts, dev_cats) = load_data()\n",
    "\n",
    "#(test_texts, test_cats), (tev_texts, devt_cats) = load_data(limit=n_texts)\n",
    "# Processing the final format of training data\n",
    "train_data = list(zip(train_texts,[{'cats': cats} for cats in train_cats]))\n",
    "train_data[:10]\n",
    "dev_data = list(zip(dev_texts,[{'cats': cats} for cats in dev_cats]))\n",
    "dev_data[:10]\n",
    "#test_data = list(zip(test_texts,[{'cats': cats} for cats in test_cats]))\n",
    "#test_data[:10]"
   ]
  },
  {
   "cell_type": "code",
   "execution_count": 21,
   "metadata": {},
   "outputs": [
    {
     "name": "stdout",
     "output_type": "stream",
     "text": [
      "15998\n",
      "4000\n"
     ]
    }
   ],
   "source": [
    "print(len(train_data))\n",
    "#print(len(test_data))\n",
    "print(len(dev_data))"
   ]
  },
  {
   "cell_type": "code",
   "execution_count": 22,
   "metadata": {},
   "outputs": [],
   "source": [
    "def evaluate(tokenizer, textcat, texts, cats):\n",
    "    docs = (tokenizer(text) for text in texts)\n",
    "    tp = 0.0  # True positives\n",
    "    fp = 1e-8  # False positives\n",
    "    fn = 1e-8  # False negatives\n",
    "    tn = 0.0  # True negatives\n",
    "    for i, doc in enumerate(textcat.pipe(docs)):\n",
    "        gold = cats[i]\n",
    "        for label, score in doc.cats.items():\n",
    "            if label not in gold:\n",
    "                continue\n",
    "            if label == \"NEGATIVE\":\n",
    "                continue\n",
    "            if score >= 0.5 and gold[label] >= 0.5:\n",
    "                tp += 1.0\n",
    "            elif score >= 0.5 and gold[label] < 0.5:\n",
    "                fp += 1.0\n",
    "            elif score < 0.5 and gold[label] < 0.5:\n",
    "                tn += 1\n",
    "            elif score < 0.5 and gold[label] >= 0.5:\n",
    "                fn += 1\n",
    "    accuracy = (tp + tn) / (tp + fp + fn + tn)\n",
    "    precision = tp / (tp + fp)\n",
    "    recall = tp / (tp + fn)\n",
    "    if (precision + recall) == 0:\n",
    "        f_score = 0.0\n",
    "    else:\n",
    "        f_score = 2 * (precision * recall) / (precision + recall)\n",
    "    return {\"textcat_a\": accuracy,\"textcat_p\": precision, \"textcat_r\": recall, \"textcat_f\": f_score}\n",
    "\n",
    "\n"
   ]
  },
  {
   "cell_type": "code",
   "execution_count": 23,
   "metadata": {},
   "outputs": [],
   "source": [
    "#from thinc.neural.optimizers import Adam\n",
    "#from thinc.neural import Model\n",
    "\n",
    "\n",
    "\n",
    "#nlp.begin_training()\n",
    "\n",
    "# optimizer options. Defaults are changed where commented\n",
    "#ops = Model.ops\n",
    "#learn_rate = 0.001\n",
    "#beta1 = 0.9\n",
    "#beta2 = 0.999\n",
    "#eps = 1e-8\n",
    "#L2 = 1e-6\n",
    "#max_grad_norm = 1.0\n",
    "#optimizer = Adam(ops, learn_rate, L2=L2, beta1=beta1, beta2=beta2, eps=eps)\n",
    "#optimizer.max_grad_norm = max_grad_norm"
   ]
  },
  {
   "cell_type": "code",
   "execution_count": null,
   "metadata": {},
   "outputs": [],
   "source": []
  },
  {
   "cell_type": "code",
   "execution_count": 25,
   "metadata": {
    "scrolled": false
   },
   "outputs": [
    {
     "name": "stdout",
     "output_type": "stream",
     "text": [
      "Training the model...\n",
      "LOSS \tA_train\tA_test\t  P  \t  R  \t  F  \n",
      "15.9112\t0.9773\t0.9752\t0.9586\t0.9941\t0.9760\n",
      "1.8492\t0.9790\t0.9757\t0.9595\t0.9941\t0.9765\n",
      "1.5058\t0.9809\t0.9767\t0.9614\t0.9941\t0.9774\n",
      "1.4266\t0.9857\t0.9767\t0.9605\t0.9951\t0.9775\n",
      "1.1055\t0.9921\t0.9750\t0.9560\t0.9965\t0.9758\n"
     ]
    }
   ],
   "source": [
    "from spacy.util import minibatch, compounding, decaying\n",
    "#(\"Number of training iterations\", \"n\", int))\n",
    "n_iter=5\n",
    "# Disabling other components\n",
    "other_pipes = [pipe for pipe in nlp.pipe_names if pipe != 'textcat']\n",
    "with nlp.disable_pipes(*other_pipes):  # only train textcat\n",
    "    optimizer = nlp.begin_training()\n",
    "    optimizer.L2 = 2e-5\n",
    "    dec = decaying(0.6 , 0.2, 1e-4)\n",
    "    print(\"Training the model...\")\n",
    "    print('{:^5}\\t{:^5}\\t{:^5}\\t{:^5}\\t{:^5}\\t{:^5}'.format('LOSS',  'A_train', 'A_test', 'P', 'R', 'F'))\n",
    "    train_results = []\n",
    "    test_results = []\n",
    "    # Performing training\n",
    "    for i in range(n_iter):\n",
    "        losses = {}\n",
    "        random.shuffle(train_data)\n",
    "        batches = minibatch(train_data, size=compounding(4., 32., 1.001))\n",
    "        for batch in batches:\n",
    "            texts, annotations = zip(*batch)\n",
    "            nlp.update(texts, annotations, sgd=optimizer, drop=next(dec),\n",
    "                       losses=losses)\n",
    "        # Calling the evaluate() function and printing the train scores\n",
    "        scores1 = evaluate(nlp.tokenizer, textcat, train_texts, train_cats)\n",
    "        train_results.append(scores1) \n",
    "      # Calling the evaluate() function and printing the test scores\n",
    "        with textcat.model.use_params(optimizer.averages):\n",
    "            \n",
    "            scores = evaluate(nlp.tokenizer, textcat, dev_texts, dev_cats)\n",
    "        test_results.append(scores)\n",
    "        print('{0:.4f}\\t{1:.4f}\\t{2:.4f}\\t{3:.4f}\\t{4:.4f}\\t{5:.4f}'  \n",
    "              .format(losses['textcat'],  scores1['textcat_a'], scores['textcat_a'], scores['textcat_p'],\n",
    "                      scores['textcat_r'], scores['textcat_f']))\n",
    "\n"
   ]
  },
  {
   "cell_type": "code",
   "execution_count": 26,
   "metadata": {},
   "outputs": [],
   "source": [
    "# Save model\n",
    "with nlp.use_params(optimizer.averages):\n",
    "    nlp.to_disk(\"model_artifactWikidata1\")"
   ]
  },
  {
   "cell_type": "code",
   "execution_count": 28,
   "metadata": {
    "scrolled": false
   },
   "outputs": [
    {
     "data": {
      "text/html": [
       "<div>\n",
       "<style scoped>\n",
       "    .dataframe tbody tr th:only-of-type {\n",
       "        vertical-align: middle;\n",
       "    }\n",
       "\n",
       "    .dataframe tbody tr th {\n",
       "        vertical-align: top;\n",
       "    }\n",
       "\n",
       "    .dataframe thead th {\n",
       "        text-align: right;\n",
       "    }\n",
       "</style>\n",
       "<table border=\"1\" class=\"dataframe\">\n",
       "  <thead>\n",
       "    <tr style=\"text-align: right;\">\n",
       "      <th></th>\n",
       "      <th>statement</th>\n",
       "      <th>Label</th>\n",
       "    </tr>\n",
       "  </thead>\n",
       "  <tbody>\n",
       "    <tr>\n",
       "      <th>0</th>\n",
       "      <td>Jir Deh (Persian: جيرده‎ , also Romanized as J...</td>\n",
       "      <td>1</td>\n",
       "    </tr>\n",
       "    <tr>\n",
       "      <th>1</th>\n",
       "      <td>Fajrabad (Persian: فجراباد‎ , also Romanized a...</td>\n",
       "      <td>1</td>\n",
       "    </tr>\n",
       "    <tr>\n",
       "      <th>2</th>\n",
       "      <td>Saran-e Pain (Persian: ساران پائين‎ , also Ro...</td>\n",
       "      <td>1</td>\n",
       "    </tr>\n",
       "    <tr>\n",
       "      <th>3</th>\n",
       "      <td>Jefrud-e Pain (Persian: جفرودپائين‎ , also Ro...</td>\n",
       "      <td>1</td>\n",
       "    </tr>\n",
       "    <tr>\n",
       "      <th>4</th>\n",
       "      <td>Do Sangan (Persian: دوسنگان‎ , also Romanized ...</td>\n",
       "      <td>1</td>\n",
       "    </tr>\n",
       "  </tbody>\n",
       "</table>\n",
       "</div>"
      ],
      "text/plain": [
       "                                           statement  Label\n",
       "0  Jir Deh (Persian: جيرده‎ , also Romanized as J...      1\n",
       "1  Fajrabad (Persian: فجراباد‎ , also Romanized a...      1\n",
       "2  Saran-e Pain (Persian: ساران پائين‎ , also Ro...      1\n",
       "3  Jefrud-e Pain (Persian: جفرودپائين‎ , also Ro...      1\n",
       "4  Do Sangan (Persian: دوسنگان‎ , also Romanized ...      1"
      ]
     },
     "execution_count": 28,
     "metadata": {},
     "output_type": "execute_result"
    }
   ],
   "source": [
    "# Converting the dataframe into a list of tuples\n",
    "df2 = pd.read_csv('E:/Sharpest_Mind/WikipediaCitation/notebooks/Data/wiki_data_test.csv', encoding = 'utf8')\n",
    "\n",
    "df2['statement'] = (df2['statement'].map(lambda x: unicodedata.normalize('NFKD', str(x))))\n",
    "\n",
    "df2.head()"
   ]
  },
  {
   "cell_type": "code",
   "execution_count": 29,
   "metadata": {},
   "outputs": [],
   "source": [
    "df2['tuples'] = df2.apply(lambda row: (row['statement'],row['Label']), axis=1)\n",
    "test =df2['tuples'].tolist()\n",
    "random.shuffle(test)\n",
    "test_text, test_label = zip(*test)"
   ]
  },
  {
   "cell_type": "code",
   "execution_count": 30,
   "metadata": {},
   "outputs": [],
   "source": [
    "\n",
    "df2 = df2[['tuples', 'Label']]"
   ]
  },
  {
   "cell_type": "code",
   "execution_count": 32,
   "metadata": {
    "scrolled": false
   },
   "outputs": [
    {
     "name": "stdout",
     "output_type": "stream",
     "text": [
      "F1 score= 0.009267643142476696\n",
      "ROC AUC score =  0.06907340869343925\n",
      "Accuracy =  0.06901901901901902\n",
      "Confusion Matrix =  [[1292 8689]\n",
      " [9912   87]]\n"
     ]
    }
   ],
   "source": [
    "# evaluate the model on test data\n",
    "from sklearn.metrics import roc_auc_score\n",
    "from sklearn.metrics import f1_score\n",
    "from sklearn.metrics import accuracy_score\n",
    "from sklearn.metrics import confusion_matrix\n",
    "loaded_model = spacy.load(\"model_artifactWikidata1\")\n",
    "\n",
    "test_docs = list(loaded_model.pipe(test_text))\n",
    "textcat = loaded_model.get_pipe('textcat')\n",
    "\n",
    "scores, _ = textcat.predict(test_docs)\n",
    "predicted_clases = scores.argmax(axis=1)\n",
    "correct_predictions = predicted_clases==test_label\n",
    "\n",
    "print(\"F1 score=\", f1_score(predicted_clases,test_label))\n",
    "print(\"ROC AUC score = \", roc_auc_score(test_label, predicted_clases))\n",
    "print(\"Accuracy = \", accuracy_score(test_label, predicted_clases))\n",
    "print(\"Confusion Matrix = \", confusion_matrix(test_label, predicted_clases))\n"
   ]
  },
  {
   "cell_type": "markdown",
   "metadata": {},
   "source": [
    "Test accuracy using evaluate function below"
   ]
  },
  {
   "cell_type": "code",
   "execution_count": 38,
   "metadata": {},
   "outputs": [
    {
     "data": {
      "text/plain": [
       "[('Controlling for relevant factors, the authors found that \"Muslim immigrants living in states with the sharpest increase in hate crimes also exhibit: greater chances of marrying within their own ethnic group; higher fertility; lower female labour force participation; and lower English proficiency.\" A study of Germans found that the 9/11 terror attacks contributed to greater anti-immigrant sentiments',\n",
       "  {'cats': {'POSITIVE': True, 'NEGATIVE': False}}),\n",
       " (\"It sets apart the Gorgan Bay from the Caspian Sea. The elevation of the peninsula from the sea level is 23 meters and four villages are situated on it namely: Ashuradeh, Qezel-e shomali, Qezel-Mehdi and Qavasatl.The city situated at the opposite side of the peninsula's end is Bandar Torkaman. The island of Ashuradeh lies off the eastern tip of the peninsula. The peninsula is located in Behshahr County.\",\n",
       "  {'cats': {'POSITIVE': False, 'NEGATIVE': True}})]"
      ]
     },
     "execution_count": 38,
     "metadata": {},
     "output_type": "execute_result"
    }
   ],
   "source": [
    "random.shuffle(test)\n",
    "test_texts1, test_cats1 = zip(*test[:4000])\n",
    " # get the categories for each review\n",
    "test_cats1 = [{\"POSITIVE\": bool(y), \"NEGATIVE\": not bool(y)} for y in test_cats1]\n",
    "test_data1 = list(zip(test_texts1,[{'cats': cats} for cats in test_cats1]))\n",
    "test_data1[:2]\n",
    "\n"
   ]
  },
  {
   "cell_type": "code",
   "execution_count": 39,
   "metadata": {},
   "outputs": [
    {
     "data": {
      "text/plain": [
       "[(\"It sets apart the Gorgan Bay from the Caspian Sea. The elevation of the peninsula from the sea level is 23 meters and four villages are situated on it namely: Ashuradeh, Qezel-e shomali, Qezel-Mehdi and Qavasatl.The city situated at the opposite side of the peninsula's end is Bandar Torkaman. The island of Ashuradeh lies off the eastern tip of the peninsula. The peninsula is located in Behshahr County.\",\n",
       "  {'cats': {'POSITIVE': False, 'NEGATIVE': True}}),\n",
       " ('Zarandin-e Sofla (Persian: زرندين سفلي\\u200e , also Romanized as Zarandīn-e Soflá; also known as Pā’īn Zarandīn and Zarandīn-e Pā’īn) is a village in Peyrajeh Rural District, in the Central District of Neka County, Mazandaran Province, Iran',\n",
       "  {'cats': {'POSITIVE': True, 'NEGATIVE': False}}),\n",
       " ('The entire lake, the bogs around its shores and a 100-metre-wide strip of the wood surrounding the lake are designated as a core zone of the Southeast Rügen Biosphere Reserve. That said, the lake is accessible to hikers and cyclists along the path from Binz to Sellin. The lake itself can be reached on a small wooden jetty.',\n",
       "  {'cats': {'POSITIVE': False, 'NEGATIVE': True}}),\n",
       " ('Andorokh (Persian: اندرخ\\u200e , also Romanized as Andarokh; also known as Andarūkh and Andeh Lūs) is a village in Tabadkan Rural District, in the Central District of Mashhad County, Razavi Khorasan Province, Iran',\n",
       "  {'cats': {'POSITIVE': True, 'NEGATIVE': False}}),\n",
       " ('Several ocean goods and services are likely to be undermined by future ocean acidification potentially affecting the livelihoods of some 400 to 800 million people depending upon the emission scenario.',\n",
       "  {'cats': {'POSITIVE': True, 'NEGATIVE': False}}),\n",
       " ('The Westland temperate forests are located along the central west coast of New Zealand’s South Island, also known as Te Waipounamou. These forests are found in the region of the Westland District, which spans approximately 11,880 square kilometers. Much of this area is protected by the Westland Tai Poutini National Park. The Franz Josef and Fox glaciers are included in this area. To the west of New Zealand lies the Tasman Sea, to the east is the Pacific Ocean.[1]',\n",
       "  {'cats': {'POSITIVE': False, 'NEGATIVE': True}}),\n",
       " ('The Qinling (Chinese: 秦岭) or Qin Mountains, formerly known as the Nanshan (\"Southern Mountains\") and sometimes called the \"Szechuan Alps\", are a major east-west mountain range in southern Shaanxi Province, China. The mountains provide a natural boundary between North and South China and support a huge variety of plant and wildlife, some of which is found nowhere else on earth.',\n",
       "  {'cats': {'POSITIVE': False, 'NEGATIVE': True}}),\n",
       " ('Pileh Daraq (Persian: پيله درق\\u200e , also Romanized as Pīleh Daraq; also known as Pīyeh Daraq) is a village in Ojarud-e Sharqi Rural District, Muran District, Germi County, Ardabil Province, Iran',\n",
       "  {'cats': {'POSITIVE': True, 'NEGATIVE': False}}),\n",
       " ('Hoseynabad-e Shurabeh (Persian: حسين ابادشورابه\\u200e , also Romanized as Ḩoseynābād-e Shūrābeh; also known as Ḩoseynābād) is a village in Nasrabad Rural District, in the Central District of Taft County, Yazd Province, Iran',\n",
       "  {'cats': {'POSITIVE': True, 'NEGATIVE': False}})]"
      ]
     },
     "execution_count": 39,
     "metadata": {},
     "output_type": "execute_result"
    }
   ],
   "source": [
    "test_data = list(zip(test_texts1,[{'cats': cats} for cats in test_cats1]))\n",
    "test_data[1:10]"
   ]
  },
  {
   "cell_type": "code",
   "execution_count": 43,
   "metadata": {},
   "outputs": [],
   "source": [
    "loaded_model = spacy.load(\"model_artifactWikidata1\")\n",
    "textcat2 = loaded_model.get_pipe('textcat')\n",
    "scores2= evaluate(loaded_model, textcat2, test_texts1, test_cats1)"
   ]
  },
  {
   "cell_type": "code",
   "execution_count": 44,
   "metadata": {},
   "outputs": [
    {
     "data": {
      "text/plain": [
       "{'textcat_a': 0.9287499999953563,\n",
       " 'textcat_p': 0.8814387211328534,\n",
       " 'textcat_r': 0.9910134797753819,\n",
       " 'textcat_f': 0.9330199764938518}"
      ]
     },
     "execution_count": 44,
     "metadata": {},
     "output_type": "execute_result"
    }
   ],
   "source": [
    "scores2"
   ]
  },
  {
   "cell_type": "code",
   "execution_count": 29,
   "metadata": {},
   "outputs": [
    {
     "data": {
      "image/png": "[encoded data removed]",
      "text/plain": [
       "<Figure size 432x288 with 1 Axes>"
      ]
     },
     "metadata": {
      "needs_background": "light"
     },
     "output_type": "display_data"
    }
   ],
   "source": [
    "import matplotlib.pyplot as plt\n",
    "\n",
    "accuracy_train = [(d['textcat_a']) for d in train_results]\n",
    "accuracy_val = [(d['textcat_a']) for d in test_results]\n",
    "epochs = range(0,5)\n",
    "plt.plot(epochs, accuracy_train, 'g', label='Training accuracy')\n",
    "plt.plot(epochs, accuracy_val, 'b', label='validation accuracy')\n",
    "plt.title('Training and Validation Accuracy')\n",
    "plt.xlabel('Epochs')\n",
    "plt.ylabel('accuracy')\n",
    "plt.legend()\n",
    "plt.show()"
   ]
  },
  {
   "cell_type": "code",
   "execution_count": 62,
   "metadata": {},
   "outputs": [
    {
     "data": {
      "text/plain": [
       "{'POSITIVE': 0.9963908791542053, 'NEGATIVE': 0.003609072184190154}"
      ]
     },
     "execution_count": 62,
     "metadata": {},
     "output_type": "execute_result"
    }
   ],
   "source": [
    "# Testing the model = \n",
    "test_text= \"Such positions also allowed him to play a central role in training the militia forces who repelled the Bay of Pigs Invasion and bringing the Soviet nuclear-armed ballistic missiles to Cuba which precipitated the 1962 Cuban Missile Crisis \"\n",
    "doc=nlp(test_text)\n",
    "doc.cats"
   ]
  },
  {
   "cell_type": "code",
   "execution_count": 58,
   "metadata": {
    "scrolled": true
   },
   "outputs": [
    {
     "data": {
      "text/plain": [
       "{'POSITIVE': 0.0021363908890634775, 'NEGATIVE': 0.9978635907173157}"
      ]
     },
     "execution_count": 58,
     "metadata": {},
     "output_type": "execute_result"
    }
   ],
   "source": [
    "# Testing the model\n",
    "test_text=\"Later, during the Age of Exploration, maps became progressively more accurate for navigation needs and were often sprinkled with sketches and drawings such as sailing ships showing the direction of trade winds, little trees and mounds to represent forests and mountains and of course, plenty of sea creatures and exotic natives much of them imaginary. As the need for geographical accuracy increased, these illustrations gradually slipped off the map and onto the borders and eventually disappeared altogether in the wake of modern scientific cartography.\"\n",
    "doc=nlp(test_text)\n",
    "doc.cats"
   ]
  },
  {
   "cell_type": "code",
   "execution_count": null,
   "metadata": {},
   "outputs": [],
   "source": [
    "import numpy as np\n",
    "import pandas as pd\n",
    "from lime.lime_text import LimeTextExplainer\n",
    "from spacy.util import load_model_from_path\n",
    "from os.path import join, dirname, abspath\n",
    "from sentipy.utils import process_patterns\n",
    "import matplotlib.pyplot as plt\n",
    "import click\n",
    "import streamlit.cli"
   ]
  },
  {
   "cell_type": "code",
   "execution_count": 36,
   "metadata": {
    "scrolled": true
   },
   "outputs": [
    {
     "data": {
      "text/html": [
       "<div>\n",
       "<style scoped>\n",
       "    .dataframe tbody tr th:only-of-type {\n",
       "        vertical-align: middle;\n",
       "    }\n",
       "\n",
       "    .dataframe tbody tr th {\n",
       "        vertical-align: top;\n",
       "    }\n",
       "\n",
       "    .dataframe thead th {\n",
       "        text-align: right;\n",
       "    }\n",
       "</style>\n",
       "<table border=\"1\" class=\"dataframe\">\n",
       "  <thead>\n",
       "    <tr style=\"text-align: right;\">\n",
       "      <th></th>\n",
       "      <th>tuples</th>\n",
       "      <th>label</th>\n",
       "    </tr>\n",
       "  </thead>\n",
       "  <tbody>\n",
       "    <tr>\n",
       "      <th>0</th>\n",
       "      <td>(The close similarities between measles virus,...</td>\n",
       "      <td>1</td>\n",
       "    </tr>\n",
       "    <tr>\n",
       "      <th>1</th>\n",
       "      <td>(Although the main weapon used was vaccinia vi...</td>\n",
       "      <td>1</td>\n",
       "    </tr>\n",
       "    <tr>\n",
       "      <th>2</th>\n",
       "      <td>(Other coronaviruses were known to cause mild ...</td>\n",
       "      <td>1</td>\n",
       "    </tr>\n",
       "    <tr>\n",
       "      <th>3</th>\n",
       "      <td>(Some zoonotic infections are often \"dead ends...</td>\n",
       "      <td>1</td>\n",
       "    </tr>\n",
       "    <tr>\n",
       "      <th>4</th>\n",
       "      <td>(Microorganisms constitute more than 90 per ce...</td>\n",
       "      <td>1</td>\n",
       "    </tr>\n",
       "  </tbody>\n",
       "</table>\n",
       "</div>"
      ],
      "text/plain": [
       "                                              tuples  label\n",
       "0  (The close similarities between measles virus,...      1\n",
       "1  (Although the main weapon used was vaccinia vi...      1\n",
       "2  (Other coronaviruses were known to cause mild ...      1\n",
       "3  (Some zoonotic infections are often \"dead ends...      1\n",
       "4  (Microorganisms constitute more than 90 per ce...      1"
      ]
     },
     "execution_count": 36,
     "metadata": {},
     "output_type": "execute_result"
    }
   ],
   "source": [
    "df.head()"
   ]
  },
  {
   "cell_type": "code",
   "execution_count": 44,
   "metadata": {},
   "outputs": [],
   "source": [
    "import numpy as np\n",
    "import pandas as pd\n",
    "from lime.lime_text import LimeTextExplainer\n",
    "from spacy.util import load_model_from_path\n",
    "from os.path import join, dirname, abspath\n",
    "\n",
    "import matplotlib.pyplot as plt\n",
    "import click\n",
    "import streamlit.cli"
   ]
  },
  {
   "cell_type": "code",
   "execution_count": 45,
   "metadata": {},
   "outputs": [],
   "source": [
    "import spacy\n",
    "\n",
    "\n",
    "# Load model\n",
    "citation_model = spacy.load('model_artifactWikidata')\n",
    "\n",
    "# Load airline CSV\n",
    "df1 = pd.read_csv('wiki_data.csv', encoding = 'utf8')\n",
    "\n",
    "df1['text_new'] = (df1['text_new'].map(lambda x: unicodedata.normalize('NFKD', str(x))))\n",
    "\n",
    "train_df = df1[['text_new', 'label']]\n",
    "cats = list(train_df['label'].unique())\n",
    "\n",
    "arr_len = len(cats)\n",
    "\n",
    "# Initialize LIME text explainer\n",
    "explainer = LimeTextExplainer(class_names=cats)\n",
    "\n",
    "\n"
   ]
  },
  {
   "cell_type": "code",
   "execution_count": 55,
   "metadata": {},
   "outputs": [],
   "source": [
    "def predict_prob(context):\n",
    "    \"\"\"\n",
    "    Provideds sklearn style predict_proba output\n",
    "    Params:\n",
    "    -------\n",
    "    context: str - text content to evaluate\n",
    "    Returns:\n",
    "    --------\n",
    "    numpy array of probabilities\n",
    "    \"\"\"\n",
    "\n",
    "    fin_arr = np.zeros(shape=(1, arr_len))\n",
    "\n",
    "    for txt in context:\n",
    "        doc = citation_model(txt)\n",
    "        preds = np.array(list(doc.cats.values())).reshape(1, arr_len)\n",
    "        fin_arr = np.vstack((fin_arr, preds))\n",
    "\n",
    "    return fin_arr[1:]\n",
    "\n",
    "\n",
    "def explain_text_features(context, viz_features):\n",
    "    \"\"\"\n",
    "    Explains the mot important features of text\n",
    "    Params:\n",
    "    -------\n",
    "    context: str - text content to evaluate\n",
    "    viz_features: int - Number of features to visualize. Defaults to 5\n",
    "    Returns:\n",
    "    --------\n",
    "    Explanation of features for class\n",
    "    \"\"\"\n",
    "\n",
    "    # Print predicted class\n",
    "    doc = citation_model(context)\n",
    "    outcome = max(doc.cats, key=doc.cats.get)\n",
    "    # print(f'Predicted class - {outcome}\\n')\n",
    "\n",
    "    # Initialize explainer\n",
    "    exp = explainer.explain_instance(context, predict_prob, labels=[0, 1],\n",
    "                                     num_features=viz_features)\n",
    "\n",
    "    # Initialize a matpotlib figure\n",
    "    fig = plt.figure(figsize=(15, 20))\n",
    "\n",
    "    # Create subplot for Neutral\n",
    "    plt.subplot(2, 1, 1)\n",
    "    plt.title('Features contribution for class Neutral', fontsize=21,\n",
    "              color='blue')\n",
    "    neu_values = [i[1] for i in exp.as_list(label=0)]\n",
    "    neu_words = [i[0] for i in exp.as_list(label=0)]\n",
    "    neu_colors = ['green' if x > 0 else 'red' for x in neu_values]\n",
    "    plt.barh(y=neu_words, width=neu_values, align='center', color=neu_colors)\n",
    "    plt.xticks(fontsize=14)\n",
    "    plt.yticks(fontsize=14)\n",
    "\n",
    "    # Create subplot for Positive\n",
    "    plt.subplot(2, 1, 2)\n",
    "    plt.title('Features contribution for class Positive', fontsize=21,\n",
    "              color='blue')\n",
    "    pos_values = [i[1] for i in exp.as_list(label=1)]\n",
    "    pos_words = [i[0] for i in exp.as_list(label=1)]\n",
    "    pos_colors = ['green' if x > 0 else 'red' for x in pos_values]\n",
    "    plt.barh(y=pos_words, width=pos_values, align='center', color=pos_colors)\n",
    "    plt.xticks(fontsize=14)\n",
    "    plt.yticks(fontsize=14)\n",
    "\n",
    "    \n",
    "\n",
    "    # Create a Super Title\n",
    "    plt.suptitle('Classwise most important features', fontsize=34,\n",
    "                 color='navy')\n",
    "\n",
    "    return outcome, fig\n"
   ]
  },
  {
   "cell_type": "code",
   "execution_count": 61,
   "metadata": {},
   "outputs": [
    {
     "data": {
      "image/png": "[encoded data removed]",
      "text/plain": [
       "<Figure size 1080x1440 with 2 Axes>"
      ]
     },
     "metadata": {
      "needs_background": "light"
     },
     "output_type": "display_data"
    }
   ],
   "source": [
    "#context = 'Later, during the Age of Exploration, maps became progressively more accurate for navigation needs and were often sprinkled with sketches and drawings such as sailing ships showing the direction of trade winds, little trees and mounds to represent forests and mountains and of course, plenty of sea creatures and exotic natives much of them imaginary. As the need for geographical accuracy increased, these illustrations gradually slipped off the map and onto the borders and eventually disappeared altogether in the wake of modern scientific cartography.'\n",
    "context ='Such positions also allowed him to play a central role in training the militia forces who repelled the Bay of Pigs Invasion and bringing the Soviet nuclear-armed ballistic missiles to Cuba which precipitated the 1962 Cuban Missile Crisis'\n",
    "feature_ex = explain_text_features(context, 25)"
   ]
  },
  {
   "cell_type": "code",
   "execution_count": null,
   "metadata": {},
   "outputs": [],
   "source": [
    "'The Hoysala era was an important period in the development of art, architecture, and religion in South India. The empire is remembered today primarily for Hoysala architecture. Ove'r a hundred surviving temples are scattered across Karnataka."
   ]
  }
 ],
 "metadata": {
  "kernelspec": {
   "display_name": "Python 3",
   "language": "python",
   "name": "python3"
  },
  "language_info": {
   "codemirror_mode": {
    "name": "ipython",
    "version": 3
   },
   "file_extension": ".py",
   "mimetype": "text/x-python",
   "name": "python",
   "nbconvert_exporter": "python",
   "pygments_lexer": "ipython3",
   "version": "3.7.3"
  },
  "toc": {
   "base_numbering": 1,
   "nav_menu": {},
   "number_sections": true,
   "sideBar": true,
   "skip_h1_title": true,
   "title_cell": "Table of Contents",
   "title_sidebar": "Contents",
   "toc_cell": true,
   "toc_position": {},
   "toc_section_display": true,
   "toc_window_display": false
  }
 },
 "nbformat": 4,
 "nbformat_minor": 4
}
