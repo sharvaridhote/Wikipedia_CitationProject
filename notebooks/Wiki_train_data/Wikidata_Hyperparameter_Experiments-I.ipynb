{
 "cells": [
  {
   "cell_type": "markdown",
   "metadata": {
    "toc": true
   },
   "source": [
    "<h1>Table of Contents<span class=\"tocSkip\"></span></h1>\n",
    "<div class=\"toc\"><ul class=\"toc-item\"></ul></div>"
   ]
  },
  {
   "cell_type": "code",
   "execution_count": 1,
   "metadata": {
    "scrolled": true
   },
   "outputs": [],
   "source": [
    "import pandas as pd\n",
    "import unicodedata\n",
    "import random\n",
    "from train import training, load_data, evaluate\n",
    "from util import  df_tolist\n",
    "from sklearn.utils import shuffle"
   ]
  },
  {
   "cell_type": "code",
   "execution_count": 4,
   "metadata": {},
   "outputs": [
    {
     "name": "stdout",
     "output_type": "stream",
     "text": [
      "(19993, 2)\n",
      "0    9999\n",
      "1    9994\n",
      "Name: label, dtype: int64\n"
     ]
    },
    {
     "data": {
      "text/html": [
       "<div>\n",
       "<style scoped>\n",
       "    .dataframe tbody tr th:only-of-type {\n",
       "        vertical-align: middle;\n",
       "    }\n",
       "\n",
       "    .dataframe tbody tr th {\n",
       "        vertical-align: top;\n",
       "    }\n",
       "\n",
       "    .dataframe thead th {\n",
       "        text-align: right;\n",
       "    }\n",
       "</style>\n",
       "<table border=\"1\" class=\"dataframe\">\n",
       "  <thead>\n",
       "    <tr style=\"text-align: right;\">\n",
       "      <th></th>\n",
       "      <th>Statements</th>\n",
       "      <th>label</th>\n",
       "    </tr>\n",
       "  </thead>\n",
       "  <tbody>\n",
       "    <tr>\n",
       "      <th>18566</th>\n",
       "      <td>Sports programming is also provided on some we...</td>\n",
       "      <td>0</td>\n",
       "    </tr>\n",
       "    <tr>\n",
       "      <th>83</th>\n",
       "      <td>In 1807, mint Director Robert Patterson in a l...</td>\n",
       "      <td>1</td>\n",
       "    </tr>\n",
       "    <tr>\n",
       "      <th>2455</th>\n",
       "      <td>Some bones also show evidence of having been b...</td>\n",
       "      <td>1</td>\n",
       "    </tr>\n",
       "    <tr>\n",
       "      <th>15802</th>\n",
       "      <td>The case was brought after Jeffrey Heffernan, ...</td>\n",
       "      <td>0</td>\n",
       "    </tr>\n",
       "    <tr>\n",
       "      <th>7835</th>\n",
       "      <td>As with residents and transients, the lifesty...</td>\n",
       "      <td>1</td>\n",
       "    </tr>\n",
       "  </tbody>\n",
       "</table>\n",
       "</div>"
      ],
      "text/plain": [
       "                                              Statements  label\n",
       "18566  Sports programming is also provided on some we...      0\n",
       "83     In 1807, mint Director Robert Patterson in a l...      1\n",
       "2455   Some bones also show evidence of having been b...      1\n",
       "15802  The case was brought after Jeffrey Heffernan, ...      0\n",
       "7835    As with residents and transients, the lifesty...      1"
      ]
     },
     "execution_count": 4,
     "metadata": {},
     "output_type": "execute_result"
    }
   ],
   "source": [
    "\n",
    "# change to dataframe to Spacy format\n",
    "# wikidata featured articles scraped text\n",
    "df = pd.read_csv('E:/Sharpest_Mind/WikipediaCitation/src/Notebooks/wiki_data.csv', encoding = 'utf8')\n",
    "df = df[(df['Statements'].str.split().str.len() >10)].reset_index(drop=True)\n",
    "df['Statements'] = df['Statements'].astype(str)\n",
    "df =shuffle(df)\n",
    "df = df.drop_duplicates()\n",
    "print(df.shape)\n",
    "print(df.label.value_counts())\n",
    "df.head()"
   ]
  },
  {
   "cell_type": "code",
   "execution_count": 5,
   "metadata": {},
   "outputs": [
    {
     "name": "stdout",
     "output_type": "stream",
     "text": [
      "[(\"Two critics who have analyzed the role of the speech find different ties between Jules' transformation and the issue of postmodernity. Gormley argues that unlike the film's other major characters — Marsellus aside — Jules is:\", {'cats': {'POSITIVE': False, 'NEGATIVE': True}})]\n",
      "[('Almost every sizeable body of water in Scotland has an associated kelpie story, but the most extensively reported is that of Loch Ness. Parallels to the general Germanic neck or nixie and the Scandinavian bäckahäst have been observed. More widely, the wihwin of Central America and the Australian bunyip have been seen as counterparts. The origin of the belief in malevolent water horses has been proposed as originating in human sacrifices once made to appease gods associated with water, but narratives about the kelpie also served a practical purpose in keeping children away from dangerous stretches of water, and warning young women to be wary of handsome strangers.', {'cats': {'POSITIVE': False, 'NEGATIVE': True}})]\n"
     ]
    },
    {
     "name": "stderr",
     "output_type": "stream",
     "text": [
      "E:\\Sharpest_Mind\\WikipediaCitation\\src\\Notebooks\\util.py:78: SettingWithCopyWarning: \n",
      "A value is trying to be set on a copy of a slice from a DataFrame.\n",
      "Try using .loc[row_indexer,col_indexer] = value instead\n",
      "\n",
      "See the caveats in the documentation: https://pandas.pydata.org/pandas-docs/stable/user_guide/indexing.html#returning-a-view-versus-a-copy\n",
      "  df['tuples'] = df.apply(lambda row: (row[df.columns[0]], row[df.columns[1]]), axis=1)\n"
     ]
    }
   ],
   "source": [
    "# Processing the final format of training and validation data\n",
    "# Calling the load_data() function \n",
    "(train_texts, train_cats), (dev_texts, dev_cats) = load_data(df,split=0.8)\n",
    "train_data = list(zip(train_texts,[{'cats': cats} for cats in train_cats]))\n",
    "print(train_data[:1])\n",
    "dev_data = list(zip(dev_texts,[{'cats': cats} for cats in dev_cats]))\n",
    "print(dev_data[:1])\n"
   ]
  },
  {
   "cell_type": "code",
   "execution_count": 6,
   "metadata": {},
   "outputs": [
    {
     "name": "stdout",
     "output_type": "stream",
     "text": [
      "4000\n"
     ]
    }
   ],
   "source": [
    "\n",
    "# change to dataframe to Spacy format\n",
    "# wikidata citation needed text\n",
    "df4 = pd.read_csv('E:/Sharpest_Mind/WikipediaCitation/data/processed/csv_files/sort/Citation_needed_wiki.csv', encoding = 'ISO-8859-1')\n",
    "df4 = shuffle(df4)\n",
    "df4_1 = df4[df4['label']==1] \n",
    "df4_0 = df4[df4['label']==0]\n",
    "df4_test = pd.concat([df4_1[:2000],df4_0[:2000]])\n",
    "test1 =df_tolist(df4_test)\n",
    "test_texts1, test_cats1 = zip(*test1)\n",
    "test_cats1 = [{\"POSITIVE\": bool(y), \"NEGATIVE\": not bool(y)} for y in test_cats1]\n",
    "test_data1 = list(zip(test_texts1,[{'cats': cats} for cats in test_cats1]))\n",
    "print(len(test_data1))"
   ]
  },
  {
   "cell_type": "code",
   "execution_count": 7,
   "metadata": {},
   "outputs": [
    {
     "name": "stdout",
     "output_type": "stream",
     "text": [
      "3980\n"
     ]
    }
   ],
   "source": [
    "\n",
    "# wikidata random articles -biography section\n",
    "df5 = pd.read_csv('E:/Sharpest_Mind/WikipediaCitation/data/processed/csv_files/sort/wiki_data_test.csv', encoding = 'ISO-8859-1')\n",
    "df5 = shuffle(df5)\n",
    "df5_1 = df5[df5['Label']==1] \n",
    "df5_0 = df5[df5['Label']==0]\n",
    "df5_test = pd.concat([df5_1[8000:],df5_0[8000:]])\n",
    "test2 =df_tolist(df5_test)\n",
    "\n",
    "random.shuffle(test2)\n",
    "\n",
    "test_texts2, test_cats2 = zip(*test2)\n",
    "test_cats2 = [{\"POSITIVE\": bool(y), \"NEGATIVE\": not bool(y)} for y in test_cats2]\n",
    "test_data2 = list(zip(test_texts2,[{'cats': cats} for cats in test_cats2]))\n",
    "print(len(test_data2))"
   ]
  },
  {
   "cell_type": "code",
   "execution_count": 8,
   "metadata": {},
   "outputs": [
    {
     "name": "stdout",
     "output_type": "stream",
     "text": [
      "15994\n",
      "4000\n",
      "3980\n",
      "3999\n"
     ]
    }
   ],
   "source": [
    "print(len(train_data))\n",
    "print(len(test_data1))\n",
    "print(len(test_data2))\n",
    "print(len(dev_data))"
   ]
  },
  {
   "cell_type": "code",
   "execution_count": 9,
   "metadata": {
    "scrolled": true
   },
   "outputs": [
    {
     "name": "stdout",
     "output_type": "stream",
     "text": [
      "Training the model...\n",
      "LOSS \tA_train\tA_dev\tA_test\t  P  \t  R  \t  F  \n",
      "13.7914\t0.9659\t0.9207\t0.8632\t0.9766\t0.9544\t0.9654\n",
      "2.4377\t0.9805\t0.9732\t0.9400\t0.9653\t0.9967\t0.9808\n",
      "1.6478\t0.9818\t0.9767\t0.9412\t0.9658\t0.9989\t0.9821\n",
      "Saved model to model_artifactnWikidatatest1L2-2e-5\n"
     ]
    }
   ],
   "source": [
    "# Model 1 - Ensemble, L2 =2e-4\n",
    "train_results1, dev_results1, test_results1 = training(train_texts, train_cats, dev_texts, dev_cats, test_texts1, test_cats1, L2 = 2e-5, \n",
    "                                                     learn_rate = 0.001, n_iter = 3, output_dir='model_artifactnWikidatatest1L2-2e-5')"
   ]
  },
  {
   "cell_type": "code",
   "execution_count": 12,
   "metadata": {},
   "outputs": [
    {
     "name": "stdout",
     "output_type": "stream",
     "text": [
      "Training the model...\n",
      "LOSS \tA_train\tA_dev\tA_test\t  P  \t  R  \t  F  \n",
      "13.5634\t0.9721\t0.9422\t0.7417\t0.9684\t0.9766\t0.9725\n",
      "2.6012\t0.9802\t0.9740\t0.8427\t0.9800\t0.9808\t0.9804\n",
      "1.4221\t0.9899\t0.9812\t0.8641\t0.9854\t0.9947\t0.9900\n",
      "Saved model to model_artifactwikitest2-2e-5\n"
     ]
    }
   ],
   "source": [
    "### Model 2 - Ensemble, L2 0.0001 \n",
    "train_results2, dev_results2, test_results2 = training(train_texts, train_cats, dev_texts, dev_cats, test_texts2, test_cats2, L2 = 2e-5, \n",
    "                                                     learn_rate = 0.001, n_iter=3,  output_dir='model_artifactwikitest2-2e-5')"
   ]
  },
  {
   "cell_type": "code",
   "execution_count": 14,
   "metadata": {
    "scrolled": true
   },
   "outputs": [
    {
     "name": "stdout",
     "output_type": "stream",
     "text": [
      "Training the model...\n",
      "LOSS \tA_train\tA_dev\tA_test\t  P  \t  R  \t  F  \n",
      "13.6119\t0.9680\t0.9480\t0.9080\t0.9736\t0.9627\t0.9681\n",
      "2.6732\t0.9766\t0.9752\t0.9485\t0.9845\t0.9688\t0.9766\n",
      "2.0029\t0.9815\t0.9802\t0.9510\t0.9876\t0.9756\t0.9816\n",
      "Saved model to model_artifactwikitest12e-4\n"
     ]
    }
   ],
   "source": [
    "# Model 3\n",
    "train_restul3, dev_results3, test_result3 = training(train_texts, train_cats, dev_texts, dev_cats, test_texts1, test_cats1, L2 = 2e-4, \n",
    "                                                     learn_rate = 0.001, n_iter = 3, output_dir='model_artifactwikitest1e-4')"
   ]
  },
  {
   "cell_type": "code",
   "execution_count": 16,
   "metadata": {},
   "outputs": [
    {
     "data": {
      "image/png": "[encoded data removed]",
      "text/plain": [
       "<Figure size 432x288 with 1 Axes>"
      ]
     },
     "metadata": {
      "needs_background": "light"
     },
     "output_type": "display_data"
    }
   ],
   "source": [
    "import matplotlib.pyplot as plt\n",
    "\n",
    "accuracy_train = [(d['textcat_a']) for d in train_results1]\n",
    "accuracy_dev = [(d['textcat_a']) for d in dev_results1]\n",
    "accuracy_test = [(d['textcat_a']) for d in test_results1]\n",
    "accuracy_train1 = [(d['textcat_a']) for d in train_restul3]\n",
    "accuracy_dev1 = [(d['textcat_a']) for d in dev_results3]\n",
    "accuracy_test1 = [(d['textcat_a']) for d in test_result3]\n",
    "epochs = range(0,3)\n",
    "plt.plot(epochs, accuracy_train, 'g', label='Train model1')\n",
    "plt.plot(epochs, accuracy_dev, 'k', label='Val model1')\n",
    "plt.plot(epochs, accuracy_test, 'b', label='Test model1')\n",
    "plt.plot(epochs, accuracy_train1, 'r', label='Train model2')\n",
    "plt.plot(epochs, accuracy_dev1, 'c', label='Val model2')\n",
    "plt.plot(epochs, accuracy_test1, 'y', label='Test model2')\n",
    "plt.title('Training and Validation Accuracy Model 2 =simple_cnn and Model1 = Ensemble')\n",
    "plt.xlabel('Epochs')\n",
    "plt.ylabel('accuracy')\n",
    "plt.legend()\n",
    "plt.savefig(wiki_)\n",
    "plt.show()"
   ]
  },
  {
   "cell_type": "code",
   "execution_count": 29,
   "metadata": {},
   "outputs": [
    {
     "data": {
      "image/png": "[encoded data removed]",
      "text/plain": [
       "<Figure size 432x288 with 1 Axes>"
      ]
     },
     "metadata": {
      "needs_background": "light"
     },
     "output_type": "display_data"
    }
   ],
   "source": [
    "import matplotlib.pyplot as plt\n",
    "\n",
    "accuracy_train = [(d['textcat_a']) for d in train_restul3]\n",
    "accuracy_dev = [(d['textcat_a']) for d in dev_results3]\n",
    "accuracy_test = [(d['textcat_a']) for d in test_result3]\n",
    "\n",
    "epochs = range(0,3)\n",
    "plt.plot(epochs, accuracy_train, 'g', label='Train')\n",
    "plt.plot(epochs, accuracy_dev, 'k', label='Val')\n",
    "plt.plot(epochs, accuracy_test, 'b', label='Test')\n",
    "\n",
    "plt.title('Training, Validation and Test Accuracy')\n",
    "plt.xlabel('Epochs')\n",
    "plt.ylabel('Accuracy')\n",
    "plt.legend()\n",
    "plt.show()"
   ]
  },
  {
   "cell_type": "code",
   "execution_count": 14,
   "metadata": {},
   "outputs": [
    {
     "data": {
      "image/png": "[encoded data removed]",
      "text/plain": [
       "<Figure size 432x288 with 1 Axes>"
      ]
     },
     "metadata": {
      "needs_background": "light"
     },
     "output_type": "display_data"
    }
   ],
   "source": [
    "import matplotlib.pyplot as plt\n",
    "\n",
    "precision_test1 = [(d['textcat_p']) for d in test_results1]\n",
    "precision_test2 = [(d['textcat_p']) for d in test_results2]\n",
    "precision_test3 = [(d['textcat_p']) for d in test_result3]\n",
    "#precision_test4 = [(d['textcat_p']) for d in test_result4]\n",
    "\n",
    "epochs = range(0,5)\n",
    "plt.plot(epochs, precision_test1, 'g', label='1 - LR')\n",
    "plt.plot(epochs, precision_test2, 'b', label='2 - LR :2e-4&cnn')\n",
    "plt.plot(epochs, precision_test3, 'r', label='3')\n",
    "#plt.plot(epochs, precision_test4, 'c', label='4')\n",
    "plt.title('Training and Validation precision 1 = =simple_cnn')\n",
    "plt.xlabel('Epochs')\n",
    "plt.ylabel('precision')\n",
    "plt.legend()\n",
    "plt.show()"
   ]
  },
  {
   "cell_type": "code",
   "execution_count": 18,
   "metadata": {},
   "outputs": [],
   "source": [
    "import spacy\n"
   ]
  },
  {
   "cell_type": "code",
   "execution_count": 17,
   "metadata": {
    "scrolled": true
   },
   "outputs": [
    {
     "data": {
      "text/plain": [
       "{'POSITIVE': 0.873071014881134, 'NEGATIVE': 0.12692900002002716}"
      ]
     },
     "execution_count": 17,
     "metadata": {},
     "output_type": "execute_result"
    }
   ],
   "source": [
    "# Testing the model - negative sentence\n",
    "import spacy\n",
    "loaded_model = spacy.load('E:/Sharpest_Mind/WikipediaCitation/src/Models/model_artifactnWikidataL2-2e-4')\n",
    "test_text=\"Later, during the Age of Exploration, maps became progressively more accurate for navigation needs and were often sprinkled with sketches and drawings such as sailing ships showing the direction of trade winds, little trees and mounds to represent forests and mountains and of course, plenty of sea creatures and exotic natives much of them imaginary. \"\n",
    "doc=loaded_model(test_text)\n",
    "doc.cats\n",
    "#spacy.displacy.render(doc, style='ent')"
   ]
  },
  {
   "cell_type": "code",
   "execution_count": 14,
   "metadata": {},
   "outputs": [
    {
     "data": {
      "text/plain": [
       "{'POSITIVE': 0.6513391137123108, 'NEGATIVE': 0.348660945892334}"
      ]
     },
     "execution_count": 14,
     "metadata": {},
     "output_type": "execute_result"
    }
   ],
   "source": [
    "#positive sentence \n",
    "\n",
    "test_text1 = 'Anthropomorphic maps date back to when Sebastian Münster used a queen to depict Europe in 1570.'\n",
    "doc=loaded_model(test_text1)\n",
    "doc.cats"
   ]
  },
  {
   "cell_type": "code",
   "execution_count": 15,
   "metadata": {},
   "outputs": [
    {
     "data": {
      "text/plain": [
       "{'POSITIVE': 0.9168311357498169, 'NEGATIVE': 0.0831688940525055}"
      ]
     },
     "execution_count": 15,
     "metadata": {},
     "output_type": "execute_result"
    }
   ],
   "source": [
    "# Testing the model = https://en.wikipedia.org/wiki/Che_Guevara - positive sentence\n",
    "test_text= \"Such positions also allowed him to play a central role in training the militia forces who repelled the Bay of Pigs Invasion and bringing the Soviet nuclear-armed ballistic missiles to Cuba which precipitated the 1962 Cuban Missile Crisis. \"\n",
    "doc=loaded_model(test_text)\n",
    "doc.cats"
   ]
  },
  {
   "cell_type": "code",
   "execution_count": 16,
   "metadata": {},
   "outputs": [
    {
     "data": {
      "text/plain": [
       "{'POSITIVE': 0.9998383522033691, 'NEGATIVE': 0.00016162007523234934}"
      ]
     },
     "execution_count": 16,
     "metadata": {},
     "output_type": "execute_result"
    }
   ],
   "source": [
    "# Testing the model = https://en.wikipedia.org/wiki/Che_Guevara - positive sentence\n",
    "test_text= \"'The focus of research during the 20th century has been to understand the physical mechanisms behind friction.'\"\n",
    "doc=loaded_model(test_text)\n",
    "doc.cats\n"
   ]
  },
  {
   "cell_type": "code",
   "execution_count": null,
   "metadata": {},
   "outputs": [],
   "source": []
  },
  {
   "cell_type": "code",
   "execution_count": null,
   "metadata": {},
   "outputs": [],
   "source": []
  }
 ],
 "metadata": {
  "kernelspec": {
   "display_name": "Python 3",
   "language": "python",
   "name": "python3"
  },
  "language_info": {
   "codemirror_mode": {
    "name": "ipython",
    "version": 3
   },
   "file_extension": ".py",
   "mimetype": "text/x-python",
   "name": "python",
   "nbconvert_exporter": "python",
   "pygments_lexer": "ipython3",
   "version": "3.7.3"
  },
  "toc": {
   "base_numbering": 1,
   "nav_menu": {},
   "number_sections": true,
   "sideBar": true,
   "skip_h1_title": true,
   "title_cell": "Table of Contents",
   "title_sidebar": "Contents",
   "toc_cell": true,
   "toc_position": {},
   "toc_section_display": true,
   "toc_window_display": false
  }
 },
 "nbformat": 4,
 "nbformat_minor": 4
}
