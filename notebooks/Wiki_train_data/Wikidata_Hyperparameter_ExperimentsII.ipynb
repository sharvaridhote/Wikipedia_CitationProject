{
 "cells": [
  {
   "cell_type": "markdown",
   "metadata": {
    "toc": true
   },
   "source": [
    "<h1>Table of Contents<span class=\"tocSkip\"></span></h1>\n",
    "<div class=\"toc\"><ul class=\"toc-item\"></ul></div>"
   ]
  },
  {
   "cell_type": "code",
   "execution_count": 1,
   "metadata": {
    "scrolled": true
   },
   "outputs": [],
   "source": [
    "import pandas as pd\n",
    "import unicodedata\n",
    "import random\n",
    "from train import training\n",
    "from util import load_data, evaluate,  df_tolist\n",
    "from sklearn.utils import shuffle"
   ]
  },
  {
   "cell_type": "code",
   "execution_count": 2,
   "metadata": {},
   "outputs": [
    {
     "name": "stdout",
     "output_type": "stream",
     "text": [
      "(19998, 2)\n",
      "1    9999\n",
      "0    9999\n",
      "Name: label, dtype: int64\n"
     ]
    },
    {
     "data": {
      "text/html": [
       "<div>\n",
       "<style scoped>\n",
       "    .dataframe tbody tr th:only-of-type {\n",
       "        vertical-align: middle;\n",
       "    }\n",
       "\n",
       "    .dataframe tbody tr th {\n",
       "        vertical-align: top;\n",
       "    }\n",
       "\n",
       "    .dataframe thead th {\n",
       "        text-align: right;\n",
       "    }\n",
       "</style>\n",
       "<table border=\"1\" class=\"dataframe\">\n",
       "  <thead>\n",
       "    <tr style=\"text-align: right;\">\n",
       "      <th></th>\n",
       "      <th>Statements</th>\n",
       "      <th>label</th>\n",
       "    </tr>\n",
       "  </thead>\n",
       "  <tbody>\n",
       "    <tr>\n",
       "      <th>9197</th>\n",
       "      <td>Now that the Romans and Gauls had blooded one ...</td>\n",
       "      <td>1</td>\n",
       "    </tr>\n",
       "    <tr>\n",
       "      <th>7551</th>\n",
       "      <td>Immediately after Ismay's regiment returned fr...</td>\n",
       "      <td>1</td>\n",
       "    </tr>\n",
       "    <tr>\n",
       "      <th>2639</th>\n",
       "      <td>In total, he scored 16 centuries—setting a rec...</td>\n",
       "      <td>1</td>\n",
       "    </tr>\n",
       "    <tr>\n",
       "      <th>17878</th>\n",
       "      <td>Enzymes may use several of these mechanisms si...</td>\n",
       "      <td>0</td>\n",
       "    </tr>\n",
       "    <tr>\n",
       "      <th>1742</th>\n",
       "      <td>When Angelou was concerned about what her read...</td>\n",
       "      <td>1</td>\n",
       "    </tr>\n",
       "  </tbody>\n",
       "</table>\n",
       "</div>"
      ],
      "text/plain": [
       "                                              Statements  label\n",
       "9197   Now that the Romans and Gauls had blooded one ...      1\n",
       "7551   Immediately after Ismay's regiment returned fr...      1\n",
       "2639   In total, he scored 16 centuries—setting a rec...      1\n",
       "17878  Enzymes may use several of these mechanisms si...      0\n",
       "1742   When Angelou was concerned about what her read...      1"
      ]
     },
     "execution_count": 2,
     "metadata": {},
     "output_type": "execute_result"
    }
   ],
   "source": [
    "# change to dataframe to Spacy format\n",
    "# wikidata featured articles scraped text\n",
    "df = pd.read_csv('E:/Sharpest_Mind/WikipediaCitation/notebooks/wiki_data.csv', encoding = 'utf8')\n",
    "#df= df[(df['Statements'].str.split().str.len() >20)].reset_index(drop=True)\n",
    "df = shuffle(df)\n",
    "print(df.shape)\n",
    "print(df.label.value_counts())\n",
    "df.head()"
   ]
  },
  {
   "cell_type": "code",
   "execution_count": 3,
   "metadata": {},
   "outputs": [
    {
     "name": "stdout",
     "output_type": "stream",
     "text": [
      "[('As Peter Bebergal explains in The Boston Globe, \"Instead of fetishizing blood, Kostova fetishizes documents (manuscripts, maps, letters) and the places that house them (libraries, archives and monasteries).\" As one critic explains, \"the real horror rests in the possibility of what Dracula truly is\"', {'cats': {'POSITIVE': True, 'NEGATIVE': False}})]\n",
      "[(' Essential equipment from the Red Cross and the Pan American Health Organization was stored in the elevated UNICEF building and the Belize City UN building was converted to a crisis center.', {'cats': {'POSITIVE': True, 'NEGATIVE': False}})]\n"
     ]
    },
    {
     "name": "stderr",
     "output_type": "stream",
     "text": [
      "E:\\Sharpest_Mind\\WikipediaCitation\\notebooks\\util.py:78: SettingWithCopyWarning: \n",
      "A value is trying to be set on a copy of a slice from a DataFrame.\n",
      "Try using .loc[row_indexer,col_indexer] = value instead\n",
      "\n",
      "See the caveats in the documentation: https://pandas.pydata.org/pandas-docs/stable/user_guide/indexing.html#returning-a-view-versus-a-copy\n",
      "  df['tuples'] = df.apply(lambda row: (row[df.columns[0]], row[df.columns[1]]), axis=1)\n"
     ]
    }
   ],
   "source": [
    "# Processing the final format of training and validation data\n",
    "# Calling the load_data() function \n",
    "(train_texts, train_cats), (dev_texts, dev_cats) = load_data(df,split=0.8)\n",
    "train_data = list(zip(train_texts,[{'cats': cats} for cats in train_cats]))\n",
    "print(train_data[:1])\n",
    "dev_data = list(zip(dev_texts,[{'cats': cats} for cats in dev_cats]))\n",
    "print(dev_data[:1])\n"
   ]
  },
  {
   "cell_type": "code",
   "execution_count": 4,
   "metadata": {},
   "outputs": [
    {
     "name": "stdout",
     "output_type": "stream",
     "text": [
      "(19998, 2)\n"
     ]
    }
   ],
   "source": [
    "# Converting the dataframe into a list of tuples\n",
    "# change to dataframe to Spacy format\n",
    "# wikidata citation needed text\n",
    "df1 = pd.read_csv('E:/Sharpest_Mind/WikipediaCitation/data/processed/csv_files/sort/Citation_needed_wiki.csv', encoding = 'ISO-8859-1')\n",
    "df1 = shuffle(df1)\n",
    "test1 =df_tolist(df1)\n",
    "print(df1.shape)\n",
    "random.shuffle(test1)\n",
    "\n",
    "test_texts1, test_cats1 = zip(*test1[:8000])\n",
    "test_cats1 = [{\"POSITIVE\": bool(y), \"NEGATIVE\": not bool(y)} for y in test_cats1]\n",
    "test_data1 = list(zip(test_texts1,[{'cats': cats} for cats in test_cats1]))"
   ]
  },
  {
   "cell_type": "code",
   "execution_count": 5,
   "metadata": {},
   "outputs": [
    {
     "name": "stdout",
     "output_type": "stream",
     "text": [
      "(19980, 2)\n"
     ]
    }
   ],
   "source": [
    "# Converting the dataframe into a list of tuples\n",
    "# wikidata random articles -biography section\n",
    "df2 = pd.read_csv('E:/Sharpest_Mind/WikipediaCitation/data/processed/csv_files/sort/wiki_data_test.csv', encoding = 'ISO-8859-1')\n",
    "df2 = shuffle(df2)\n",
    "test2 =df_tolist(df2)\n",
    "print(df2.shape)\n",
    "random.shuffle(test2)\n",
    "\n",
    "test_texts2, test_cats2 = zip(*test2[:8000])\n",
    "test_cats2 = [{\"POSITIVE\": bool(y), \"NEGATIVE\": not bool(y)} for y in test_cats2]\n",
    "test_data2 = list(zip(test_texts2,[{'cats': cats} for cats in test_cats2]))"
   ]
  },
  {
   "cell_type": "code",
   "execution_count": 6,
   "metadata": {},
   "outputs": [
    {
     "name": "stdout",
     "output_type": "stream",
     "text": [
      "15998\n",
      "8000\n",
      "8000\n",
      "4000\n"
     ]
    }
   ],
   "source": [
    "print(len(train_data))\n",
    "print(len(test_data1))\n",
    "print(len(test_data2))\n",
    "print(len(dev_data))"
   ]
  },
  {
   "cell_type": "code",
   "execution_count": 8,
   "metadata": {
    "scrolled": true
   },
   "outputs": [
    {
     "name": "stdout",
     "output_type": "stream",
     "text": [
      "Training the model...\n",
      "LOSS \tA_train\tA_dev\tA_test\t  P  \t  R  \n",
      "13.9073\t0.8868\t0.9620\t0.9204\t0.9943\t0.7790\t0.8736\n",
      "2.3184\t0.9786\t0.9757\t0.9487\t0.9829\t0.9742\t0.9786\n",
      "1.4220\t0.9823\t0.9777\t0.9492\t0.9855\t0.9792\t0.9823\n",
      "1.7185\t0.9860\t0.9772\t0.9492\t0.9783\t0.9941\t0.9862\n",
      "1.5740\t0.9840\t0.9785\t0.9482\t0.9720\t0.9969\t0.9843\n",
      "Saved model to model_artifactnWikidataL2-2e-4\n"
     ]
    }
   ],
   "source": [
    "# Model 1 - Ensemble, L2 =2e-4\n",
    "train_results1, dev_results1, test_results1 = training(train_texts, train_cats, dev_texts, dev_cats, test_texts1, test_cats1, L2 = 2e-4, \n",
    "                                                     learn_rate = 0.001, output_dir='model_artifactnWikidataL2-2e-4')"
   ]
  },
  {
   "cell_type": "code",
   "execution_count": 15,
   "metadata": {},
   "outputs": [
    {
     "name": "stdout",
     "output_type": "stream",
     "text": [
      "Training the model...\n",
      "LOSS \tA_train\tA_dev\tA_test\t  P  \t  R  \n",
      "13.8150\t0.9763\t0.9682\t0.9290\t0.9609\t0.9933\t0.9768\n",
      "3.1039\t0.9779\t0.9780\t0.9370\t0.9605\t0.9969\t0.9784\n",
      "2.4054\t0.9787\t0.9785\t0.9389\t0.9618\t0.9971\t0.9792\n",
      "2.1468\t0.9776\t0.9772\t0.9394\t0.9636\t0.9928\t0.9780\n",
      "2.1722\t0.9787\t0.9775\t0.9405\t0.9625\t0.9964\t0.9791\n",
      "Saved model to model_artifactwikitest2-2e-3\n"
     ]
    }
   ],
   "source": [
    "### Model 2 - Ensemble, L2 0.0001 \n",
    "train_results2, dev_results2, test_results2 = training(train_texts, train_cats, dev_texts, dev_cats, test_texts2, test_cats2, L2 = 2e-3, \n",
    "                                                     learn_rate = 0.001, output_dir='model_artifactwikitest2-2e-3')"
   ]
  },
  {
   "cell_type": "code",
   "execution_count": 10,
   "metadata": {
    "scrolled": true
   },
   "outputs": [
    {
     "name": "stdout",
     "output_type": "stream",
     "text": [
      "Training the model...\n",
      "LOSS \tA_train\tA_dev\tA_test\t  P  \t  R  \n",
      "14.0433\t0.9737\t0.9362\t0.8875\t0.9636\t0.9848\t0.9741\n",
      "2.6601\t0.9824\t0.9750\t0.9455\t0.9728\t0.9928\t0.9827\n",
      "1.8663\t0.9834\t0.9772\t0.9499\t0.9712\t0.9964\t0.9837\n",
      "1.7813\t0.9841\t0.9770\t0.9499\t0.9735\t0.9954\t0.9843\n",
      "1.6244\t0.9822\t0.9775\t0.9506\t0.9697\t0.9958\t0.9826\n",
      "Saved model to model_artifactnewdataLensemble\n"
     ]
    }
   ],
   "source": [
    "# Model 3\n",
    "train_restul3, dev_results3, test_result3 = training(train_texts, train_cats, dev_texts, dev_cats, test_texts1, test_cats1, L2 = 2e-4, \n",
    "                                                     learn_rate = 0.001, output_dir='model_artifactnewdataLensemble')"
   ]
  },
  {
   "cell_type": "code",
   "execution_count": 12,
   "metadata": {},
   "outputs": [
    {
     "data": {
      "image/png": "[encoded data removed]",
      "text/plain": [
       "<Figure size 432x288 with 1 Axes>"
      ]
     },
     "metadata": {
      "needs_background": "light"
     },
     "output_type": "display_data"
    }
   ],
   "source": [
    "import matplotlib.pyplot as plt\n",
    "\n",
    "accuracy_train = [(d['textcat_a']) for d in train_results1]\n",
    "accuracy_dev = [(d['textcat_a']) for d in dev_results1]\n",
    "accuracy_test = [(d['textcat_a']) for d in test_results1]\n",
    "accuracy_train1 = [(d['textcat_a']) for d in train_restul3]\n",
    "accuracy_dev1 = [(d['textcat_a']) for d in dev_results3]\n",
    "accuracy_test1 = [(d['textcat_a']) for d in test_result3]\n",
    "epochs = range(0,5)\n",
    "plt.plot(epochs, accuracy_train, 'g', label='Train model1')\n",
    "plt.plot(epochs, accuracy_dev, 'k', label='Val model1')\n",
    "plt.plot(epochs, accuracy_test, 'b', label='Test model1')\n",
    "plt.plot(epochs, accuracy_train1, 'r', label='Train model2')\n",
    "plt.plot(epochs, accuracy_dev1, 'c', label='Vali model2')\n",
    "plt.plot(epochs, accuracy_test1, 'y', label='Test model2')\n",
    "plt.title('Training and Validation Accuracy Model 2 =simple_cnn and Model1 = Ensemble')\n",
    "plt.xlabel('Epochs')\n",
    "plt.ylabel('accuracy')\n",
    "plt.legend()\n",
    "plt.show()"
   ]
  },
  {
   "cell_type": "code",
   "execution_count": 13,
   "metadata": {},
   "outputs": [
    {
     "data": {
      "image/png": "[encoded data removed]",
      "text/plain": [
       "<Figure size 432x288 with 1 Axes>"
      ]
     },
     "metadata": {
      "needs_background": "light"
     },
     "output_type": "display_data"
    }
   ],
   "source": [
    "import matplotlib.pyplot as plt\n",
    "\n",
    "accuracy_train = [(d['textcat_a']) for d in train_restul3]\n",
    "accuracy_dev = [(d['textcat_a']) for d in dev_results3]\n",
    "accuracy_test = [(d['textcat_a']) for d in test_result3]\n",
    "\n",
    "epochs = range(0,5)\n",
    "plt.plot(epochs, accuracy_train, 'g', label='Training accuracy_model1')\n",
    "plt.plot(epochs, accuracy_dev, 'k', label='Validation accuracy_model1')\n",
    "plt.plot(epochs, accuracy_test, 'b', label='Testing accuracy_model1')\n",
    "\n",
    "plt.title('Training and Validation Accuracy LR2=0.1 Model1 = Ensemble, Model 2 =simple_cnn')\n",
    "plt.xlabel('Epochs')\n",
    "plt.ylabel('accuracy')\n",
    "plt.legend()\n",
    "plt.show()"
   ]
  },
  {
   "cell_type": "code",
   "execution_count": 14,
   "metadata": {},
   "outputs": [
    {
     "data": {
      "image/png": "[encoded data removed]",
      "text/plain": [
       "<Figure size 432x288 with 1 Axes>"
      ]
     },
     "metadata": {
      "needs_background": "light"
     },
     "output_type": "display_data"
    }
   ],
   "source": [
    "import matplotlib.pyplot as plt\n",
    "\n",
    "precision_test1 = [(d['textcat_p']) for d in test_results1]\n",
    "precision_test2 = [(d['textcat_p']) for d in test_results2]\n",
    "precision_test3 = [(d['textcat_p']) for d in test_result3]\n",
    "#precision_test4 = [(d['textcat_p']) for d in test_result4]\n",
    "\n",
    "epochs = range(0,5)\n",
    "plt.plot(epochs, precision_test1, 'g', label='1 - LR :2e-4&cnn')\n",
    "plt.plot(epochs, precision_test2, 'b', label='2 - LR :2e-4&cnn')\n",
    "plt.plot(epochs, precision_test3, 'r', label='3')\n",
    "#plt.plot(epochs, precision_test4, 'c', label='4')\n",
    "plt.title('Training and Validation precision 1 = =simple_cnn')\n",
    "plt.xlabel('Epochs')\n",
    "plt.ylabel('precision')\n",
    "plt.legend()\n",
    "plt.show()"
   ]
  },
  {
   "cell_type": "code",
   "execution_count": 30,
   "metadata": {},
   "outputs": [
    {
     "data": {
      "text/plain": [
       "{'POSITIVE': 0.9115933775901794, 'NEGATIVE': 0.08840657770633698}"
      ]
     },
     "execution_count": 30,
     "metadata": {},
     "output_type": "execute_result"
    }
   ],
   "source": [
    "# Testing the model = https://en.wikipedia.org/wiki/Che_Guevara - positive sentence\n",
    "test_text= \"Such positions also allowed him to play a central role in training the militia forces who repelled the Bay of Pigs Invasion and bringing the Soviet nuclear-armed ballistic missiles to Cuba which precipitated the 1962 Cuban Missile Crisis. \"\n",
    "doc=loaded_model(test_text)\n",
    "doc.cats"
   ]
  },
  {
   "cell_type": "code",
   "execution_count": 18,
   "metadata": {},
   "outputs": [],
   "source": [
    "import spacy\n"
   ]
  },
  {
   "cell_type": "code",
   "execution_count": 26,
   "metadata": {
    "scrolled": true
   },
   "outputs": [
    {
     "data": {
      "text/plain": [
       "{'POSITIVE': 0.22626976668834686, 'NEGATIVE': 0.7737302184104919}"
      ]
     },
     "execution_count": 26,
     "metadata": {},
     "output_type": "execute_result"
    }
   ],
   "source": [
    "# Testing the model - negative sentence\n",
    "\n",
    "loaded_model = spacy.load('E:/Sharpest_Mind/WikipediaCitation/notebooks/model_artifactwikitest2-2e-3')\n",
    "test_text=\"Later, during the Age of Exploration, maps became progressively more accurate for navigation needs and were often sprinkled with sketches and drawings such as sailing ships showing the direction of trade winds, little trees and mounds to represent forests and mountains and of course, plenty of sea creatures and exotic natives much of them imaginary. As the need for geographical accuracy increased, these illustrations gradually slipped off the map and onto the borders and eventually disappeared altogether in the wake of modern scientific cartography.\"\n",
    "doc=loaded_model(test_text)\n",
    "doc.cats\n",
    "#spacy.displacy.render(doc, style='ent')"
   ]
  },
  {
   "cell_type": "code",
   "execution_count": 28,
   "metadata": {},
   "outputs": [
    {
     "data": {
      "text/plain": [
       "{'POSITIVE': 0.924649178981781, 'NEGATIVE': 0.07535083591938019}"
      ]
     },
     "execution_count": 28,
     "metadata": {},
     "output_type": "execute_result"
    }
   ],
   "source": [
    "#positive sentence \n",
    "\n",
    "test_text1 = 'Anthropomorphic maps date back to when Sebastian Münster used a queen to depict Europe in 1570.'\n",
    "doc=loaded_model(test_text1)\n",
    "doc.cats"
   ]
  },
  {
   "cell_type": "code",
   "execution_count": null,
   "metadata": {},
   "outputs": [],
   "source": []
  }
 ],
 "metadata": {
  "kernelspec": {
   "display_name": "Python 3",
   "language": "python",
   "name": "python3"
  },
  "language_info": {
   "codemirror_mode": {
    "name": "ipython",
    "version": 3
   },
   "file_extension": ".py",
   "mimetype": "text/x-python",
   "name": "python",
   "nbconvert_exporter": "python",
   "pygments_lexer": "ipython3",
   "version": "3.7.3"
  },
  "toc": {
   "base_numbering": 1,
   "nav_menu": {},
   "number_sections": true,
   "sideBar": true,
   "skip_h1_title": true,
   "title_cell": "Table of Contents",
   "title_sidebar": "Contents",
   "toc_cell": true,
   "toc_position": {},
   "toc_section_display": true,
   "toc_window_display": false
  }
 },
 "nbformat": 4,
 "nbformat_minor": 4
}
