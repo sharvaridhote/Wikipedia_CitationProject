{
 "cells": [
  {
   "cell_type": "markdown",
   "metadata": {
    "toc": true
   },
   "source": [
    "<h1>Table of Contents<span class=\"tocSkip\"></span></h1>\n",
    "<div class=\"toc\"><ul class=\"toc-item\"><li><ul class=\"toc-item\"><li><span><a href=\"#03-Advanced-spaCy\" data-toc-modified-id=\"03-Advanced-spaCy-0.1\"><span class=\"toc-item-num\">0.1&nbsp;&nbsp;</span>03 Advanced spaCy</a></span></li></ul></li><li><span><a href=\"#Transfer-Learning\" data-toc-modified-id=\"Transfer-Learning-1\"><span class=\"toc-item-num\">1&nbsp;&nbsp;</span>Transfer Learning</a></span></li></ul></div>"
   ]
  },
  {
   "cell_type": "markdown",
   "metadata": {
    "id": "ckv7e-gSp84P"
   },
   "source": [
    "# SpaCy Tutorial\n",
    "#### 03 Advanced spaCy"
   ]
  },
  {
   "cell_type": "code",
   "execution_count": 1,
   "metadata": {
    "colab": {
     "base_uri": "https://localhost:8080/"
    },
    "executionInfo": {
     "elapsed": 1532,
     "status": "ok",
     "timestamp": 1611592909418,
     "user": {
      "displayName": "Sharvari Desai",
      "photoUrl": "https://lh3.googleusercontent.com/a-/AOh14GjLQLnoBdWLbLrUtTZZ1D3q860BJquimYTOc0pJrg=s64",
      "userId": "10233909681194041221"
     },
     "user_tz": 300
    },
    "id": "hTEm3pCTp_v6",
    "outputId": "6e0bcf27-9fc4-495e-ca51-9b4bf3cf3498"
   },
   "outputs": [
    {
     "name": "stdout",
     "output_type": "stream",
     "text": [
      "Mounted at /content/drive\n"
     ]
    }
   ],
   "source": [
    "from google.colab import drive\n",
    "drive.mount('/content/drive',force_remount=True)"
   ]
  },
  {
   "cell_type": "code",
   "execution_count": 1,
   "metadata": {
    "colab": {
     "base_uri": "https://localhost:8080/"
    },
    "executionInfo": {
     "elapsed": 79995,
     "status": "ok",
     "timestamp": 1611589077440,
     "user": {
      "displayName": "Sharvari Desai",
      "photoUrl": "https://lh3.googleusercontent.com/a-/AOh14GjLQLnoBdWLbLrUtTZZ1D3q860BJquimYTOc0pJrg=s64",
      "userId": "10233909681194041221"
     },
     "user_tz": 300
    },
    "id": "v5we_AJlzytj",
    "outputId": "4b55dc7e-c565-4f9f-b195-f0c53bf6e1d2"
   },
   "outputs": [
    {
     "name": "stdout",
     "output_type": "stream",
     "text": [
      "Collecting spacy==2.3.0\n",
      "\u001b[?25l  Downloading https://files.pythonhosted.org/packages/31/c7/e66e2af1cfa418c3a3917c116c4e00ccffa546f18f59e6acd7953d833c5c/spacy-2.3.0-cp36-cp36m-manylinux1_x86_64.whl (10.0MB)\n",
      "\u001b[K     |████████████████████████████████| 10.0MB 9.3MB/s \n",
      "\u001b[?25hRequirement already satisfied: tqdm<5.0.0,>=4.38.0 in /usr/local/lib/python3.6/dist-packages (from spacy==2.3.0) (4.41.1)\n",
      "Requirement already satisfied: preshed<3.1.0,>=3.0.2 in /usr/local/lib/python3.6/dist-packages (from spacy==2.3.0) (3.0.5)\n",
      "Requirement already satisfied: murmurhash<1.1.0,>=0.28.0 in /usr/local/lib/python3.6/dist-packages (from spacy==2.3.0) (1.0.5)\n",
      "Requirement already satisfied: plac<1.2.0,>=0.9.6 in /usr/local/lib/python3.6/dist-packages (from spacy==2.3.0) (1.1.3)\n",
      "Requirement already satisfied: numpy>=1.15.0 in /usr/local/lib/python3.6/dist-packages (from spacy==2.3.0) (1.19.5)\n",
      "Requirement already satisfied: blis<0.5.0,>=0.4.0 in /usr/local/lib/python3.6/dist-packages (from spacy==2.3.0) (0.4.1)\n",
      "Collecting thinc==7.4.1\n",
      "\u001b[?25l  Downloading https://files.pythonhosted.org/packages/10/ae/ef3ae5e93639c0ef8e3eb32e3c18341e511b3c515fcfc603f4b808087651/thinc-7.4.1-cp36-cp36m-manylinux1_x86_64.whl (2.1MB)\n",
      "\u001b[K     |████████████████████████████████| 2.1MB 55.9MB/s \n",
      "\u001b[?25hRequirement already satisfied: wasabi<1.1.0,>=0.4.0 in /usr/local/lib/python3.6/dist-packages (from spacy==2.3.0) (0.8.0)\n",
      "Requirement already satisfied: cymem<2.1.0,>=2.0.2 in /usr/local/lib/python3.6/dist-packages (from spacy==2.3.0) (2.0.5)\n",
      "Requirement already satisfied: srsly<1.1.0,>=1.0.2 in /usr/local/lib/python3.6/dist-packages (from spacy==2.3.0) (1.0.5)\n",
      "Requirement already satisfied: setuptools in /usr/local/lib/python3.6/dist-packages (from spacy==2.3.0) (51.3.3)\n",
      "Requirement already satisfied: requests<3.0.0,>=2.13.0 in /usr/local/lib/python3.6/dist-packages (from spacy==2.3.0) (2.23.0)\n",
      "Requirement already satisfied: catalogue<1.1.0,>=0.0.7 in /usr/local/lib/python3.6/dist-packages (from spacy==2.3.0) (1.0.0)\n",
      "Requirement already satisfied: urllib3!=1.25.0,!=1.25.1,<1.26,>=1.21.1 in /usr/local/lib/python3.6/dist-packages (from requests<3.0.0,>=2.13.0->spacy==2.3.0) (1.24.3)\n",
      "Requirement already satisfied: chardet<4,>=3.0.2 in /usr/local/lib/python3.6/dist-packages (from requests<3.0.0,>=2.13.0->spacy==2.3.0) (3.0.4)\n",
      "Requirement already satisfied: certifi>=2017.4.17 in /usr/local/lib/python3.6/dist-packages (from requests<3.0.0,>=2.13.0->spacy==2.3.0) (2020.12.5)\n",
      "Requirement already satisfied: idna<3,>=2.5 in /usr/local/lib/python3.6/dist-packages (from requests<3.0.0,>=2.13.0->spacy==2.3.0) (2.10)\n",
      "Requirement already satisfied: importlib-metadata>=0.20; python_version < \"3.8\" in /usr/local/lib/python3.6/dist-packages (from catalogue<1.1.0,>=0.0.7->spacy==2.3.0) (3.3.0)\n",
      "Requirement already satisfied: typing-extensions>=3.6.4; python_version < \"3.8\" in /usr/local/lib/python3.6/dist-packages (from importlib-metadata>=0.20; python_version < \"3.8\"->catalogue<1.1.0,>=0.0.7->spacy==2.3.0) (3.7.4.3)\n",
      "Requirement already satisfied: zipp>=0.5 in /usr/local/lib/python3.6/dist-packages (from importlib-metadata>=0.20; python_version < \"3.8\"->catalogue<1.1.0,>=0.0.7->spacy==2.3.0) (3.4.0)\n",
      "Installing collected packages: thinc, spacy\n",
      "  Found existing installation: thinc 7.4.0\n",
      "    Uninstalling thinc-7.4.0:\n",
      "      Successfully uninstalled thinc-7.4.0\n",
      "  Found existing installation: spacy 2.2.4\n",
      "    Uninstalling spacy-2.2.4:\n",
      "      Successfully uninstalled spacy-2.2.4\n",
      "Successfully installed spacy-2.3.0 thinc-7.4.1\n",
      "\u001b[2K\u001b[38;5;2m✔ Loaded compatibility table\u001b[0m\n",
      "\u001b[1m\n",
      "====================== Installed models (spaCy v2.3.0) ======================\u001b[0m\n",
      "\u001b[38;5;4mℹ spaCy installation: /usr/local/lib/python3.6/dist-packages/spacy\u001b[0m\n",
      "\n",
      "TYPE      NAME             MODEL            VERSION                       \n",
      "package   en-core-web-sm   en_core_web_sm   \u001b[38;5;1m2.2.5\u001b[0m   --> 2.3.0\n",
      "\n",
      "\u001b[1m\n",
      "============================== Install updates ==============================\u001b[0m\n",
      "Use the following commands to update the model packages:\n",
      "python -m spacy download en_core_web_sm\n",
      "\n",
      "Collecting en_trf_bertbaseuncased_lg==2.3.0\n",
      "\u001b[?25l  Downloading https://github.com/explosion/spacy-models/releases/download/en_trf_bertbaseuncased_lg-2.3.0/en_trf_bertbaseuncased_lg-2.3.0.tar.gz (405.8MB)\n",
      "\u001b[K     |████████████████████████████████| 405.8MB 163.0MB/s \n",
      "\u001b[?25hRequirement already satisfied: spacy<2.4.0,>=2.3.0 in /usr/local/lib/python3.6/dist-packages (from en_trf_bertbaseuncased_lg==2.3.0) (2.3.0)\n",
      "Collecting spacy-transformers<0.7.0,>=0.6.1\n",
      "\u001b[?25l  Downloading https://files.pythonhosted.org/packages/20/f1/a0650c162802457308e579162d0bb9cad1a514c3d09f6562889f746d61f6/spacy_transformers-0.6.2-py2.py3-none-any.whl (54kB)\n",
      "\u001b[K     |████████████████████████████████| 61kB 17.7MB/s \n",
      "\u001b[?25hRequirement already satisfied: plac<1.2.0,>=0.9.6 in /usr/local/lib/python3.6/dist-packages (from spacy<2.4.0,>=2.3.0->en_trf_bertbaseuncased_lg==2.3.0) (1.1.3)\n",
      "Requirement already satisfied: cymem<2.1.0,>=2.0.2 in /usr/local/lib/python3.6/dist-packages (from spacy<2.4.0,>=2.3.0->en_trf_bertbaseuncased_lg==2.3.0) (2.0.5)\n",
      "Requirement already satisfied: requests<3.0.0,>=2.13.0 in /usr/local/lib/python3.6/dist-packages (from spacy<2.4.0,>=2.3.0->en_trf_bertbaseuncased_lg==2.3.0) (2.23.0)\n",
      "Requirement already satisfied: thinc==7.4.1 in /usr/local/lib/python3.6/dist-packages (from spacy<2.4.0,>=2.3.0->en_trf_bertbaseuncased_lg==2.3.0) (7.4.1)\n",
      "Requirement already satisfied: srsly<1.1.0,>=1.0.2 in /usr/local/lib/python3.6/dist-packages (from spacy<2.4.0,>=2.3.0->en_trf_bertbaseuncased_lg==2.3.0) (1.0.5)\n",
      "Requirement already satisfied: wasabi<1.1.0,>=0.4.0 in /usr/local/lib/python3.6/dist-packages (from spacy<2.4.0,>=2.3.0->en_trf_bertbaseuncased_lg==2.3.0) (0.8.0)\n",
      "Requirement already satisfied: blis<0.5.0,>=0.4.0 in /usr/local/lib/python3.6/dist-packages (from spacy<2.4.0,>=2.3.0->en_trf_bertbaseuncased_lg==2.3.0) (0.4.1)\n",
      "Requirement already satisfied: catalogue<1.1.0,>=0.0.7 in /usr/local/lib/python3.6/dist-packages (from spacy<2.4.0,>=2.3.0->en_trf_bertbaseuncased_lg==2.3.0) (1.0.0)\n",
      "Requirement already satisfied: tqdm<5.0.0,>=4.38.0 in /usr/local/lib/python3.6/dist-packages (from spacy<2.4.0,>=2.3.0->en_trf_bertbaseuncased_lg==2.3.0) (4.41.1)\n",
      "Requirement already satisfied: preshed<3.1.0,>=3.0.2 in /usr/local/lib/python3.6/dist-packages (from spacy<2.4.0,>=2.3.0->en_trf_bertbaseuncased_lg==2.3.0) (3.0.5)\n",
      "Requirement already satisfied: setuptools in /usr/local/lib/python3.6/dist-packages (from spacy<2.4.0,>=2.3.0->en_trf_bertbaseuncased_lg==2.3.0) (51.3.3)\n",
      "Requirement already satisfied: murmurhash<1.1.0,>=0.28.0 in /usr/local/lib/python3.6/dist-packages (from spacy<2.4.0,>=2.3.0->en_trf_bertbaseuncased_lg==2.3.0) (1.0.5)\n",
      "Requirement already satisfied: numpy>=1.15.0 in /usr/local/lib/python3.6/dist-packages (from spacy<2.4.0,>=2.3.0->en_trf_bertbaseuncased_lg==2.3.0) (1.19.5)\n",
      "Collecting ftfy<6.0.0,>=5.0.0\n",
      "\u001b[?25l  Downloading https://files.pythonhosted.org/packages/ff/e2/3b51c53dffb1e52d9210ebc01f1fb9f2f6eba9b3201fa971fd3946643c71/ftfy-5.8.tar.gz (64kB)\n",
      "\u001b[K     |████████████████████████████████| 71kB 21.6MB/s \n",
      "\u001b[?25hRequirement already satisfied: torch>=1.0.0 in /usr/local/lib/python3.6/dist-packages (from spacy-transformers<0.7.0,>=0.6.1->en_trf_bertbaseuncased_lg==2.3.0) (1.7.0+cu101)\n",
      "Collecting transformers<2.9.0,>=2.4.0\n",
      "\u001b[?25l  Downloading https://files.pythonhosted.org/packages/a3/78/92cedda05552398352ed9784908b834ee32a0bd071a9b32de287327370b7/transformers-2.8.0-py3-none-any.whl (563kB)\n",
      "\u001b[K     |████████████████████████████████| 573kB 21.5MB/s \n",
      "\u001b[?25hRequirement already satisfied: importlib-metadata>=0.20; python_version < \"3.8\" in /usr/local/lib/python3.6/dist-packages (from spacy-transformers<0.7.0,>=0.6.1->en_trf_bertbaseuncased_lg==2.3.0) (3.3.0)\n",
      "Collecting pytokenizations>=0.2.0\n",
      "\u001b[?25l  Downloading https://files.pythonhosted.org/packages/5d/4d/14c0592544689defe9793240cb0e0e8e870c18bfc2dbd1e4170b96c73f89/pytokenizations-0.7.2-cp36-cp36m-manylinux1_x86_64.whl (240kB)\n",
      "\u001b[K     |████████████████████████████████| 245kB 30.1MB/s \n",
      "\u001b[?25hCollecting dataclasses<0.7,>=0.6; python_version < \"3.7\"\n",
      "  Downloading https://files.pythonhosted.org/packages/26/2f/1095cdc2868052dd1e64520f7c0d5c8c550ad297e944e641dbf1ffbb9a5d/dataclasses-0.6-py3-none-any.whl\n",
      "Collecting torchcontrib<0.1.0,>=0.0.2\n",
      "  Downloading https://files.pythonhosted.org/packages/72/36/45d475035ab35353911e72a03c1c1210eba63b71e5a6917a9e78a046aa10/torchcontrib-0.0.2.tar.gz\n",
      "Requirement already satisfied: urllib3!=1.25.0,!=1.25.1,<1.26,>=1.21.1 in /usr/local/lib/python3.6/dist-packages (from requests<3.0.0,>=2.13.0->spacy<2.4.0,>=2.3.0->en_trf_bertbaseuncased_lg==2.3.0) (1.24.3)\n",
      "Requirement already satisfied: certifi>=2017.4.17 in /usr/local/lib/python3.6/dist-packages (from requests<3.0.0,>=2.13.0->spacy<2.4.0,>=2.3.0->en_trf_bertbaseuncased_lg==2.3.0) (2020.12.5)\n",
      "Requirement already satisfied: idna<3,>=2.5 in /usr/local/lib/python3.6/dist-packages (from requests<3.0.0,>=2.13.0->spacy<2.4.0,>=2.3.0->en_trf_bertbaseuncased_lg==2.3.0) (2.10)\n",
      "Requirement already satisfied: chardet<4,>=3.0.2 in /usr/local/lib/python3.6/dist-packages (from requests<3.0.0,>=2.13.0->spacy<2.4.0,>=2.3.0->en_trf_bertbaseuncased_lg==2.3.0) (3.0.4)\n",
      "Requirement already satisfied: wcwidth in /usr/local/lib/python3.6/dist-packages (from ftfy<6.0.0,>=5.0.0->spacy-transformers<0.7.0,>=0.6.1->en_trf_bertbaseuncased_lg==2.3.0) (0.2.5)\n",
      "Requirement already satisfied: future in /usr/local/lib/python3.6/dist-packages (from torch>=1.0.0->spacy-transformers<0.7.0,>=0.6.1->en_trf_bertbaseuncased_lg==2.3.0) (0.16.0)\n",
      "Requirement already satisfied: typing-extensions in /usr/local/lib/python3.6/dist-packages (from torch>=1.0.0->spacy-transformers<0.7.0,>=0.6.1->en_trf_bertbaseuncased_lg==2.3.0) (3.7.4.3)\n",
      "Collecting sentencepiece\n",
      "\u001b[?25l  Downloading https://files.pythonhosted.org/packages/14/67/e42bd1181472c95c8cda79305df848264f2a7f62740995a46945d9797b67/sentencepiece-0.1.95-cp36-cp36m-manylinux2014_x86_64.whl (1.2MB)\n",
      "\u001b[K     |████████████████████████████████| 1.2MB 51.7MB/s \n",
      "\u001b[?25hRequirement already satisfied: filelock in /usr/local/lib/python3.6/dist-packages (from transformers<2.9.0,>=2.4.0->spacy-transformers<0.7.0,>=0.6.1->en_trf_bertbaseuncased_lg==2.3.0) (3.0.12)\n",
      "Collecting tokenizers==0.5.2\n",
      "\u001b[?25l  Downloading https://files.pythonhosted.org/packages/d1/3f/73c881ea4723e43c1e9acf317cf407fab3a278daab3a69c98dcac511c04f/tokenizers-0.5.2-cp36-cp36m-manylinux1_x86_64.whl (3.7MB)\n",
      "\u001b[K     |████████████████████████████████| 3.7MB 86.1MB/s \n",
      "\u001b[?25hCollecting sacremoses\n",
      "\u001b[?25l  Downloading https://files.pythonhosted.org/packages/7d/34/09d19aff26edcc8eb2a01bed8e98f13a1537005d31e95233fd48216eed10/sacremoses-0.0.43.tar.gz (883kB)\n",
      "\u001b[K     |████████████████████████████████| 890kB 56.4MB/s \n",
      "\u001b[?25hCollecting boto3\n",
      "\u001b[?25l  Downloading https://files.pythonhosted.org/packages/18/c0/db041aa805b6275b52a02e15457fc4615f80226516b9bef3d59565538ec4/boto3-1.16.59-py2.py3-none-any.whl (130kB)\n",
      "\u001b[K     |████████████████████████████████| 133kB 69.1MB/s \n",
      "\u001b[?25hRequirement already satisfied: regex!=2019.12.17 in /usr/local/lib/python3.6/dist-packages (from transformers<2.9.0,>=2.4.0->spacy-transformers<0.7.0,>=0.6.1->en_trf_bertbaseuncased_lg==2.3.0) (2019.12.20)\n",
      "Requirement already satisfied: zipp>=0.5 in /usr/local/lib/python3.6/dist-packages (from importlib-metadata>=0.20; python_version < \"3.8\"->spacy-transformers<0.7.0,>=0.6.1->en_trf_bertbaseuncased_lg==2.3.0) (3.4.0)\n",
      "Requirement already satisfied: six in /usr/local/lib/python3.6/dist-packages (from sacremoses->transformers<2.9.0,>=2.4.0->spacy-transformers<0.7.0,>=0.6.1->en_trf_bertbaseuncased_lg==2.3.0) (1.15.0)\n",
      "Requirement already satisfied: click in /usr/local/lib/python3.6/dist-packages (from sacremoses->transformers<2.9.0,>=2.4.0->spacy-transformers<0.7.0,>=0.6.1->en_trf_bertbaseuncased_lg==2.3.0) (7.1.2)\n",
      "Requirement already satisfied: joblib in /usr/local/lib/python3.6/dist-packages (from sacremoses->transformers<2.9.0,>=2.4.0->spacy-transformers<0.7.0,>=0.6.1->en_trf_bertbaseuncased_lg==2.3.0) (1.0.0)\n",
      "Collecting s3transfer<0.4.0,>=0.3.0\n",
      "\u001b[?25l  Downloading https://files.pythonhosted.org/packages/ea/43/4b4a1b26eb03a429a4c37ca7fdf369d938bd60018fc194e94b8379b0c77c/s3transfer-0.3.4-py2.py3-none-any.whl (69kB)\n",
      "\u001b[K     |████████████████████████████████| 71kB 68.8MB/s \n",
      "\u001b[?25hCollecting botocore<1.20.0,>=1.19.59\n",
      "\u001b[?25l  Downloading https://files.pythonhosted.org/packages/ee/10/08dc3b74cc9c47a2c81b2e88e06c2661783b86fd77fc80f7a3eb1bf56905/botocore-1.19.59-py2.py3-none-any.whl (7.2MB)\n",
      "\u001b[K     |████████████████████████████████| 7.2MB 70.8MB/s \n",
      "\u001b[?25hCollecting jmespath<1.0.0,>=0.7.1\n",
      "  Downloading https://files.pythonhosted.org/packages/07/cb/5f001272b6faeb23c1c9e0acc04d48eaaf5c862c17709d20e3469c6e0139/jmespath-0.10.0-py2.py3-none-any.whl\n",
      "Requirement already satisfied: python-dateutil<3.0.0,>=2.1 in /usr/local/lib/python3.6/dist-packages (from botocore<1.20.0,>=1.19.59->boto3->transformers<2.9.0,>=2.4.0->spacy-transformers<0.7.0,>=0.6.1->en_trf_bertbaseuncased_lg==2.3.0) (2.8.1)\n",
      "Building wheels for collected packages: en-trf-bertbaseuncased-lg, ftfy, torchcontrib, sacremoses\n",
      "  Building wheel for en-trf-bertbaseuncased-lg (setup.py) ... \u001b[?25l\u001b[?25hdone\n",
      "  Created wheel for en-trf-bertbaseuncased-lg: filename=en_trf_bertbaseuncased_lg-2.3.0-cp36-none-any.whl size=405808566 sha256=2b19287a61b563140f63bdde91504230088231169fe44b9c1bf4a08005c5f1de\n",
      "  Stored in directory: /tmp/pip-ephem-wheel-cache-1594bens/wheels/34/31/e9/a65093916b43098517a3f131d614b0b215b33186ca6577e74d\n",
      "  Building wheel for ftfy (setup.py) ... \u001b[?25l\u001b[?25hdone\n",
      "  Created wheel for ftfy: filename=ftfy-5.8-cp36-none-any.whl size=45613 sha256=d24f858c6cb27cc016b05003c77d740de30be3608498a2171f23c7f1cb5e657f\n",
      "  Stored in directory: /tmp/pip-ephem-wheel-cache-1594bens/wheels/ba/c0/ef/f28c4da5ac84a4e06ac256ca9182fc34fa57fefffdbc68425b\n",
      "  Building wheel for torchcontrib (setup.py) ... \u001b[?25l\u001b[?25hdone\n",
      "  Created wheel for torchcontrib: filename=torchcontrib-0.0.2-cp36-none-any.whl size=7531 sha256=ace4f0733f4e057fdd6dd2fdc8c300a86725642dbd6d65f09b6f8b6d5682e3b8\n",
      "  Stored in directory: /tmp/pip-ephem-wheel-cache-1594bens/wheels/06/06/7b/a5f5920bbf4f12a2c927e438fac17d4cd9560f8336b00e9a99\n",
      "  Building wheel for sacremoses (setup.py) ... \u001b[?25l\u001b[?25hdone\n",
      "  Created wheel for sacremoses: filename=sacremoses-0.0.43-cp36-none-any.whl size=893261 sha256=cb277aa6d1fb7332c835b10484c896e91625b77fcddfc7fc44d86ec3213b20ca\n",
      "  Stored in directory: /tmp/pip-ephem-wheel-cache-1594bens/wheels/29/3c/fd/7ce5c3f0666dab31a50123635e6fb5e19ceb42ce38d4e58f45\n",
      "Successfully built en-trf-bertbaseuncased-lg ftfy torchcontrib sacremoses\n",
      "\u001b[31mERROR: botocore 1.19.59 has requirement urllib3<1.27,>=1.25.4; python_version != \"3.4\", but you'll have urllib3 1.24.3 which is incompatible.\u001b[0m\n",
      "Installing collected packages: ftfy, sentencepiece, tokenizers, sacremoses, jmespath, botocore, s3transfer, boto3, dataclasses, transformers, pytokenizations, torchcontrib, spacy-transformers, en-trf-bertbaseuncased-lg\n",
      "  Found existing installation: dataclasses 0.8\n",
      "    Uninstalling dataclasses-0.8:\n",
      "      Successfully uninstalled dataclasses-0.8\n",
      "Successfully installed boto3-1.16.59 botocore-1.19.59 dataclasses-0.6 en-trf-bertbaseuncased-lg-2.3.0 ftfy-5.8 jmespath-0.10.0 pytokenizations-0.7.2 s3transfer-0.3.4 sacremoses-0.0.43 sentencepiece-0.1.95 spacy-transformers-0.6.2 tokenizers-0.5.2 torchcontrib-0.0.2 transformers-2.8.0\n",
      "\u001b[38;5;2m✔ Download and installation successful\u001b[0m\n",
      "You can now load the model via spacy.load('en_trf_bertbaseuncased_lg')\n"
     ]
    }
   ],
   "source": [
    "#!pip install spacy==2.3.0\n",
    "#!python3.6 -m spacy validate\n",
    "#!python3.6 -m spacy download en_trf_bertbaseuncased_lg\n",
    "#!pip install  scikit-plot"
   ]
  },
  {
   "cell_type": "code",
   "execution_count": 1,
   "metadata": {
    "executionInfo": {
     "elapsed": 1393,
     "status": "ok",
     "timestamp": 1611602419253,
     "user": {
      "displayName": "Sharvari Desai",
      "photoUrl": "https://lh3.googleusercontent.com/a-/AOh14GjLQLnoBdWLbLrUtTZZ1D3q860BJquimYTOc0pJrg=s64",
      "userId": "10233909681194041221"
     },
     "user_tz": 300
    },
    "id": "OLABCrHtp84g"
   },
   "outputs": [],
   "source": [
    "import torch\n",
    "import spacy\n",
    "# Use CUDA tensor\n",
    "if spacy.prefer_gpu():\n",
    "    torch.set_default_tensor_type(\"torch.cuda.FloatTensor\")\n"
   ]
  },
  {
   "cell_type": "code",
   "execution_count": 2,
   "metadata": {
    "executionInfo": {
     "elapsed": 8742,
     "status": "ok",
     "timestamp": 1611602427185,
     "user": {
      "displayName": "Sharvari Desai",
      "photoUrl": "https://lh3.googleusercontent.com/a-/AOh14GjLQLnoBdWLbLrUtTZZ1D3q860BJquimYTOc0pJrg=s64",
      "userId": "10233909681194041221"
     },
     "user_tz": 300
    },
    "id": "rGaeTy6SwLES"
   },
   "outputs": [],
   "source": [
    "import spacy\n",
    "# Load model\n",
    "nlp = spacy.load('/usr/local/lib/python3.6/dist-packages/en_trf_bertbaseuncased_lg/en_trf_bertbaseuncased_lg-2.3.0')\n",
    "\n"
   ]
  },
  {
   "cell_type": "code",
   "execution_count": 3,
   "metadata": {
    "colab": {
     "base_uri": "https://localhost:8080/"
    },
    "executionInfo": {
     "elapsed": 8080,
     "status": "ok",
     "timestamp": 1611602427189,
     "user": {
      "displayName": "Sharvari Desai",
      "photoUrl": "https://lh3.googleusercontent.com/a-/AOh14GjLQLnoBdWLbLrUtTZZ1D3q860BJquimYTOc0pJrg=s64",
      "userId": "10233909681194041221"
     },
     "user_tz": 300
    },
    "id": "E8zV5WVOp84h",
    "outputId": "80bf63a7-9bf2-4aab-8aa8-bdd48d31b95f"
   },
   "outputs": [
    {
     "name": "stdout",
     "output_type": "stream",
     "text": [
      "['sentencizer', 'trf_wordpiecer', 'trf_tok2vec']\n"
     ]
    }
   ],
   "source": [
    "# Pipeline is different from normal spaCy\n",
    "print(nlp.pipe_names)"
   ]
  },
  {
   "cell_type": "markdown",
   "metadata": {
    "id": "peltZWKzp84i"
   },
   "source": [
    "### Transfer Learning  \n",
    "The pretrained transformer models can be also used for transfer learning. Similar to computer vision's pretrained models (e.g. ResNet, Inception), you can start training on your smaller dataset with labels specific to your problem. Fine-tuning (changing the weights of the pretrained models) is possible by `nlp.update`.  \n",
    "\n",
    "Transfer learning is only available for pre-defined spaCy's pipelines (for `spacy-transformers`, only `trf_textcat`), so it cannot be used for other unrelated tasks like reading comprehension."
   ]
  },
  {
   "cell_type": "code",
   "execution_count": 4,
   "metadata": {
    "executionInfo": {
     "elapsed": 5995,
     "status": "ok",
     "timestamp": 1611602427190,
     "user": {
      "displayName": "Sharvari Desai",
      "photoUrl": "https://lh3.googleusercontent.com/a-/AOh14GjLQLnoBdWLbLrUtTZZ1D3q860BJquimYTOc0pJrg=s64",
      "userId": "10233909681194041221"
     },
     "user_tz": 300
    },
    "id": "iy-WzU0shdak"
   },
   "outputs": [],
   "source": [
    "%matplotlib inline\n",
    "import spacy\n",
    "from spacy.gold import GoldParse\n",
    "from spacy.scorer import Scorer\n",
    "from spacy.util import decaying, minibatch, compounding\n",
    "import pandas as pd\n",
    "import numpy as np\n",
    "import random\n",
    "from sklearn.metrics import precision_score, recall_score, confusion_matrix, accuracy_score, f1_score, roc_auc_score, roc_curve\n",
    "import matplotlib.pyplot as plt\n",
    "import seaborn as sns\n",
    "import scikitplot.plotters as skplt\n",
    "from spacy.util import minibatch\n",
    "import spacy_transformers\n",
    "import pandas as pd\n",
    "import unicodedata\n",
    "from spacy_transformers.util import cyclic_triangular_rate\n",
    "from sklearn.model_selection import train_test_split"
   ]
  },
  {
   "cell_type": "code",
   "execution_count": 5,
   "metadata": {
    "executionInfo": {
     "elapsed": 4963,
     "status": "ok",
     "timestamp": 1611602427692,
     "user": {
      "displayName": "Sharvari Desai",
      "photoUrl": "https://lh3.googleusercontent.com/a-/AOh14GjLQLnoBdWLbLrUtTZZ1D3q860BJquimYTOc0pJrg=s64",
      "userId": "10233909681194041221"
     },
     "user_tz": 300
    },
    "id": "p7dLR_dq26lO"
   },
   "outputs": [],
   "source": [
    "df = pd.read_csv('/content/drive/MyDrive/ColabNotebooks/wiki_data.csv', encoding = 'utf8')"
   ]
  },
  {
   "cell_type": "code",
   "execution_count": 6,
   "metadata": {
    "colab": {
     "base_uri": "https://localhost:8080/",
     "height": 262
    },
    "executionInfo": {
     "elapsed": 3885,
     "status": "ok",
     "timestamp": 1611602427702,
     "user": {
      "displayName": "Sharvari Desai",
      "photoUrl": "https://lh3.googleusercontent.com/a-/AOh14GjLQLnoBdWLbLrUtTZZ1D3q860BJquimYTOc0pJrg=s64",
      "userId": "10233909681194041221"
     },
     "user_tz": 300
    },
    "id": "xsBMdbMsp84j",
    "outputId": "bccb497e-6f52-4a89-ea31-f828ad041475"
   },
   "outputs": [
    {
     "data": {
      "image/png": "[encoded data removed]",
      "text/plain": [
       "<Figure size 432x288 with 1 Axes>"
      ]
     },
     "metadata": {
      "needs_background": "light",
      "tags": []
     },
     "output_type": "display_data"
    }
   ],
   "source": [
    "# Slighly imbalanced data\n",
    "df.label.value_counts().plot(kind=\"bar\");"
   ]
  },
  {
   "cell_type": "code",
   "execution_count": 11,
   "metadata": {
    "executionInfo": {
     "elapsed": 465,
     "status": "ok",
     "timestamp": 1611602509184,
     "user": {
      "displayName": "Sharvari Desai",
      "photoUrl": "https://lh3.googleusercontent.com/a-/AOh14GjLQLnoBdWLbLrUtTZZ1D3q860BJquimYTOc0pJrg=s64",
      "userId": "10233909681194041221"
     },
     "user_tz": 300
    },
    "id": "be8dupEfp84j"
   },
   "outputs": [],
   "source": [
    "#Splitting to train+val and test\n",
    "df['Statements'] = df['Statements'].astype(str)\n",
    "train_X, val_X, train_y, val_y = train_test_split(df[['Statements']], df[['label']].values,\n",
    "                                                test_size = .20,\n",
    "                                                random_state=1234)"
   ]
  },
  {
   "cell_type": "code",
   "execution_count": 12,
   "metadata": {
    "colab": {
     "base_uri": "https://localhost:8080/"
    },
    "executionInfo": {
     "elapsed": 835,
     "status": "ok",
     "timestamp": 1611602519117,
     "user": {
      "displayName": "Sharvari Desai",
      "photoUrl": "https://lh3.googleusercontent.com/a-/AOh14GjLQLnoBdWLbLrUtTZZ1D3q860BJquimYTOc0pJrg=s64",
      "userId": "10233909681194041221"
     },
     "user_tz": 300
    },
    "id": "Tn1w7wtxp84j",
    "outputId": "9d2c3651-f7d1-4833-c3be-baac1a935581"
   },
   "outputs": [
    {
     "data": {
      "text/plain": [
       "((15998, 1), (4000, 1))"
      ]
     },
     "execution_count": 12,
     "metadata": {
      "tags": []
     },
     "output_type": "execute_result"
    }
   ],
   "source": [
    "train_X.shape, val_X.shape #, test_X.shape"
   ]
  },
  {
   "cell_type": "code",
   "execution_count": 41,
   "metadata": {
    "colab": {
     "base_uri": "https://localhost:8080/"
    },
    "executionInfo": {
     "elapsed": 2643,
     "status": "ok",
     "timestamp": 1611602387708,
     "user": {
      "displayName": "Sharvari Desai",
      "photoUrl": "https://lh3.googleusercontent.com/a-/AOh14GjLQLnoBdWLbLrUtTZZ1D3q860BJquimYTOc0pJrg=s64",
      "userId": "10233909681194041221"
     },
     "user_tz": 300
    },
    "id": "o1KkLlat_KQX",
    "outputId": "b6a3f9be-d88b-412f-825e-ff1f9f88dfcb"
   },
   "outputs": [
    {
     "name": "stdout",
     "output_type": "stream",
     "text": [
      "Requirement already satisfied: sklearn in /usr/local/lib/python3.6/dist-packages (0.0)\n",
      "Requirement already satisfied: scikit-learn in /usr/local/lib/python3.6/dist-packages (from sklearn) (0.22.2.post1)\n",
      "Requirement already satisfied: scipy>=0.17.0 in /usr/local/lib/python3.6/dist-packages (from scikit-learn->sklearn) (1.4.1)\n",
      "Requirement already satisfied: joblib>=0.11 in /usr/local/lib/python3.6/dist-packages (from scikit-learn->sklearn) (1.0.0)\n",
      "Requirement already satisfied: numpy>=1.11.0 in /usr/local/lib/python3.6/dist-packages (from scikit-learn->sklearn) (1.19.5)\n"
     ]
    }
   ],
   "source": [
    "!pip install sklearn"
   ]
  },
  {
   "cell_type": "code",
   "execution_count": 15,
   "metadata": {
    "colab": {
     "base_uri": "https://localhost:8080/",
     "height": 198
    },
    "executionInfo": {
     "elapsed": 742,
     "status": "ok",
     "timestamp": 1611602574672,
     "user": {
      "displayName": "Sharvari Desai",
      "photoUrl": "https://lh3.googleusercontent.com/a-/AOh14GjLQLnoBdWLbLrUtTZZ1D3q860BJquimYTOc0pJrg=s64",
      "userId": "10233909681194041221"
     },
     "user_tz": 300
    },
    "id": "UMcTOw25m5KL",
    "outputId": "1b1a845c-4ce3-4211-dabb-9e9bba0d13ac"
   },
   "outputs": [
    {
     "data": {
      "text/html": [
       "<div>\n",
       "<style scoped>\n",
       "    .dataframe tbody tr th:only-of-type {\n",
       "        vertical-align: middle;\n",
       "    }\n",
       "\n",
       "    .dataframe tbody tr th {\n",
       "        vertical-align: top;\n",
       "    }\n",
       "\n",
       "    .dataframe thead th {\n",
       "        text-align: right;\n",
       "    }\n",
       "</style>\n",
       "<table border=\"1\" class=\"dataframe\">\n",
       "  <thead>\n",
       "    <tr style=\"text-align: right;\">\n",
       "      <th></th>\n",
       "      <th>statement</th>\n",
       "      <th>Label</th>\n",
       "      <th>Statements</th>\n",
       "    </tr>\n",
       "  </thead>\n",
       "  <tbody>\n",
       "    <tr>\n",
       "      <th>8500</th>\n",
       "      <td>Badlu (Persian: Ø¨Ø§Ø¯ÙÙâ , also Romanized...</td>\n",
       "      <td>1</td>\n",
       "      <td>Badlu (Persian: Ø ̈Ø§Ø ̄ÙÙâ , also Roma...</td>\n",
       "    </tr>\n",
       "    <tr>\n",
       "      <th>9440</th>\n",
       "      <td>Dezg-e Pain (Persian: Ø¯Ø²Ú¯Ù¾Ø§ÙÙÙâ , al...</td>\n",
       "      <td>1</td>\n",
       "      <td>Dezg-e Pain (Persian: Ø ̄Ø2Ú ̄Ù3⁄4Ø§ÙÙÙ...</td>\n",
       "    </tr>\n",
       "    <tr>\n",
       "      <th>391</th>\n",
       "      <td>In such an environment (as opposed to smooth c...</td>\n",
       "      <td>1</td>\n",
       "      <td>In such an environment (as opposed to smooth c...</td>\n",
       "    </tr>\n",
       "    <tr>\n",
       "      <th>11935</th>\n",
       "      <td>A standard criterion for good large-scale maps...</td>\n",
       "      <td>0</td>\n",
       "      <td>A standard criterion for good large-scale maps...</td>\n",
       "    </tr>\n",
       "    <tr>\n",
       "      <th>2781</th>\n",
       "      <td>The David Linton Award of the British Society ...</td>\n",
       "      <td>1</td>\n",
       "      <td>The David Linton Award of the British Society ...</td>\n",
       "    </tr>\n",
       "  </tbody>\n",
       "</table>\n",
       "</div>"
      ],
      "text/plain": [
       "                                               statement  ...                                         Statements\n",
       "8500   Badlu (Persian: Ø¨Ø§Ø¯ÙÙâ , also Romanized...  ...  Badlu (Persian: Ø ̈Ø§Ø ̄ÙÙâ , also Roma...\n",
       "9440   Dezg-e Pain (Persian: Ø¯Ø²Ú¯Ù¾Ø§ÙÙÙâ , al...  ...  Dezg-e Pain (Persian: Ø ̄Ø2Ú ̄Ù3⁄4Ø§ÙÙÙ...\n",
       "391    In such an environment (as opposed to smooth c...  ...  In such an environment (as opposed to smooth c...\n",
       "11935  A standard criterion for good large-scale maps...  ...  A standard criterion for good large-scale maps...\n",
       "2781   The David Linton Award of the British Society ...  ...  The David Linton Award of the British Society ...\n",
       "\n",
       "[5 rows x 3 columns]"
      ]
     },
     "execution_count": 15,
     "metadata": {
      "tags": []
     },
     "output_type": "execute_result"
    }
   ],
   "source": [
    "# Converting the dataframe into a list of tuples\n",
    "# change to dataframe to Spacy format\n",
    "# wikidata citation needed text\n",
    "import sklearn\n",
    "from sklearn.utils import shuffle\n",
    "df1 = pd.read_csv('/content/drive/MyDrive/ColabNotebooks/wiki_random_test.csv', encoding = 'ISO-8859-1')\n",
    "#test1 =df_tolist(df1)\n",
    "df1[df1.columns[0]] = df1[df1.columns[0]].astype(str)\n",
    "df1[df.columns[0]] = (df1[df1.columns[0]].map(lambda x: unicodedata.normalize('NFKD', str(x))))\n",
    "df1 = sklearn.utils.shuffle(df1)\n",
    "df1.head()"
   ]
  },
  {
   "cell_type": "code",
   "execution_count": 16,
   "metadata": {
    "executionInfo": {
     "elapsed": 751,
     "status": "ok",
     "timestamp": 1611602586166,
     "user": {
      "displayName": "Sharvari Desai",
      "photoUrl": "https://lh3.googleusercontent.com/a-/AOh14GjLQLnoBdWLbLrUtTZZ1D3q860BJquimYTOc0pJrg=s64",
      "userId": "10233909681194041221"
     },
     "user_tz": 300
    },
    "id": "G8svlDRu9rAH"
   },
   "outputs": [],
   "source": [
    "\n",
    "#Splitting to train and val\n",
    "test_X, val1_X, test_y, val1_y = train_test_split(df1[['Statements']], df1[['Label']].values,\n",
    "                                                  test_size = .50,\n",
    "                                                  random_state=1)\n",
    "                "
   ]
  },
  {
   "cell_type": "code",
   "execution_count": 17,
   "metadata": {
    "executionInfo": {
     "elapsed": 533,
     "status": "ok",
     "timestamp": 1611602591290,
     "user": {
      "displayName": "Sharvari Desai",
      "photoUrl": "https://lh3.googleusercontent.com/a-/AOh14GjLQLnoBdWLbLrUtTZZ1D3q860BJquimYTOc0pJrg=s64",
      "userId": "10233909681194041221"
     },
     "user_tz": 300
    },
    "id": "RwsDa4O_p84j"
   },
   "outputs": [],
   "source": [
    "import numpy as np\n",
    "def prepare_data(data_X:pd.DataFrame=None, data_y:np.array=None, text_column:str='text'):\n",
    "    labels = [{\"1\": bool(y), \"0\": not bool(y)} for y in data_y]\n",
    "    texts = tuple(data_X[text_column].values.tolist())\n",
    "    combined_data = list(zip(texts, [{\"cats\": cats} for cats in labels]))\n",
    "    \n",
    "    return combined_data, texts, labels"
   ]
  },
  {
   "cell_type": "markdown",
   "metadata": {
    "id": "YouZ_aLzp84k"
   },
   "source": [
    "Padding is done automatically with subbatching, which regroups the batched sentences by sequence length, to minimise the amount of padding required. "
   ]
  },
  {
   "cell_type": "code",
   "execution_count": 18,
   "metadata": {
    "executionInfo": {
     "elapsed": 814,
     "status": "ok",
     "timestamp": 1611602596877,
     "user": {
      "displayName": "Sharvari Desai",
      "photoUrl": "https://lh3.googleusercontent.com/a-/AOh14GjLQLnoBdWLbLrUtTZZ1D3q860BJquimYTOc0pJrg=s64",
      "userId": "10233909681194041221"
     },
     "user_tz": 300
    },
    "id": "xywRGPzEp84k"
   },
   "outputs": [],
   "source": [
    "# Format data for spaCy\n",
    "train_data, train_text, train_label = prepare_data(train_X, train_y, \"Statements\")\n",
    "val_data, val_text, val_label = prepare_data(val_X, val_y, \"Statements\")\n",
    "test_data, test_text, test_label = prepare_data(test_X, test_y, \"Statements\")"
   ]
  },
  {
   "cell_type": "markdown",
   "metadata": {
    "id": "K9In9gTcBmzQ"
   },
   "source": []
  },
  {
   "cell_type": "code",
   "execution_count": 19,
   "metadata": {
    "colab": {
     "base_uri": "https://localhost:8080/"
    },
    "executionInfo": {
     "elapsed": 751,
     "status": "ok",
     "timestamp": 1611602602478,
     "user": {
      "displayName": "Sharvari Desai",
      "photoUrl": "https://lh3.googleusercontent.com/a-/AOh14GjLQLnoBdWLbLrUtTZZ1D3q860BJquimYTOc0pJrg=s64",
      "userId": "10233909681194041221"
     },
     "user_tz": 300
    },
    "id": "GfNmgLCzAU9t",
    "outputId": "50e846dd-c5eb-4230-b74b-49ff56ba5fb4"
   },
   "outputs": [
    {
     "data": {
      "text/plain": [
       "[(\"In addition, the 1987 film Superman IV: The Quest for Peace included a scene where a boy writes Superman a letter to control the nuclear arms race; according to Christopher Reeve, this scene was also inspired by Smith's story.\",\n",
       "  {'cats': {'0': False, '1': True}}),\n",
       " ('Exceptions include that a company in the oil and gas extraction industry may not accept group relief against the profits arising on its oil and gas extraction business, and a life assurance company may only accept group relief against its profits chargeable to tax at the standard shareholder rate applicable to that company',\n",
       "  {'cats': {'0': False, '1': True}}),\n",
       " ('The present elevation of this beach line is the level of the Mono Lake high stand before the formation of the northern Mono Craters, plus any surface deformation that has happened since that time',\n",
       "  {'cats': {'0': False, '1': True}}),\n",
       " (\"Burnet reached the decision unilaterally, leaving many of the research staff disillusioned and feeling the action was arrogant; for Burnet's part he was comfortable with the decision as he thought it to be effective\",\n",
       "  {'cats': {'0': False, '1': True}}),\n",
       " (\"The Chrysler Building's developer, Walter Chrysler, realized that his tower's height would exceed the Empire State Building's as well, having instructed his architect, William Van Alen, to change the Chrysler's original roof from a stubby Romanesque dome to a narrow steel spire\",\n",
       "  {'cats': {'0': False, '1': True}}),\n",
       " ('Single/Double Summer Time (SDST), a variant where clocks are one hour ahead of the sun in winter and two in summer, has been projected to reduce traffic fatalities by 3% to 4% in the UK, compared to ordinary DST',\n",
       "  {'cats': {'0': False, '1': True}}),\n",
       " (\"The German high command expected Montgomery (one of the best-known Allied commanders) to play a key role in any cross-channel bridgehead. Clarke and the other deception planners reasoned that a high-profile appearance outside the United Kingdom would suggest that an Allied invasion was not imminent. An appropriate look-alike was found, M. E. Clifton James, who spent a short time with Montgomery to familiarise himself with the general's mannerisms. On 26 May 1944, James flew first to Gibraltar and then to Algiers, making appearances where the Allies knew German intelligence agents would spot him. He then flew secretly to Cairo and remained in hiding until Montgomery's public appearance in Normandy following the invasion.\",\n",
       "  {'cats': {'0': True, '1': False}}),\n",
       " (\"Faryl was fairly well received by critics, who praised Smith's performances and Cohen's production. However, criticism was directed at the use of the orchestra and at the song choices. As one of the ten best-selling classical albums in the UK in 2009, Faryl was nominated for a Classical BRIT Award in the album of the year category, but lost to Only Men Aloud's Band of Brothers. In 2013, the album was certified gold by the British Phonographic Industry.\",\n",
       "  {'cats': {'0': True, '1': False}}),\n",
       " ('The shell of a bivalve is composed of calcium carbonate, and consists of two, usually similar, parts called valves. These are joined together along one edge (the hinge line) by a flexible ligament that, usually in conjunction with interlocking \"teeth\" on each of the valves, forms the hinge. This arrangement allows the shell to be opened and closed without the two halves detaching. The shell is typically bilaterally symmetrical, with the hinge lying in the sagittal plane. Adult shell sizes of bivalves vary from fractions of a millimetre to over a metre in length, but the majority of species do not exceed 10\\xa0cm (4\\xa0in).',\n",
       "  {'cats': {'0': True, '1': False}}),\n",
       " (' In the episode, Cartman makes outrageous claims with no basis in fact under the guise that he is simply asking rhetorical questions and seeking further discussion, a practice for which Beck has been criticized',\n",
       "  {'cats': {'0': False, '1': True}})]"
      ]
     },
     "execution_count": 19,
     "metadata": {
      "tags": []
     },
     "output_type": "execute_result"
    }
   ],
   "source": [
    "train_data[:10]"
   ]
  },
  {
   "cell_type": "code",
   "execution_count": 20,
   "metadata": {
    "colab": {
     "base_uri": "https://localhost:8080/"
    },
    "executionInfo": {
     "elapsed": 644,
     "status": "ok",
     "timestamp": 1611602603614,
     "user": {
      "displayName": "Sharvari Desai",
      "photoUrl": "https://lh3.googleusercontent.com/a-/AOh14GjLQLnoBdWLbLrUtTZZ1D3q860BJquimYTOc0pJrg=s64",
      "userId": "10233909681194041221"
     },
     "user_tz": 300
    },
    "id": "FoFMznbrBzED",
    "outputId": "c6bcbc5f-1e75-44d8-96f3-9f5a4fa8f2d1"
   },
   "outputs": [
    {
     "data": {
      "text/plain": [
       "[(\"United Airlines Flight 93 was a domestic scheduled passenger flight that was hijacked by four Al-Qaeda terrorists on board, as part of the September 11 attacks. It crashed into a field in Somerset County, Pennsylvania, during an attempt by the passengers and crew to regain control. All 44 people aboard were killed, including the four hijackers, but no one on the ground was injured. The aircraft involved, a Boeing 757–222, was flying United Airlines' daily scheduled morning flight from Newark International Airport in New Jersey to San Francisco International Airport in California.\",\n",
       "  {'cats': {'0': True, '1': False}}),\n",
       " (\"The pre-dreadnought age saw the beginning of the end of the 19th century naval balance of power in which France and Russia vied for competition against the massive British Royal Navy, and saw the start of the rise of the 'new naval powers' of Germany, Japan and the USA. The new ships of the Imperial Japanese Navy and to a lesser extent the U.S. Navy supported those powers' colonial expansion.\",\n",
       "  {'cats': {'0': True, '1': False}}),\n",
       " ('Giraffes also snore, hiss, moan, grunt and make flute-like sounds,  and possibly communicate over long distances using infrasound —though this is disputed',\n",
       "  {'cats': {'0': False, '1': True}}),\n",
       " ('Interstate 196 (I-196) is an auxiliary Interstate Highway that runs for 80.6 miles (129.7\\xa0km) in the US state of Michigan. It is a state trunkline highway that links Benton Harbor, South Haven, Holland, and Grand Rapids together. In Kent, Ottawa, and Allegan counties, I-196 is known as the Gerald R. Ford Freeway, or simply the Ford Freeway, after the 38th President of the United States, Gerald Ford, who was raised in Grand Rapids and served Michigan in the House of Representatives. This name generally refers only to the section between Holland and Grand Rapids. I-196 changes direction; it is signed as a north–south highway from its southern terminus to the junction with US Highway\\xa031 (US\\xa031) just south of Holland, and as an east–west trunkline from this point to its eastern terminus at an interchange with I-96, its parent highway. There are currently three business routes related to the main freeway. There are two business loops (BL I-196) and one business spur (BS I-196) that serve South Haven, Holland and the Grand Rapids areas. Another business spur for Muskegon had been designated relative to the I-196 number.',\n",
       "  {'cats': {'0': True, '1': False}}),\n",
       " ('The cyclone kept its intensity for two more days as it moved toward the southeast, executed a small loop, and turned generally toward the east-northeast, passing south of Bermuda on the night of October\\xa011',\n",
       "  {'cats': {'0': False, '1': True}}),\n",
       " ('Some league administrators, such as former NHL senior vice-president and director of hockey operations Colin Campbell, have been circulating the idea of banning fighting in response to incidents such as the Fedoruk–Orr fight.',\n",
       "  {'cats': {'0': False, '1': True}}),\n",
       " (\"Each university excavates the site as triannual projects which currently depend on the comprehension of the operation of a Celtic city of the La Tène period. Their research consists of several weeks of work on the terrain which is followed by a detailed study of the excavation and of the objects discovered, which are then stored at the site's research center.\",\n",
       "  {'cats': {'0': True, '1': False}}),\n",
       " ('This in turn creates a population of highly educated, white-collar individuals as well as blue-collar workers, many of whom are immigrants, and who both are drawn to the increasing number of opportunities available',\n",
       "  {'cats': {'0': False, '1': True}}),\n",
       " (\"Examples of Rossier's views of Switzerland are held in several institutions and private collections in that country. Rossier took the first commercial photographs of China and Japan, and they are now quite rare. He complained at times of the adverse effects of the climate on his photographic chemicals and some of his negatives may have been damaged en route to London from Asia. Though his surviving images are scarce, his importance to the early history of photography in Asia is great. Before his arrival in Japan in 1859, Japanese students of photography had struggled to produce satisfactory images, but Rossier's experience, instruction, and contacts with suppliers of photographic materials were extremely helpful in the development of an autonomous photographic tradition in Japan.\",\n",
       "  {'cats': {'0': True, '1': False}}),\n",
       " (\"In June 1858 Charles and Catherine Dickens separated. The exact cause of the separation is unknown, although attention at the time and since has focused on rumours of an affair between Dickens and Ellen Ternan and/or Catherine's sister, Georgina Hogarth.\",\n",
       "  {'cats': {'0': True, '1': False}})]"
      ]
     },
     "execution_count": 20,
     "metadata": {
      "tags": []
     },
     "output_type": "execute_result"
    }
   ],
   "source": [
    "val_data[:10]"
   ]
  },
  {
   "cell_type": "code",
   "execution_count": 21,
   "metadata": {
    "colab": {
     "base_uri": "https://localhost:8080/"
    },
    "executionInfo": {
     "elapsed": 752,
     "status": "ok",
     "timestamp": 1611602604937,
     "user": {
      "displayName": "Sharvari Desai",
      "photoUrl": "https://lh3.googleusercontent.com/a-/AOh14GjLQLnoBdWLbLrUtTZZ1D3q860BJquimYTOc0pJrg=s64",
      "userId": "10233909681194041221"
     },
     "user_tz": 300
    },
    "id": "zI7fLDsjB4qW",
    "outputId": "8e61d63a-fb58-4a5e-c26f-b56a243d6020"
   },
   "outputs": [
    {
     "data": {
      "text/plain": [
       "[('In October 2017 representatives from all three nations finally signed a joint declaration of intent as the first formal step towards submitting a bid for the Mont Blanc massif to be a candidate for inclusion on UNESCOâ\\x80\\x99s World Heritage Site list',\n",
       "  {'cats': {'0': False, '1': True}}),\n",
       " ('Afermejan-e Sofla (Persian: Ø§Ù\\x81Ø±Ù\\x85Ø¬Ø§Ù\\x86 Ø3Ù\\x81Ù\\x84Ù\\x8aâ\\x80\\x8e , also Romanized as AfermejÄ\\x81n-e SoflÃ¡; also known as AfermejÄ\\x81n-e PÄ\\x81â\\x80\\x99Ä«n) is a village in Reza Mahalleh Rural District, in the Central District of Rudsar County, Gilan Province, Iran',\n",
       "  {'cats': {'0': False, '1': True}}),\n",
       " ('Germi is north of Ardabil in Iranian Azerbaijan. Germi is located 120Â km from Ardabil, the capital of the province. The yearly precipitation is 300Â mm and a temperature of (-10 to 36 Celsius) allows farmers to reach good yields in growing cereals. Germi is relatively new by Iranian standards; established in the year 900 of the Islamic calendar (1494 A.D.) when Shah Ismail allowed to 5 Shiite families to migrate to this region. There were some other places and cities in both Azerbaijans that are called Germi.',\n",
       "  {'cats': {'0': True, '1': False}}),\n",
       " (\" The southernmost tip of the plain is in the southern seaside suburbs of Adelaide around Brighton at the foot of the O'Halloran Hill escarpment with the south Hummocks Range and Wakefield River roughly approximating the northern boundary\",\n",
       "  {'cats': {'0': False, '1': True}}),\n",
       " ('The West and East Hesse Highlands or Hesse Highlands correspond to the geological unit known as the Hesse Depression (Hessischen Senke), in its wider sense, because here geologically young layers of Zechstein and Bunter sandstone, and in places even younger rocks like Muschelkalk, of the Jurassic, Paleogene and Neogene periods, have been preserved.',\n",
       "  {'cats': {'0': False, '1': True}}),\n",
       " ('Jovi-ye Majid (Persian: Ø¬Ù\\x88Ù\\x8a Ù\\x85Ø¬Ù\\x8aØ ̄â\\x80\\x8e , also Romanized as JovÄ«-ye MajÄ«d; also known as JovÄ«, JowvÄ«, and ShahÄ«d Saâ\\x80\\x98Ä«dÄ«) is a village in Hoseynabad Rural District, in the Central District of Shush County, Khuzestan Province, Iran',\n",
       "  {'cats': {'0': False, '1': True}}),\n",
       " ('Ross Lake is formed by the impoundment of the Skagit River by Ross Dam, which is operated by Seattle City Light for hydroelectric power generation serving Seattle, Washington, and surrounding areas. After leaving Ross Lake, the Skagit River flows through two more reservoirs before running to Puget Sound.',\n",
       "  {'cats': {'0': True, '1': False}}),\n",
       " ('Dalijan-e Kordha (Persian: Ø ̄Ø§Ù\\x84Ù\\x8aØ¬Ø§Ù\\x86 Ù\\x83Ø±Ø ̄Ù\\x87Ø§â\\x80\\x8e , also Romanized as DÄ\\x81lÄ«jÄ\\x81n-e KordhÄ\\x81; also known as DÄ\\x81lenjÄ\\x81n-e KordÄ«yeh) is a village in Faruj Rural District, in the Central District of Faruj County, North Khorasan Province, Iran',\n",
       "  {'cats': {'0': False, '1': True}}),\n",
       " ('The subduction of the Nazca Plate below the South American Plate along the Chile-Peru Trench is associated with numerous earthquakes. Several of these earthquakes are notable for their size, associated tsunamis and/or landslides.',\n",
       "  {'cats': {'0': True, '1': False}}),\n",
       " ('Eslamabad-e Tang Sorkh (Persian: Ø§Ø3Ù\\x84Ø§Ù\\x85 Ø§Ø ̈Ø§Ø ̄ØaÙ\\x86Ú ̄ Ø3Ø±Ø®â\\x80\\x8e , also Romanized as EslÄ\\x81mÄ\\x81bÄ\\x81d-e Tang Sorkh; also known as EslÄ\\x81mÄ\\x81bÄ\\x81d) is a village in Sarrud-e Jonubi Rural District, in the Central District of Boyer-Ahmad County, Kohgiluyeh and Boyer-Ahmad Province, Iran',\n",
       "  {'cats': {'0': False, '1': True}})]"
      ]
     },
     "execution_count": 21,
     "metadata": {
      "tags": []
     },
     "output_type": "execute_result"
    }
   ],
   "source": [
    "test_data[:10]"
   ]
  },
  {
   "cell_type": "code",
   "execution_count": 22,
   "metadata": {
    "executionInfo": {
     "elapsed": 445,
     "status": "ok",
     "timestamp": 1611602613444,
     "user": {
      "displayName": "Sharvari Desai",
      "photoUrl": "https://lh3.googleusercontent.com/a-/AOh14GjLQLnoBdWLbLrUtTZZ1D3q860BJquimYTOc0pJrg=s64",
      "userId": "10233909681194041221"
     },
     "user_tz": 300
    },
    "id": "fx-MSDbTp84k"
   },
   "outputs": [],
   "source": [
    "# Create a pipeline for text classification\n",
    "textcat = nlp.create_pipe(\"trf_textcat\", config={\"exclusive_classes\": True, \"architecture\": \"softmax_class_vector\"})\n",
    "for label in (\"1\", \"0\"):\n",
    "    textcat.add_label(label)\n",
    "nlp.add_pipe(textcat, last=True)"
   ]
  },
  {
   "cell_type": "code",
   "execution_count": 23,
   "metadata": {
    "executionInfo": {
     "elapsed": 680,
     "status": "ok",
     "timestamp": 1611602614811,
     "user": {
      "displayName": "Sharvari Desai",
      "photoUrl": "https://lh3.googleusercontent.com/a-/AOh14GjLQLnoBdWLbLrUtTZZ1D3q860BJquimYTOc0pJrg=s64",
      "userId": "10233909681194041221"
     },
     "user_tz": 300
    },
    "id": "smPEyOtn4cui"
   },
   "outputs": [],
   "source": [
    "def decaying(start, stop, decay):\n",
    "    \"\"\"Yield an infinite series of linearly decaying values.\"\"\"\n",
    "\n",
    "    curr = float(start)\n",
    "    while True:\n",
    "        yield max(curr, stop)\n",
    "        curr -= decay"
   ]
  },
  {
   "cell_type": "code",
   "execution_count": 24,
   "metadata": {
    "executionInfo": {
     "elapsed": 859,
     "status": "ok",
     "timestamp": 1611602615988,
     "user": {
      "displayName": "Sharvari Desai",
      "photoUrl": "https://lh3.googleusercontent.com/a-/AOh14GjLQLnoBdWLbLrUtTZZ1D3q860BJquimYTOc0pJrg=s64",
      "userId": "10233909681194041221"
     },
     "user_tz": 300
    },
    "id": "FMJPObudp84k"
   },
   "outputs": [],
   "source": [
    "# Evaluation function\n",
    "def evaluate_classifier(nlp:spacy_transformers.language.TransformersLanguage=None, \n",
    "                        val_text:tuple=None, \n",
    "                        val_label:list=None, \n",
    "                        batch_size:int=32):\n",
    "   \n",
    "    proba_list = []\n",
    "    label_list = []\n",
    "    \n",
    "    for i, doc in enumerate(nlp.pipe(val_text, batch_size=batch_size)):\n",
    "        pred = doc.cats['1']\n",
    "        label = 1.0 if val_label[i]['1'] else 0.0\n",
    "        proba_list.append(pred)\n",
    "        label_list.append(label)\n",
    "    \n",
    "    pred_indices = np.round(proba_list)\n",
    "    accuracy = accuracy_score(label_list, pred_indices)\n",
    "    roc_auc = roc_auc_score(label_list, proba_list)\n",
    "    f1 = f1_score(label_list, pred_indices)\n",
    "    precision = precision_score(label_list, pred_indices)\n",
    "    recall = recall_score(label_list, pred_indices)\n",
    "    \n",
    "    return {'accuracy': accuracy, 'roc_auc': roc_auc, 'f1': f1, 'precision': precision, 'recall': recall}"
   ]
  },
  {
   "cell_type": "code",
   "execution_count": 25,
   "metadata": {
    "executionInfo": {
     "elapsed": 553,
     "status": "ok",
     "timestamp": 1611602616831,
     "user": {
      "displayName": "Sharvari Desai",
      "photoUrl": "https://lh3.googleusercontent.com/a-/AOh14GjLQLnoBdWLbLrUtTZZ1D3q860BJquimYTOc0pJrg=s64",
      "userId": "10233909681194041221"
     },
     "user_tz": 300
    },
    "id": "KArx5BAJp84k"
   },
   "outputs": [],
   "source": [
    "# Optimizer (Adam)\n",
    "optimizer = nlp.resume_training(use_gpu=True, device=0)\n",
    "optimizer.alpha = 0.001\n",
    "optimizer.trf_weight_decay = 0.005\n",
    "optimizer.L2 = 0.0"
   ]
  },
  {
   "cell_type": "code",
   "execution_count": 26,
   "metadata": {
    "executionInfo": {
     "elapsed": 591,
     "status": "ok",
     "timestamp": 1611602617964,
     "user": {
      "displayName": "Sharvari Desai",
      "photoUrl": "https://lh3.googleusercontent.com/a-/AOh14GjLQLnoBdWLbLrUtTZZ1D3q860BJquimYTOc0pJrg=s64",
      "userId": "10233909681194041221"
     },
     "user_tz": 300
    },
    "id": "hys9HwiZp84k"
   },
   "outputs": [],
   "source": [
    "import random\n",
    "def train_classifier(n_epoch:int=5, \n",
    "                     train_data:list=None, \n",
    "                     val_text:tuple=None, \n",
    "                     val_label:list=None, \n",
    "                     batch_size:int=32, \n",
    "                     lr:float=1e-2):\n",
    "    train_stats = []\n",
    "    dropout = decaying(0.2, 0.1, 0.3) # Gradually decrease dropout rate from 0.2 to 0.1\n",
    "    # Cyclic triangular rate (https://arxiv.org/abs/1506.01186)\n",
    "    learn_rates = cyclic_triangular_rate(\n",
    "        lr / 3, lr * 3, 2 * len(train_data) // batch_size\n",
    "    )\n",
    "\n",
    "    for epoch in range(n_epoch):\n",
    "        random.shuffle(train_data)\n",
    "      \n",
    "        batches = minibatch(train_data, size=batch_size)\n",
    "        losses = {}\n",
    "\n",
    "        for batch in batches:\n",
    "            optimizer.trf_lr = next(learn_rates)\n",
    "       \n",
    "            texts, cats = zip(*batch)\n",
    "            nlp.update(\n",
    "                texts, \n",
    "                cats, \n",
    "                drop = next(dropout),\n",
    "                sgd = optimizer,\n",
    "                losses=losses)\n",
    "\n",
    "        print(f\"Epoch: {epoch+1}\")\n",
    "        print(f\"Losses: {losses}\")\n",
    "        \n",
    "        with nlp.use_params(optimizer.averages):\n",
    "            val_score = evaluate_classifier(nlp, val_text, val_label, batch_size)\n",
    "\n",
    "        print(val_score)\n",
    "        \n",
    "\n",
    "        train_stats.append(losses)\n",
    "        train_stats.append(val_score)"
   ]
  },
  {
   "cell_type": "code",
   "execution_count": 27,
   "metadata": {
    "colab": {
     "base_uri": "https://localhost:8080/"
    },
    "executionInfo": {
     "elapsed": 1685084,
     "status": "ok",
     "timestamp": 1611604308301,
     "user": {
      "displayName": "Sharvari Desai",
      "photoUrl": "https://lh3.googleusercontent.com/a-/AOh14GjLQLnoBdWLbLrUtTZZ1D3q860BJquimYTOc0pJrg=s64",
      "userId": "10233909681194041221"
     },
     "user_tz": 300
    },
    "id": "wUFyd0xFp84k",
    "outputId": "f6c26eff-7294-4415-9d2c-50ee6dbf5e4e"
   },
   "outputs": [
    {
     "name": "stderr",
     "output_type": "stream",
     "text": [
      "/usr/local/lib/python3.6/dist-packages/transformers/optimization.py:155: UserWarning: This overload of add_ is deprecated:\n",
      "\tadd_(Number alpha, Tensor other)\n",
      "Consider using one of the following signatures instead:\n",
      "\tadd_(Tensor other, *, Number alpha) (Triggered internally at  /pytorch/torch/csrc/utils/python_arg_parser.cpp:882.)\n",
      "  exp_avg.mul_(beta1).add_(1.0 - beta1, grad)\n"
     ]
    },
    {
     "name": "stdout",
     "output_type": "stream",
     "text": [
      "Epoch: 1\n",
      "Losses: {'trf_textcat': 0.09973920204902242}\n",
      "{'accuracy': 0.88075, 'roc_auc': 0.9091358070987943, 'f1': 0.8670197936994704, 'precision': 0.9829329962073325, 'recall': 0.7755610972568578}\n",
      "Epoch: 2\n",
      "Losses: {'trf_textcat': 0.11144203052754165}\n",
      "{'accuracy': 0.85025, 'roc_auc': 0.91453034081463, 'f1': 0.8382392654604375, 'precision': 0.9140164899882215, 'recall': 0.774064837905237}\n",
      "Epoch: 3\n",
      "Losses: {'trf_textcat': 0.1030064594290252}\n",
      "{'accuracy': 0.50125, 'roc_auc': 0.9583499896874356, 'f1': 0.6677768526228143, 'precision': 0.50125, 'recall': 1.0}\n"
     ]
    }
   ],
   "source": [
    "train_classifier(n_epoch=3, train_data=train_data, val_text=val_text, val_label=val_label, batch_size=32, lr=2e-6)"
   ]
  },
  {
   "cell_type": "code",
   "execution_count": 28,
   "metadata": {
    "executionInfo": {
     "elapsed": 1680857,
     "status": "ok",
     "timestamp": 1611604311412,
     "user": {
      "displayName": "Sharvari Desai",
      "photoUrl": "https://lh3.googleusercontent.com/a-/AOh14GjLQLnoBdWLbLrUtTZZ1D3q860BJquimYTOc0pJrg=s64",
      "userId": "10233909681194041221"
     },
     "user_tz": 300
    },
    "id": "mKWH-3jg1TzG"
   },
   "outputs": [],
   "source": [
    "# Save the model\n",
    "nlp.to_disk('/content/drive/MyDrive/ColabNotebooks/model/bert_textcat_waE3')"
   ]
  },
  {
   "cell_type": "code",
   "execution_count": 29,
   "metadata": {
    "executionInfo": {
     "elapsed": 1684631,
     "status": "ok",
     "timestamp": 1611604316089,
     "user": {
      "displayName": "Sharvari Desai",
      "photoUrl": "https://lh3.googleusercontent.com/a-/AOh14GjLQLnoBdWLbLrUtTZZ1D3q860BJquimYTOc0pJrg=s64",
      "userId": "10233909681194041221"
     },
     "user_tz": 300
    },
    "id": "TdIizFaWszQF"
   },
   "outputs": [],
   "source": [
    "# Weight averaging (https://www.aclweb.org/anthology/P04-1015/)\n",
    "with nlp.use_params(optimizer.averages):\n",
    "    nlp.to_disk('/content/drive/MyDrive/ColabNotebooks/model/bert_textcat_waE3')\n",
    "    \n"
   ]
  },
  {
   "cell_type": "code",
   "execution_count": 30,
   "metadata": {
    "executionInfo": {
     "elapsed": 1685882,
     "status": "ok",
     "timestamp": 1611604318187,
     "user": {
      "displayName": "Sharvari Desai",
      "photoUrl": "https://lh3.googleusercontent.com/a-/AOh14GjLQLnoBdWLbLrUtTZZ1D3q860BJquimYTOc0pJrg=s64",
      "userId": "10233909681194041221"
     },
     "user_tz": 300
    },
    "id": "rwnfqekctL73"
   },
   "outputs": [],
   "source": [
    "nlp_wa = spacy.load('/content/drive/MyDrive/ColabNotebooks/model/bert_textcat_waE3')"
   ]
  },
  {
   "cell_type": "code",
   "execution_count": 32,
   "metadata": {
    "colab": {
     "base_uri": "https://localhost:8080/"
    },
    "executionInfo": {
     "elapsed": 157583,
     "status": "ok",
     "timestamp": 1611607067253,
     "user": {
      "displayName": "Sharvari Desai",
      "photoUrl": "https://lh3.googleusercontent.com/a-/AOh14GjLQLnoBdWLbLrUtTZZ1D3q860BJquimYTOc0pJrg=s64",
      "userId": "10233909681194041221"
     },
     "user_tz": 300
    },
    "id": "EY4WI00Lp84l",
    "outputId": "b2de8005-4f14-47c0-9ba3-e19eec8f9a2c"
   },
   "outputs": [
    {
     "data": {
      "text/plain": [
       "{'accuracy': 0.9165165165165166,\n",
       " 'f1': 0.9099157485418017,\n",
       " 'precision': 0.981589373106502,\n",
       " 'recall': 0.8479967787396819,\n",
       " 'roc_auc': 0.9633353375359193}"
      ]
     },
     "execution_count": 32,
     "metadata": {
      "tags": []
     },
     "output_type": "execute_result"
    }
   ],
   "source": [
    "# Evaluate on test set\n",
    "evaluate_classifier(nlp, test_text, test_label, 32)"
   ]
  },
  {
   "cell_type": "code",
   "execution_count": 29,
   "metadata": {
    "colab": {
     "base_uri": "https://localhost:8080/"
    },
    "executionInfo": {
     "elapsed": 123431,
     "status": "ok",
     "timestamp": 1611600431257,
     "user": {
      "displayName": "Sharvari Desai",
      "photoUrl": "https://lh3.googleusercontent.com/a-/AOh14GjLQLnoBdWLbLrUtTZZ1D3q860BJquimYTOc0pJrg=s64",
      "userId": "10233909681194041221"
     },
     "user_tz": 300
    },
    "id": "Wkgq15QJX4ZS",
    "outputId": "3cf23fc0-005b-4246-afc9-372a91b37d2d"
   },
   "outputs": [
    {
     "data": {
      "text/plain": [
       "{'accuracy': 0.9108571428571428,\n",
       " 'f1': 0.9037037037037037,\n",
       " 'precision': 0.961892247043364,\n",
       " 'recall': 0.8521536670547147,\n",
       " 'roc_auc': 0.9581638072615954}"
      ]
     },
     "execution_count": 29,
     "metadata": {
      "tags": []
     },
     "output_type": "execute_result"
    }
   ],
   "source": [
    "# Evaluate on test set\n",
    "evaluate_classifier(nlp_wa, test_text, test_label, 32)"
   ]
  },
  {
   "cell_type": "code",
   "execution_count": 33,
   "metadata": {
    "executionInfo": {
     "elapsed": 760,
     "status": "ok",
     "timestamp": 1611607081884,
     "user": {
      "displayName": "Sharvari Desai",
      "photoUrl": "https://lh3.googleusercontent.com/a-/AOh14GjLQLnoBdWLbLrUtTZZ1D3q860BJquimYTOc0pJrg=s64",
      "userId": "10233909681194041221"
     },
     "user_tz": 300
    },
    "id": "FQ72Ca9Kp84m"
   },
   "outputs": [],
   "source": [
    "# Predict function\n",
    "def predict(nlp:spacy_transformers.language.TransformersLanguage=None, \n",
    "            val_text:tuple=None, \n",
    "            batch_size:int=32):\n",
    "    \n",
    "    proba_list = []\n",
    "    \n",
    "    for i, doc in enumerate(nlp.pipe(val_text, batch_size=batch_size)):\n",
    "        pred = doc.cats['1']\n",
    "        proba_list.append(pred)\n",
    "    \n",
    "    return proba_list"
   ]
  },
  {
   "cell_type": "code",
   "execution_count": 41,
   "metadata": {
    "executionInfo": {
     "elapsed": 158528,
     "status": "ok",
     "timestamp": 1611607289157,
     "user": {
      "displayName": "Sharvari Desai",
      "photoUrl": "https://lh3.googleusercontent.com/a-/AOh14GjLQLnoBdWLbLrUtTZZ1D3q860BJquimYTOc0pJrg=s64",
      "userId": "10233909681194041221"
     },
     "user_tz": 300
    },
    "id": "Us7ZJgw8p84m"
   },
   "outputs": [],
   "source": [
    "probas = predict(nlp, test_text)\n",
    "pred_indices = np.round(probas)"
   ]
  },
  {
   "cell_type": "code",
   "execution_count": 42,
   "metadata": {
    "colab": {
     "base_uri": "https://localhost:8080/",
     "height": 365
    },
    "executionInfo": {
     "elapsed": 147671,
     "status": "ok",
     "timestamp": 1611607289161,
     "user": {
      "displayName": "Sharvari Desai",
      "photoUrl": "https://lh3.googleusercontent.com/a-/AOh14GjLQLnoBdWLbLrUtTZZ1D3q860BJquimYTOc0pJrg=s64",
      "userId": "10233909681194041221"
     },
     "user_tz": 300
    },
    "id": "I7pV84Ffp84m",
    "outputId": "d32e34f6-db7a-47e7-993f-ebc82d6a2422"
   },
   "outputs": [
    {
     "name": "stderr",
     "output_type": "stream",
     "text": [
      "/usr/local/lib/python3.6/dist-packages/sklearn/utils/deprecation.py:87: FutureWarning: Function plot_confusion_matrix is deprecated; This will be removed in v0.4.0. Please use scikitplot.metrics.plot_confusion_matrix instead.\n",
      "  warnings.warn(msg, category=FutureWarning)\n"
     ]
    },
    {
     "data": {
      "image/png": "[encoded data removed]",
      "text/plain": [
       "<Figure size 360x360 with 2 Axes>"
      ]
     },
     "metadata": {
      "needs_background": "light",
      "tags": []
     },
     "output_type": "display_data"
    }
   ],
   "source": [
    "skplt.plot_confusion_matrix(test_y, pred_indices, figsize=(5,5), normalize=True);"
   ]
  },
  {
   "cell_type": "code",
   "execution_count": 43,
   "metadata": {
    "colab": {
     "base_uri": "https://localhost:8080/",
     "height": 365
    },
    "executionInfo": {
     "elapsed": 146367,
     "status": "ok",
     "timestamp": 1611607289781,
     "user": {
      "displayName": "Sharvari Desai",
      "photoUrl": "https://lh3.googleusercontent.com/a-/AOh14GjLQLnoBdWLbLrUtTZZ1D3q860BJquimYTOc0pJrg=s64",
      "userId": "10233909681194041221"
     },
     "user_tz": 300
    },
    "id": "dO8CkRVFp84m",
    "outputId": "bb3d263a-8581-4376-a9aa-643bd8d3b550"
   },
   "outputs": [
    {
     "name": "stderr",
     "output_type": "stream",
     "text": [
      "/usr/local/lib/python3.6/dist-packages/sklearn/utils/deprecation.py:87: FutureWarning: Function plot_confusion_matrix is deprecated; This will be removed in v0.4.0. Please use scikitplot.metrics.plot_confusion_matrix instead.\n",
      "  warnings.warn(msg, category=FutureWarning)\n"
     ]
    },
    {
     "data": {
      "image/png": "[encoded data removed]",
      "text/plain": [
       "<Figure size 360x360 with 2 Axes>"
      ]
     },
     "metadata": {
      "needs_background": "light",
      "tags": []
     },
     "output_type": "display_data"
    }
   ],
   "source": [
    "skplt.plot_confusion_matrix(test_y, pred_indices, figsize=(5,5), normalize=False);"
   ]
  },
  {
   "cell_type": "code",
   "execution_count": 44,
   "metadata": {
    "executionInfo": {
     "elapsed": 144896,
     "status": "ok",
     "timestamp": 1611607289782,
     "user": {
      "displayName": "Sharvari Desai",
      "photoUrl": "https://lh3.googleusercontent.com/a-/AOh14GjLQLnoBdWLbLrUtTZZ1D3q860BJquimYTOc0pJrg=s64",
      "userId": "10233909681194041221"
     },
     "user_tz": 300
    },
    "id": "37v8hCnLp84m"
   },
   "outputs": [],
   "source": [
    "# Calculate the best precision, recall, f1 score\n",
    "def calc_prec_recall_f1(y_true:np.ndarray=None, y_pred:list=None):\n",
    "    thresh_list = []\n",
    "    thresholds = []\n",
    "    for thresh in np.arange(0.01, 1.0, 0.01):\n",
    "        thresh = np.round(thresh, 2)\n",
    "        recall_res = recall_score(y_true, (y_pred > thresh).astype(int))\n",
    "        prec_res = precision_score(y_true, (y_pred > thresh).astype(int))\n",
    "        f1_res = f1_score(y_true, (y_pred > thresh).astype(int))\n",
    "        thresh_list.append([thresh, recall_res, prec_res, f1_res])\n",
    "        thresholds.append([thresh, recall_res, prec_res, f1_res])\n",
    "\n",
    "    # Ordered by F-1 in descending\n",
    "    thresholds.sort(key=lambda x: x[3], reverse=True)\n",
    "    best_thresh = thresholds[0][0]\n",
    "    best_recall = thresholds[0][1]\n",
    "    best_prec = thresholds[0][2]\n",
    "    best_f1 = thresholds[0][3]\n",
    "    return  thresh_list, best_recall, best_prec, best_f1, best_thresh"
   ]
  },
  {
   "cell_type": "code",
   "execution_count": 45,
   "metadata": {
    "colab": {
     "base_uri": "https://localhost:8080/"
    },
    "executionInfo": {
     "elapsed": 145204,
     "status": "ok",
     "timestamp": 1611607290798,
     "user": {
      "displayName": "Sharvari Desai",
      "photoUrl": "https://lh3.googleusercontent.com/a-/AOh14GjLQLnoBdWLbLrUtTZZ1D3q860BJquimYTOc0pJrg=s64",
      "userId": "10233909681194041221"
     },
     "user_tz": 300
    },
    "id": "SmaK31OUp84m",
    "outputId": "bcd97186-9b6a-4a07-ba8a-a3dd25faeb85"
   },
   "outputs": [
    {
     "name": "stdout",
     "output_type": "stream",
     "text": [
      "Optimal Recall: 0.8510167102879002 Precision: 0.9793790546802595 F1: 0.9106969729613271 at threshold: 0.32\n"
     ]
    }
   ],
   "source": [
    "thresh_list, best_recall, best_prec, best_f1, best_threshold = calc_prec_recall_f1(test_y, probas)\n",
    "print(f'Optimal Recall: {best_recall} Precision: {best_prec} F1: {best_f1} at threshold: {best_threshold}')"
   ]
  },
  {
   "cell_type": "code",
   "execution_count": 46,
   "metadata": {
    "colab": {
     "base_uri": "https://localhost:8080/",
     "height": 513
    },
    "executionInfo": {
     "elapsed": 144570,
     "status": "ok",
     "timestamp": 1611607290799,
     "user": {
      "displayName": "Sharvari Desai",
      "photoUrl": "https://lh3.googleusercontent.com/a-/AOh14GjLQLnoBdWLbLrUtTZZ1D3q860BJquimYTOc0pJrg=s64",
      "userId": "10233909681194041221"
     },
     "user_tz": 300
    },
    "id": "siofO2u9p84n",
    "outputId": "31c0b67a-6628-40ad-80d7-3678026ae461"
   },
   "outputs": [
    {
     "data": {
      "image/png": "[encoded data removed]",
      "text/plain": [
       "<Figure size 864x576 with 1 Axes>"
      ]
     },
     "metadata": {
      "needs_background": "light",
      "tags": []
     },
     "output_type": "display_data"
    }
   ],
   "source": [
    "thresh_list = np.array(thresh_list)\n",
    "threshold = thresh_list[:,0]\n",
    "recall_list = thresh_list[:,1]\n",
    "precision_list = thresh_list[:,2]\n",
    "f1_list = thresh_list[:,3]\n",
    "\n",
    "plt.figure(figsize = (12, 8))\n",
    "plt.plot(threshold, recall_list, label='recall')\n",
    "plt.plot(threshold, precision_list, label='precision')\n",
    "plt.plot(threshold, f1_list, label='f1')\n",
    "plt.title('Recall, Precision, F1')\n",
    "plt.xlabel('Threshold')\n",
    "plt.legend()\n",
    "plt.show();"
   ]
  },
  {
   "cell_type": "code",
   "execution_count": 47,
   "metadata": {
    "colab": {
     "base_uri": "https://localhost:8080/",
     "height": 404
    },
    "executionInfo": {
     "elapsed": 144321,
     "status": "ok",
     "timestamp": 1611607291224,
     "user": {
      "displayName": "Sharvari Desai",
      "photoUrl": "https://lh3.googleusercontent.com/a-/AOh14GjLQLnoBdWLbLrUtTZZ1D3q860BJquimYTOc0pJrg=s64",
      "userId": "10233909681194041221"
     },
     "user_tz": 300
    },
    "id": "Nn9KalHZp84n",
    "outputId": "9a84db36-b09d-4ff5-fb99-6bdd955d3d76"
   },
   "outputs": [
    {
     "data": {
      "image/png": "[encoded data removed]",
      "text/plain": [
       "<Figure size 576x432 with 1 Axes>"
      ]
     },
     "metadata": {
      "needs_background": "light",
      "tags": []
     },
     "output_type": "display_data"
    }
   ],
   "source": [
    "# ROC curve\n",
    "fp, tp, thresholds = roc_curve(test_y, probas)\n",
    "\n",
    "plt.figure(figsize = (8, 6))\n",
    "plt.plot(fp, tp)\n",
    "plt.title(\"ROC curve\")\n",
    "plt.xlabel( \"False Positive Rate\")\n",
    "plt.ylabel(\"True Positive Rate\")\n",
    "plt.show();"
   ]
  },
  {
   "cell_type": "code",
   "execution_count": 48,
   "metadata": {
    "executionInfo": {
     "elapsed": 143323,
     "status": "ok",
     "timestamp": 1611607291225,
     "user": {
      "displayName": "Sharvari Desai",
      "photoUrl": "https://lh3.googleusercontent.com/a-/AOh14GjLQLnoBdWLbLrUtTZZ1D3q860BJquimYTOc0pJrg=s64",
      "userId": "10233909681194041221"
     },
     "user_tz": 300
    },
    "id": "h8Qp2DbLp84n"
   },
   "outputs": [],
   "source": [
    "# Comparison between prediction and true label distribution\n",
    "test_pd = pd.DataFrame(pred_indices, columns=['pred'])\n",
    "test_pd['probas'] = probas\n",
    "\n",
    "label_list = []\n",
    "\n",
    "for i in test_label:\n",
    "    label = 1.0 if i['1'] else 0.0\n",
    "    label_list.append(label)\n",
    "    \n",
    "test_pd['label'] = label_list"
   ]
  },
  {
   "cell_type": "code",
   "execution_count": 49,
   "metadata": {
    "colab": {
     "base_uri": "https://localhost:8080/",
     "height": 372
    },
    "executionInfo": {
     "elapsed": 142849,
     "status": "ok",
     "timestamp": 1611607291585,
     "user": {
      "displayName": "Sharvari Desai",
      "photoUrl": "https://lh3.googleusercontent.com/a-/AOh14GjLQLnoBdWLbLrUtTZZ1D3q860BJquimYTOc0pJrg=s64",
      "userId": "10233909681194041221"
     },
     "user_tz": 300
    },
    "id": "utNMYSQdp84n",
    "outputId": "6843b2f3-76ec-498d-8518-9ea0370993e2"
   },
   "outputs": [
    {
     "name": "stderr",
     "output_type": "stream",
     "text": [
      "/usr/local/lib/python3.6/dist-packages/seaborn/distributions.py:2557: FutureWarning: `distplot` is a deprecated function and will be removed in a future version. Please adapt your code to use either `displot` (a figure-level function with similar flexibility) or `histplot` (an axes-level function for histograms).\n",
      "  warnings.warn(msg, FutureWarning)\n",
      "/usr/local/lib/python3.6/dist-packages/seaborn/distributions.py:2557: FutureWarning: `distplot` is a deprecated function and will be removed in a future version. Please adapt your code to use either `displot` (a figure-level function with similar flexibility) or `histplot` (an axes-level function for histograms).\n",
      "  warnings.warn(msg, FutureWarning)\n"
     ]
    },
    {
     "data": {
      "image/png": "[encoded data removed]",
      "text/plain": [
       "<Figure size 432x288 with 1 Axes>"
      ]
     },
     "metadata": {
      "needs_background": "light",
      "tags": []
     },
     "output_type": "display_data"
    }
   ],
   "source": [
    "sns.distplot(test_pd[test_pd.label == 1].probas, kde=False, bins=100, color='blue', label='Positive', norm_hist=True)\n",
    "sns.distplot(test_pd[test_pd.label == 0].probas, kde=False, bins=100, color='orange', label='Negative', norm_hist=True)\n",
    "\n",
    "plt.rcParams[\"figure.figsize\"] = (20, 10)\n",
    "plt.rcParams[\"font.size\"] = 20\n",
    "plt.rcParams[\"axes.labelsize\"] = 10\n",
    "plt.legend();"
   ]
  },
  {
   "cell_type": "code",
   "execution_count": null,
   "metadata": {
    "id": "-As49ZMUyTGb"
   },
   "outputs": [],
   "source": []
  }
 ],
 "metadata": {
  "colab": {
   "collapsed_sections": [],
   "machine_shape": "hm",
   "name": "Copy of WikipediaBERT.ipynb",
   "provenance": [],
   "toc_visible": true
  },
  "kernelspec": {
   "display_name": "Python 3",
   "language": "python",
   "name": "python3"
  },
  "language_info": {
   "codemirror_mode": {
    "name": "ipython",
    "version": 3
   },
   "file_extension": ".py",
   "mimetype": "text/x-python",
   "name": "python",
   "nbconvert_exporter": "python",
   "pygments_lexer": "ipython3",
   "version": "3.7.3"
  },
  "toc": {
   "base_numbering": 1,
   "nav_menu": {},
   "number_sections": true,
   "sideBar": true,
   "skip_h1_title": true,
   "title_cell": "Table of Contents",
   "title_sidebar": "Contents",
   "toc_cell": true,
   "toc_position": {},
   "toc_section_display": true,
   "toc_window_display": false
  }
 },
 "nbformat": 4,
 "nbformat_minor": 1
}
