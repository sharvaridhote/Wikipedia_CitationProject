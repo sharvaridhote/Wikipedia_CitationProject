{
 "cells": [
  {
   "cell_type": "markdown",
   "metadata": {
    "toc": true
   },
   "source": [
    "<h1>Table of Contents<span class=\"tocSkip\"></span></h1>\n",
    "<div class=\"toc\"><ul class=\"toc-item\"></ul></div>"
   ]
  },
  {
   "cell_type": "code",
   "execution_count": 23,
   "metadata": {
    "scrolled": true
   },
   "outputs": [],
   "source": [
    "import pandas as pd\n",
    "import unicodedata\n",
    "import random\n",
    "from train import training\n",
    "from util import load_data, evaluate,  df_tolist\n",
    "from sklearn.utils import shuffle"
   ]
  },
  {
   "cell_type": "code",
   "execution_count": 24,
   "metadata": {},
   "outputs": [
    {
     "name": "stdout",
     "output_type": "stream",
     "text": [
      "(36340, 2)\n",
      "1    19107\n",
      "0    17233\n",
      "Name: label, dtype: int64\n"
     ]
    },
    {
     "data": {
      "text/html": [
       "<div>\n",
       "<style scoped>\n",
       "    .dataframe tbody tr th:only-of-type {\n",
       "        vertical-align: middle;\n",
       "    }\n",
       "\n",
       "    .dataframe tbody tr th {\n",
       "        vertical-align: top;\n",
       "    }\n",
       "\n",
       "    .dataframe thead th {\n",
       "        text-align: right;\n",
       "    }\n",
       "</style>\n",
       "<table border=\"1\" class=\"dataframe\">\n",
       "  <thead>\n",
       "    <tr style=\"text-align: right;\">\n",
       "      <th></th>\n",
       "      <th>Statements</th>\n",
       "      <th>label</th>\n",
       "    </tr>\n",
       "  </thead>\n",
       "  <tbody>\n",
       "    <tr>\n",
       "      <th>5177</th>\n",
       "      <td>For the rest of the year, it serves as The Pla...</td>\n",
       "      <td>1</td>\n",
       "    </tr>\n",
       "    <tr>\n",
       "      <th>23939</th>\n",
       "      <td>where i is the imaginary unit, or can alternat...</td>\n",
       "      <td>0</td>\n",
       "    </tr>\n",
       "    <tr>\n",
       "      <th>26003</th>\n",
       "      <td>The next day, Maggie causes distractions when ...</td>\n",
       "      <td>0</td>\n",
       "    </tr>\n",
       "    <tr>\n",
       "      <th>15498</th>\n",
       "      <td>First published in 1924, it soon sold out, res...</td>\n",
       "      <td>1</td>\n",
       "    </tr>\n",
       "    <tr>\n",
       "      <th>6041</th>\n",
       "      <td>Aurelian spared the city and stationed a garri...</td>\n",
       "      <td>1</td>\n",
       "    </tr>\n",
       "  </tbody>\n",
       "</table>\n",
       "</div>"
      ],
      "text/plain": [
       "                                              Statements  label\n",
       "5177   For the rest of the year, it serves as The Pla...      1\n",
       "23939  where i is the imaginary unit, or can alternat...      0\n",
       "26003  The next day, Maggie causes distractions when ...      0\n",
       "15498  First published in 1924, it soon sold out, res...      1\n",
       "6041   Aurelian spared the city and stationed a garri...      1"
      ]
     },
     "execution_count": 24,
     "metadata": {},
     "output_type": "execute_result"
    }
   ],
   "source": [
    "# change to dataframe to Spacy format\n",
    "# wikidata featured articles scraped text\n",
    "df = pd.read_csv('E:/Sharpest_Mind/WikipediaCitation/src/Notebooks/Sentences_traindata.csv', encoding = 'utf8')\n",
    "df['Statements'] = (df['Statements'].map(lambda x: unicodedata.normalize('NFKD', str(x))))\n",
    "df = df[(df['Statements'].str.split().str.len() >10)].reset_index(drop=True)\n",
    "df['Statements'] = df['Statements'].astype(str)\n",
    "df =shuffle(df)\n",
    "df = df.drop_duplicates()\n",
    "print(df.shape)\n",
    "print(df.label.value_counts())\n",
    "df.head()"
   ]
  },
  {
   "cell_type": "code",
   "execution_count": 25,
   "metadata": {},
   "outputs": [
    {
     "data": {
      "text/plain": [
       "1    10000\n",
       "0    10000\n",
       "Name: label, dtype: int64"
      ]
     },
     "execution_count": 25,
     "metadata": {},
     "output_type": "execute_result"
    }
   ],
   "source": [
    "df1 = df[df['label']==1]\n",
    "df1 =shuffle(df1)\n",
    "df2 = df[df['label']==0]\n",
    "df2 =shuffle(df2)\n",
    "df3=pd.concat([df1[:10000],df2[:10000]])\n",
    "df3.label.value_counts()"
   ]
  },
  {
   "cell_type": "code",
   "execution_count": 26,
   "metadata": {},
   "outputs": [
    {
     "name": "stdout",
     "output_type": "stream",
     "text": [
      "[(\"Waugh was the son of a publisher, educated at Lancing College and then at Hertford College, Oxford. He worked briefly as a schoolmaster before he became a full-time writer. As a young man, he acquired many fashionable and aristocratic friends and developed a taste for country house society. He travelled extensively in the 1930s, often as a special newspaper correspondent; he reported from Abyssinia at the time of the 1935 Italian invasion. He served in the British armed forces throughout the Second World War, first in the Royal Marines and then in the Royal Horse Guards. He was a perceptive writer who used the experiences and the wide range of people whom he encountered in his works of fiction, generally to humorous effect. Waugh's detachment was such that he fictionalised his own mental breakdown which occurred in the early 1950s.\", {'cats': {'POSITIVE': False, 'NEGATIVE': True}})]\n",
      "[(\"The parish accepts the diocese's guidance on permitting baptism and marriage in church after a divorce, and claims to work closely with its Catholic and Methodist neighbours.\", {'cats': {'POSITIVE': True, 'NEGATIVE': False}})]\n"
     ]
    },
    {
     "name": "stderr",
     "output_type": "stream",
     "text": [
      "E:\\Sharpest_Mind\\WikipediaCitation\\src\\Notebooks\\util.py:78: SettingWithCopyWarning: \n",
      "A value is trying to be set on a copy of a slice from a DataFrame.\n",
      "Try using .loc[row_indexer,col_indexer] = value instead\n",
      "\n",
      "See the caveats in the documentation: https://pandas.pydata.org/pandas-docs/stable/user_guide/indexing.html#returning-a-view-versus-a-copy\n",
      "  df['tuples'] = df.apply(lambda row: (row[df.columns[0]], row[df.columns[1]]), axis=1)\n"
     ]
    }
   ],
   "source": [
    "# Processing the final format of training and validation data\n",
    "# Calling the load_data() function \n",
    "(train_texts, train_cats), (dev_texts, dev_cats) = load_data(df3,split=0.8)\n",
    "train_data = list(zip(train_texts,[{'cats': cats} for cats in train_cats]))\n",
    "print(train_data[:1])\n",
    "dev_data = list(zip(dev_texts,[{'cats': cats} for cats in dev_cats]))\n",
    "print(dev_data[:1])\n"
   ]
  },
  {
   "cell_type": "code",
   "execution_count": 27,
   "metadata": {},
   "outputs": [
    {
     "name": "stdout",
     "output_type": "stream",
     "text": [
      "4000\n"
     ]
    }
   ],
   "source": [
    "\n",
    "# change to dataframe to Spacy format\n",
    "# wikidata citation needed text\n",
    "df4 = pd.read_csv('E:/Sharpest_Mind/WikipediaCitation/data/processed/csv_files/sort/Citation_needed_wiki.csv', encoding = 'ISO-8859-1')\n",
    "df4 = shuffle(df4)\n",
    "df4_1 = df4[df4['label']==1] \n",
    "df4_0 = df4[df4['label']==0]\n",
    "df4_test = pd.concat([df4_1[:2000],df4_0[:2000]])\n",
    "test1 =df_tolist(df4_test)\n",
    "test_texts1, test_cats1 = zip(*test1)\n",
    "test_cats1 = [{\"POSITIVE\": bool(y), \"NEGATIVE\": not bool(y)} for y in test_cats1]\n",
    "test_data1 = list(zip(test_texts1,[{'cats': cats} for cats in test_cats1]))\n",
    "print(len(test_data1))"
   ]
  },
  {
   "cell_type": "code",
   "execution_count": 28,
   "metadata": {},
   "outputs": [
    {
     "name": "stdout",
     "output_type": "stream",
     "text": [
      "3980\n"
     ]
    }
   ],
   "source": [
    "\n",
    "# wikidata random articles -biography section\n",
    "df5 = pd.read_csv('E:/Sharpest_Mind/WikipediaCitation/data/processed/csv_files/sort/wiki_data_test.csv', encoding = 'ISO-8859-1')\n",
    "df5 = shuffle(df5)\n",
    "df5_1 = df5[df5['Label']==1] \n",
    "df5_0 = df5[df5['Label']==0]\n",
    "df5_test = pd.concat([df5_1[8000:],df5_0[8000:]])\n",
    "test2 =df_tolist(df5_test)\n",
    "\n",
    "random.shuffle(test2)\n",
    "\n",
    "test_texts2, test_cats2 = zip(*test2)\n",
    "test_cats2 = [{\"POSITIVE\": bool(y), \"NEGATIVE\": not bool(y)} for y in test_cats2]\n",
    "test_data2 = list(zip(test_texts2,[{'cats': cats} for cats in test_cats2]))\n",
    "print(len(test_data2))"
   ]
  },
  {
   "cell_type": "code",
   "execution_count": 29,
   "metadata": {},
   "outputs": [
    {
     "name": "stdout",
     "output_type": "stream",
     "text": [
      "3980\n"
     ]
    }
   ],
   "source": [
    "\n",
    "# wikidata random articles -biography section\n",
    "df6 = pd.read_csv('E:/Sharpest_Mind/WikipediaCitation/data/processed/csv_files/sort/random_monument.csv', encoding = 'ISO-8859-1')\n",
    "df6 = shuffle(df6)\n",
    "df6_1 = df6[df6['label']==1] \n",
    "df6_0 = df6[df6['label']==0]\n",
    "df6_test = pd.concat([df6_1[8000:],df6_0[8000:]])\n",
    "test3 =df_tolist(df6_test)\n",
    "\n",
    "random.shuffle(test3)\n",
    "\n",
    "test_texts3, test_cats3 = zip(*test3)\n",
    "test_cats3 = [{\"POSITIVE\": bool(y), \"NEGATIVE\": not bool(y)} for y in test_cats3]\n",
    "test_data3 = list(zip(test_texts2,[{'cats': cats} for cats in test_cats3]))\n",
    "print(len(test_data3))"
   ]
  },
  {
   "cell_type": "code",
   "execution_count": 30,
   "metadata": {},
   "outputs": [
    {
     "name": "stdout",
     "output_type": "stream",
     "text": [
      "16000\n",
      "4000\n",
      "3980\n",
      "4000\n"
     ]
    }
   ],
   "source": [
    "print(len(train_data))\n",
    "print(len(test_data1))\n",
    "print(len(test_data2))\n",
    "print(len(dev_data))"
   ]
  },
  {
   "cell_type": "code",
   "execution_count": null,
   "metadata": {
    "scrolled": true
   },
   "outputs": [
    {
     "name": "stdout",
     "output_type": "stream",
     "text": [
      "Training the model...\n",
      "LOSS \tA_train\tA_dev\tA_test\t  P  \t  R  \t  F  \n"
     ]
    }
   ],
   "source": [
    "# Model 1 - CNN, L2 =2e-4\n",
    "train_results1, dev_results1, test_results1 = training(train_texts, train_cats, dev_texts, dev_cats, test_texts3, test_cats3, L2 = 2e-5, \n",
    "                                                     learn_rate = 0.001, n_iter = 3, output_dir='model_artifactnewdatatest1L2-2e-5')"
   ]
  },
  {
   "cell_type": "code",
   "execution_count": null,
   "metadata": {},
   "outputs": [],
   "source": [
    "### Model 2 - Ensemble, L2 0.0001 \n",
    "train_results2, dev_results2, test_results2 = training(train_texts, train_cats, dev_texts, dev_cats, test_texts2, test_cats2, L2 = 2e-5, \n",
    "                                                     learn_rate = 0.001, n_iter=3,  output_dir='model_artifactnewtest2-2e-5')"
   ]
  },
  {
   "cell_type": "code",
   "execution_count": null,
   "metadata": {
    "scrolled": true
   },
   "outputs": [],
   "source": [
    "# Model 3\n",
    "train_restul3, dev_results3, test_result3 = training(train_texts, train_cats, dev_texts, dev_cats, test_texts1, test_cats1, L2 = 2e-4, \n",
    "                                                     learn_rate = 0.001, output_dir='model_artifactwikitest')"
   ]
  },
  {
   "cell_type": "code",
   "execution_count": null,
   "metadata": {},
   "outputs": [],
   "source": [
    "import matplotlib.pyplot as plt\n",
    "\n",
    "accuracy_train = [(d['textcat_a']) for d in train_results1]\n",
    "accuracy_dev = [(d['textcat_a']) for d in dev_results1]\n",
    "accuracy_test = [(d['textcat_a']) for d in test_results1]\n",
    "accuracy_train1 = [(d['textcat_a']) for d in train_restul3]\n",
    "accuracy_dev1 = [(d['textcat_a']) for d in dev_results3]\n",
    "accuracy_test1 = [(d['textcat_a']) for d in test_result3]\n",
    "epochs = range(0,5)\n",
    "plt.plot(epochs, accuracy_train, 'g', label='Train model1')\n",
    "plt.plot(epochs, accuracy_dev, 'k', label='Val model1')\n",
    "plt.plot(epochs, accuracy_test, 'b', label='Test model1')\n",
    "plt.plot(epochs, accuracy_train1, 'r', label='Train model2')\n",
    "plt.plot(epochs, accuracy_dev1, 'c', label='Vali model2')\n",
    "plt.plot(epochs, accuracy_test1, 'y', label='Test model2')\n",
    "plt.title('Training and Validation Accuracy Model 2 =simple_cnn and Model1 = Ensemble')\n",
    "plt.xlabel('Epochs')\n",
    "plt.ylabel('accuracy')\n",
    "plt.legend()\n",
    "plt.show()"
   ]
  },
  {
   "cell_type": "code",
   "execution_count": null,
   "metadata": {},
   "outputs": [],
   "source": [
    "import matplotlib.pyplot as plt\n",
    "\n",
    "accuracy_train = [(d['textcat_a']) for d in train_restul3]\n",
    "accuracy_dev = [(d['textcat_a']) for d in dev_results3]\n",
    "accuracy_test = [(d['textcat_a']) for d in test_result3]\n",
    "\n",
    "epochs = range(0,5)\n",
    "plt.plot(epochs, accuracy_train, 'g', label='Training accuracy_model1')\n",
    "plt.plot(epochs, accuracy_dev, 'k', label='Validation accuracy_model1')\n",
    "plt.plot(epochs, accuracy_test, 'b', label='Testing accuracy_model1')\n",
    "\n",
    "plt.title('Training and Validation Accuracy LR2=0.1 Model1 = Ensemble, Model 2 =simple_cnn')\n",
    "plt.xlabel('Epochs')\n",
    "plt.ylabel('accuracy')\n",
    "plt.legend()\n",
    "plt.show()"
   ]
  },
  {
   "cell_type": "code",
   "execution_count": null,
   "metadata": {},
   "outputs": [],
   "source": [
    "import matplotlib.pyplot as plt\n",
    "\n",
    "precision_test1 = [(d['textcat_p']) for d in test_results1]\n",
    "precision_test2 = [(d['textcat_p']) for d in test_results2]\n",
    "precision_test3 = [(d['textcat_p']) for d in test_result3]\n",
    "#precision_test4 = [(d['textcat_p']) for d in test_result4]\n",
    "\n",
    "epochs = range(0,5)\n",
    "plt.plot(epochs, precision_test1, 'g', label='1 - LR :2e-4&cnn')\n",
    "plt.plot(epochs, precision_test2, 'b', label='2 - LR :2e-4&cnn')\n",
    "plt.plot(epochs, precision_test3, 'r', label='3')\n",
    "#plt.plot(epochs, precision_test4, 'c', label='4')\n",
    "plt.title('Training and Validation precision 1 = =simple_cnn')\n",
    "plt.xlabel('Epochs')\n",
    "plt.ylabel('precision')\n",
    "plt.legend()\n",
    "plt.show()"
   ]
  },
  {
   "cell_type": "code",
   "execution_count": null,
   "metadata": {},
   "outputs": [],
   "source": [
    "# Testing the model = https://en.wikipedia.org/wiki/Che_Guevara - positive sentence\n",
    "test_text= \"Such positions also allowed him to play a central role in training the militia forces who repelled the Bay of Pigs Invasion and bringing the Soviet nuclear-armed ballistic missiles to Cuba which precipitated the 1962 Cuban Missile Crisis. \"\n",
    "doc=loaded_model(test_text)\n",
    "doc.cats"
   ]
  },
  {
   "cell_type": "code",
   "execution_count": null,
   "metadata": {},
   "outputs": [],
   "source": [
    "import spacy\n"
   ]
  },
  {
   "cell_type": "code",
   "execution_count": null,
   "metadata": {
    "scrolled": true
   },
   "outputs": [],
   "source": [
    "# Testing the model - negative sentence\n",
    "\n",
    "loaded_model = spacy.load('E:/Sharpest_Mind/WikipediaCitation/notebooks/model_artifactwikitest2-2e-3')\n",
    "test_text=\"Later, during the Age of Exploration, maps became progressively more accurate for navigation needs and were often sprinkled with sketches and drawings such as sailing ships showing the direction of trade winds, little trees and mounds to represent forests and mountains and of course, plenty of sea creatures and exotic natives much of them imaginary. As the need for geographical accuracy increased, these illustrations gradually slipped off the map and onto the borders and eventually disappeared altogether in the wake of modern scientific cartography.\"\n",
    "doc=loaded_model(test_text)\n",
    "doc.cats\n",
    "#spacy.displacy.render(doc, style='ent')"
   ]
  },
  {
   "cell_type": "code",
   "execution_count": null,
   "metadata": {},
   "outputs": [],
   "source": [
    "#positive sentence \n",
    "\n",
    "test_text1 = 'Anthropomorphic maps date back to when Sebastian Münster used a queen to depict Europe in 1570.'\n",
    "doc=loaded_model(test_text1)\n",
    "doc.cats"
   ]
  },
  {
   "cell_type": "code",
   "execution_count": null,
   "metadata": {},
   "outputs": [],
   "source": []
  }
 ],
 "metadata": {
  "kernelspec": {
   "display_name": "Python 3",
   "language": "python",
   "name": "python3"
  },
  "language_info": {
   "codemirror_mode": {
    "name": "ipython",
    "version": 3
   },
   "file_extension": ".py",
   "mimetype": "text/x-python",
   "name": "python",
   "nbconvert_exporter": "python",
   "pygments_lexer": "ipython3",
   "version": "3.7.3"
  },
  "toc": {
   "base_numbering": 1,
   "nav_menu": {},
   "number_sections": true,
   "sideBar": true,
   "skip_h1_title": true,
   "title_cell": "Table of Contents",
   "title_sidebar": "Contents",
   "toc_cell": true,
   "toc_position": {},
   "toc_section_display": true,
   "toc_window_display": false
  }
 },
 "nbformat": 4,
 "nbformat_minor": 4
}
