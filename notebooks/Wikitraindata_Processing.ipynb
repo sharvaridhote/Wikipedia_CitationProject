{
 "cells": [
  {
   "cell_type": "markdown",
   "metadata": {
    "toc": true
   },
   "source": [
    "<h1>Table of Contents<span class=\"tocSkip\"></span></h1>\n",
    "<div class=\"toc\"><ul class=\"toc-item\"></ul></div>"
   ]
  },
  {
   "cell_type": "markdown",
   "metadata": {},
   "source": [
    "# Create, clean and label training dataset\n",
    "With 5878 featured articles scrapped from Wikipedia. Here, I am creating sentences based labeled training dataset.\n",
    "- First reading text file in csv format.\n",
    "- After cleaning text, separating cited sentences (positive label) and non-cited sentences (negative label).\n",
    "- Save the Negative label dataframe\n",
    "- Positive sentences need to be further separated from non-cited sentences. For this purpose, we need to separate boundary at\n",
    "   bracket so I used custom sentence segmentation from Spacy. \n",
    "- Save the Positive label dataframe \n",
    "- Now I combine together Negative and Positive dataframes to obtain the training dataset.  "
   ]
  },
  {
   "cell_type": "code",
   "execution_count": 1,
   "metadata": {},
   "outputs": [],
   "source": [
    "# import packages\n",
    "import pandas as pd\n",
    "import numpy as np\n",
    "import unicodedata\n",
    "import sklearn.utils\n",
    "import random\n",
    "import os\n",
    "import warnings \n",
    "warnings.filterwarnings('ignore')\n",
    "%matplotlib inline\n",
    "import re\n",
    "import glob\n",
    "from pathlib import Path\n",
    "import matplotlib.pyplot as plt\n",
    "from util import df_tolist, create_label, string_limit, unicode_text, text_cleaning\n"
   ]
  },
  {
   "cell_type": "code",
   "execution_count": 2,
   "metadata": {
    "scrolled": true
   },
   "outputs": [],
   "source": [
    "# There are 5978 Wikipedia featured articles. Creating training dataset. \n",
    "# directory csv files\n",
    "full_path = 'E:/Sharpest_Mind/WikipediaCitation/data/processed/csv_files/Context_sentences_traindata'\n",
    "csvs = [x for x in os.listdir(full_path) if x.endswith('.csv')]\n",
    "#print(csvs)\n",
    "# stats.csv -> stats\n",
    "fns = [os.path.splitext(os.path.basename(x))[0] for x in csvs]\n",
    "#print(fns)\n",
    "d = {}\n",
    "for i in range(len(fns)):\n",
    "    d[fns[i]] = pd.read_csv(full_path+'/'+csvs[i], encoding = 'iso-8859-1')"
   ]
  },
  {
   "cell_type": "code",
   "execution_count": 3,
   "metadata": {
    "scrolled": true
   },
   "outputs": [
    {
     "name": "stdout",
     "output_type": "stream",
     "text": [
      "Citation_needed_wiki\n",
      "data0_1000links\n",
      "data2001_4000links\n",
      "data4001_5000links\n",
      "datat5001_5978links\n"
     ]
    }
   ],
   "source": [
    "for k, v in d.items():\n",
    "    print(k)"
   ]
  },
  {
   "cell_type": "code",
   "execution_count": 4,
   "metadata": {},
   "outputs": [
    {
     "data": {
      "text/html": [
       "<div>\n",
       "<style scoped>\n",
       "    .dataframe tbody tr th:only-of-type {\n",
       "        vertical-align: middle;\n",
       "    }\n",
       "\n",
       "    .dataframe tbody tr th {\n",
       "        vertical-align: top;\n",
       "    }\n",
       "\n",
       "    .dataframe thead th {\n",
       "        text-align: right;\n",
       "    }\n",
       "</style>\n",
       "<table border=\"1\" class=\"dataframe\">\n",
       "  <thead>\n",
       "    <tr style=\"text-align: right;\">\n",
       "      <th></th>\n",
       "      <th>Statements</th>\n",
       "    </tr>\n",
       "  </thead>\n",
       "  <tbody>\n",
       "    <tr>\n",
       "      <th>0</th>\n",
       "      <td>7 World Trade Center (7 WTC or WTC-7) refers t...</td>\n",
       "    </tr>\n",
       "    <tr>\n",
       "      <th>1</th>\n",
       "      <td>The original 7 World Trade Center was 47 stori...</td>\n",
       "    </tr>\n",
       "    <tr>\n",
       "      <th>2</th>\n",
       "      <td>On September 11, 2001, the structure was subst...</td>\n",
       "    </tr>\n",
       "    <tr>\n",
       "      <th>3</th>\n",
       "      <td>Construction of the new 7 World Trade Center b...</td>\n",
       "    </tr>\n",
       "    <tr>\n",
       "      <th>4</th>\n",
       "      <td>The original 7 World Trade Center was a 47-sto...</td>\n",
       "    </tr>\n",
       "    <tr>\n",
       "      <th>...</th>\n",
       "      <td>...</td>\n",
       "    </tr>\n",
       "    <tr>\n",
       "      <th>37224</th>\n",
       "      <td>The following year, the Mint hired Saint-Gaude...</td>\n",
       "    </tr>\n",
       "    <tr>\n",
       "      <th>37225</th>\n",
       "      <td>Large quantities of double eagles were melted ...</td>\n",
       "    </tr>\n",
       "    <tr>\n",
       "      <th>37226</th>\n",
       "      <td>In the 19th century, double eagles were little...</td>\n",
       "    </tr>\n",
       "    <tr>\n",
       "      <th>37227</th>\n",
       "      <td>As it became clear in the 1940s that the withd...</td>\n",
       "    </tr>\n",
       "    <tr>\n",
       "      <th>37228</th>\n",
       "      <td>There are many ways to collect Liberty Head do...</td>\n",
       "    </tr>\n",
       "  </tbody>\n",
       "</table>\n",
       "<p>37229 rows × 1 columns</p>\n",
       "</div>"
      ],
      "text/plain": [
       "                                              Statements\n",
       "0      7 World Trade Center (7 WTC or WTC-7) refers t...\n",
       "1      The original 7 World Trade Center was 47 stori...\n",
       "2      On September 11, 2001, the structure was subst...\n",
       "3      Construction of the new 7 World Trade Center b...\n",
       "4      The original 7 World Trade Center was a 47-sto...\n",
       "...                                                  ...\n",
       "37224  The following year, the Mint hired Saint-Gaude...\n",
       "37225  Large quantities of double eagles were melted ...\n",
       "37226  In the 19th century, double eagles were little...\n",
       "37227  As it became clear in the 1940s that the withd...\n",
       "37228  There are many ways to collect Liberty Head do...\n",
       "\n",
       "[37229 rows x 1 columns]"
      ]
     },
     "execution_count": 4,
     "metadata": {},
     "output_type": "execute_result"
    }
   ],
   "source": [
    "d['data0_1000links']"
   ]
  },
  {
   "cell_type": "code",
   "execution_count": 5,
   "metadata": {},
   "outputs": [
    {
     "name": "stdout",
     "output_type": "stream",
     "text": [
      "1    29145\n",
      "0     2714\n",
      "Name: label, dtype: int64\n"
     ]
    },
    {
     "data": {
      "text/html": [
       "<div>\n",
       "<style scoped>\n",
       "    .dataframe tbody tr th:only-of-type {\n",
       "        vertical-align: middle;\n",
       "    }\n",
       "\n",
       "    .dataframe tbody tr th {\n",
       "        vertical-align: top;\n",
       "    }\n",
       "\n",
       "    .dataframe thead th {\n",
       "        text-align: right;\n",
       "    }\n",
       "</style>\n",
       "<table border=\"1\" class=\"dataframe\">\n",
       "  <thead>\n",
       "    <tr style=\"text-align: right;\">\n",
       "      <th></th>\n",
       "      <th>Statements</th>\n",
       "      <th>label</th>\n",
       "    </tr>\n",
       "  </thead>\n",
       "  <tbody>\n",
       "    <tr>\n",
       "      <th>287</th>\n",
       "      <td>There is only limited evidence for use after t...</td>\n",
       "      <td>1</td>\n",
       "    </tr>\n",
       "    <tr>\n",
       "      <th>12301</th>\n",
       "      <td>The four-spored basidia typically measure 243...</td>\n",
       "      <td>1</td>\n",
       "    </tr>\n",
       "    <tr>\n",
       "      <th>6063</th>\n",
       "      <td>In addition to exhibitions of the Four Freedom...</td>\n",
       "      <td>1</td>\n",
       "    </tr>\n",
       "    <tr>\n",
       "      <th>4434</th>\n",
       "      <td>Altar 28 is located near Structure 10 in the C...</td>\n",
       "      <td>1</td>\n",
       "    </tr>\n",
       "    <tr>\n",
       "      <th>26918</th>\n",
       "      <td>Larger than most Australian frogs, the Austral...</td>\n",
       "      <td>0</td>\n",
       "    </tr>\n",
       "  </tbody>\n",
       "</table>\n",
       "</div>"
      ],
      "text/plain": [
       "                                              Statements label\n",
       "287    There is only limited evidence for use after t...     1\n",
       "12301  The four-spored basidia typically measure 243...     1\n",
       "6063   In addition to exhibitions of the Four Freedom...     1\n",
       "4434   Altar 28 is located near Structure 10 in the C...     1\n",
       "26918  Larger than most Australian frogs, the Austral...     0"
      ]
     },
     "execution_count": 5,
     "metadata": {},
     "output_type": "execute_result"
    }
   ],
   "source": [
    "# From 0-1000 links\n",
    "df1 = d['data0_1000links']\n",
    "df1 = string_limit(df1)\n",
    "df1 = create_label(df1)\n",
    "df1 = unicode_text(df1)\n",
    "print(df1['label'].value_counts())\n",
    "df1.tail()"
   ]
  },
  {
   "cell_type": "code",
   "execution_count": 6,
   "metadata": {},
   "outputs": [
    {
     "name": "stdout",
     "output_type": "stream",
     "text": [
      "1    68701\n",
      "0     7798\n",
      "Name: label, dtype: int64\n"
     ]
    },
    {
     "data": {
      "text/html": [
       "<div>\n",
       "<style scoped>\n",
       "    .dataframe tbody tr th:only-of-type {\n",
       "        vertical-align: middle;\n",
       "    }\n",
       "\n",
       "    .dataframe tbody tr th {\n",
       "        vertical-align: top;\n",
       "    }\n",
       "\n",
       "    .dataframe thead th {\n",
       "        text-align: right;\n",
       "    }\n",
       "</style>\n",
       "<table border=\"1\" class=\"dataframe\">\n",
       "  <thead>\n",
       "    <tr style=\"text-align: right;\">\n",
       "      <th></th>\n",
       "      <th>Statements</th>\n",
       "      <th>label</th>\n",
       "    </tr>\n",
       "  </thead>\n",
       "  <tbody>\n",
       "    <tr>\n",
       "      <th>33484</th>\n",
       "      <td>In Virginia, Allison produced light rainfall, ...</td>\n",
       "      <td>1</td>\n",
       "    </tr>\n",
       "    <tr>\n",
       "      <th>25514</th>\n",
       "      <td>Isaacs found \"Say Hello to My Little Friend\" t...</td>\n",
       "      <td>1</td>\n",
       "    </tr>\n",
       "    <tr>\n",
       "      <th>261</th>\n",
       "      <td>The Constitution introduces separation of powe...</td>\n",
       "      <td>1</td>\n",
       "    </tr>\n",
       "    <tr>\n",
       "      <th>51152</th>\n",
       "      <td>The significantly higher density of Enceladus ...</td>\n",
       "      <td>1</td>\n",
       "    </tr>\n",
       "    <tr>\n",
       "      <th>39773</th>\n",
       "      <td>\"Wanna Be Startin' Somethin'\" climaxes in an A...</td>\n",
       "      <td>1</td>\n",
       "    </tr>\n",
       "  </tbody>\n",
       "</table>\n",
       "</div>"
      ],
      "text/plain": [
       "                                              Statements label\n",
       "33484  In Virginia, Allison produced light rainfall, ...     1\n",
       "25514  Isaacs found \"Say Hello to My Little Friend\" t...     1\n",
       "261    The Constitution introduces separation of powe...     1\n",
       "51152  The significantly higher density of Enceladus ...     1\n",
       "39773  \"Wanna Be Startin' Somethin'\" climaxes in an A...     1"
      ]
     },
     "execution_count": 6,
     "metadata": {},
     "output_type": "execute_result"
    }
   ],
   "source": [
    "# From 2001-14000 links\n",
    "df2 = d['data2001_4000links']\n",
    "df2 = string_limit(df2)\n",
    "df2 = create_label(df2)\n",
    "df2 = unicode_text(df2)\n",
    "print(df2['label'].value_counts())\n",
    "df2.tail()"
   ]
  },
  {
   "cell_type": "code",
   "execution_count": 7,
   "metadata": {},
   "outputs": [
    {
     "name": "stdout",
     "output_type": "stream",
     "text": [
      "1    31974\n",
      "0     3033\n",
      "Name: label, dtype: int64\n"
     ]
    },
    {
     "data": {
      "text/html": [
       "<div>\n",
       "<style scoped>\n",
       "    .dataframe tbody tr th:only-of-type {\n",
       "        vertical-align: middle;\n",
       "    }\n",
       "\n",
       "    .dataframe tbody tr th {\n",
       "        vertical-align: top;\n",
       "    }\n",
       "\n",
       "    .dataframe thead th {\n",
       "        text-align: right;\n",
       "    }\n",
       "</style>\n",
       "<table border=\"1\" class=\"dataframe\">\n",
       "  <thead>\n",
       "    <tr style=\"text-align: right;\">\n",
       "      <th></th>\n",
       "      <th>Statements</th>\n",
       "      <th>label</th>\n",
       "    </tr>\n",
       "  </thead>\n",
       "  <tbody>\n",
       "    <tr>\n",
       "      <th>1599</th>\n",
       "      <td>In appearance, Helena was described by John Va...</td>\n",
       "      <td>1</td>\n",
       "    </tr>\n",
       "    <tr>\n",
       "      <th>34654</th>\n",
       "      <td>Meanwhile, Sega released the 32X on November 2...</td>\n",
       "      <td>1</td>\n",
       "    </tr>\n",
       "    <tr>\n",
       "      <th>34845</th>\n",
       "      <td>Sonic Team felt challenged by the new hardware...</td>\n",
       "      <td>1</td>\n",
       "    </tr>\n",
       "    <tr>\n",
       "      <th>31948</th>\n",
       "      <td>Kratos surprises Zeus, seizes the Blade of Oly...</td>\n",
       "      <td>1</td>\n",
       "    </tr>\n",
       "    <tr>\n",
       "      <th>1606</th>\n",
       "      <td>Considered by contemporaries to be a harsh but...</td>\n",
       "      <td>0</td>\n",
       "    </tr>\n",
       "  </tbody>\n",
       "</table>\n",
       "</div>"
      ],
      "text/plain": [
       "                                              Statements label\n",
       "1599   In appearance, Helena was described by John Va...     1\n",
       "34654  Meanwhile, Sega released the 32X on November 2...     1\n",
       "34845  Sonic Team felt challenged by the new hardware...     1\n",
       "31948  Kratos surprises Zeus, seizes the Blade of Oly...     1\n",
       "1606   Considered by contemporaries to be a harsh but...     0"
      ]
     },
     "execution_count": 7,
     "metadata": {},
     "output_type": "execute_result"
    }
   ],
   "source": [
    "# From 4001-5000 links\n",
    "df3 = d['data4001_5000links']\n",
    "df3 = string_limit(df3)\n",
    "df3 = create_label(df3)\n",
    "df3 = unicode_text(df3)\n",
    "print(df3['label'].value_counts())\n",
    "df3.tail()"
   ]
  },
  {
   "cell_type": "code",
   "execution_count": 9,
   "metadata": {},
   "outputs": [
    {
     "name": "stdout",
     "output_type": "stream",
     "text": [
      "1    31974\n",
      "0     3033\n",
      "Name: label, dtype: int64\n"
     ]
    },
    {
     "data": {
      "text/html": [
       "<div>\n",
       "<style scoped>\n",
       "    .dataframe tbody tr th:only-of-type {\n",
       "        vertical-align: middle;\n",
       "    }\n",
       "\n",
       "    .dataframe tbody tr th {\n",
       "        vertical-align: top;\n",
       "    }\n",
       "\n",
       "    .dataframe thead th {\n",
       "        text-align: right;\n",
       "    }\n",
       "</style>\n",
       "<table border=\"1\" class=\"dataframe\">\n",
       "  <thead>\n",
       "    <tr style=\"text-align: right;\">\n",
       "      <th></th>\n",
       "      <th>Statements</th>\n",
       "      <th>label</th>\n",
       "    </tr>\n",
       "  </thead>\n",
       "  <tbody>\n",
       "    <tr>\n",
       "      <th>34941</th>\n",
       "      <td>After the uneventful Saturn era, the series fo...</td>\n",
       "      <td>1</td>\n",
       "    </tr>\n",
       "    <tr>\n",
       "      <th>32278</th>\n",
       "      <td>While no new locales were introduced in Episod...</td>\n",
       "      <td>1</td>\n",
       "    </tr>\n",
       "    <tr>\n",
       "      <th>18181</th>\n",
       "      <td>Hewett finished the season with 1,047 runs for...</td>\n",
       "      <td>1</td>\n",
       "    </tr>\n",
       "    <tr>\n",
       "      <th>23247</th>\n",
       "      <td>The Royal Automobile Club campaigned vigorousl...</td>\n",
       "      <td>1</td>\n",
       "    </tr>\n",
       "    <tr>\n",
       "      <th>21437</th>\n",
       "      <td>That year, a song about Robinson by Buddy John...</td>\n",
       "      <td>1</td>\n",
       "    </tr>\n",
       "  </tbody>\n",
       "</table>\n",
       "</div>"
      ],
      "text/plain": [
       "                                              Statements label\n",
       "34941  After the uneventful Saturn era, the series fo...     1\n",
       "32278  While no new locales were introduced in Episod...     1\n",
       "18181  Hewett finished the season with 1,047 runs for...     1\n",
       "23247  The Royal Automobile Club campaigned vigorousl...     1\n",
       "21437  That year, a song about Robinson by Buddy John...     1"
      ]
     },
     "execution_count": 9,
     "metadata": {},
     "output_type": "execute_result"
    }
   ],
   "source": [
    "# From 4001-5000 links\n",
    "df4 = d['data4001_5000links']\n",
    "df4 = string_limit(df4)\n",
    "df4 = create_label(df4)\n",
    "df4 = unicode_text(df4)\n",
    "print(df4['label'].value_counts())\n",
    "df4.tail()"
   ]
  },
  {
   "cell_type": "code",
   "execution_count": 11,
   "metadata": {
    "scrolled": false
   },
   "outputs": [
    {
     "name": "stdout",
     "output_type": "stream",
     "text": [
      "1    26177\n",
      "0     2768\n",
      "Name: label, dtype: int64\n"
     ]
    },
    {
     "data": {
      "text/html": [
       "<div>\n",
       "<style scoped>\n",
       "    .dataframe tbody tr th:only-of-type {\n",
       "        vertical-align: middle;\n",
       "    }\n",
       "\n",
       "    .dataframe tbody tr th {\n",
       "        vertical-align: top;\n",
       "    }\n",
       "\n",
       "    .dataframe thead th {\n",
       "        text-align: right;\n",
       "    }\n",
       "</style>\n",
       "<table border=\"1\" class=\"dataframe\">\n",
       "  <thead>\n",
       "    <tr style=\"text-align: right;\">\n",
       "      <th></th>\n",
       "      <th>Statements</th>\n",
       "      <th>label</th>\n",
       "    </tr>\n",
       "  </thead>\n",
       "  <tbody>\n",
       "    <tr>\n",
       "      <th>10672</th>\n",
       "      <td>As a result of the outbreak of World War I, Ka...</td>\n",
       "      <td>1</td>\n",
       "    </tr>\n",
       "    <tr>\n",
       "      <th>4915</th>\n",
       "      <td>Canada was renamed Almirante Latorre once agai...</td>\n",
       "      <td>1</td>\n",
       "    </tr>\n",
       "    <tr>\n",
       "      <th>5436</th>\n",
       "      <td>A cannon is a large-caliber gun classified as ...</td>\n",
       "      <td>0</td>\n",
       "    </tr>\n",
       "    <tr>\n",
       "      <th>10786</th>\n",
       "      <td>The wreck at some point came into the ownershi...</td>\n",
       "      <td>1</td>\n",
       "    </tr>\n",
       "    <tr>\n",
       "      <th>10418</th>\n",
       "      <td>Her main armored belt was 350 mm (13.8 in) thi...</td>\n",
       "      <td>1</td>\n",
       "    </tr>\n",
       "  </tbody>\n",
       "</table>\n",
       "</div>"
      ],
      "text/plain": [
       "                                              Statements label\n",
       "10672  As a result of the outbreak of World War I, Ka...     1\n",
       "4915   Canada was renamed Almirante Latorre once agai...     1\n",
       "5436   A cannon is a large-caliber gun classified as ...     0\n",
       "10786  The wreck at some point came into the ownershi...     1\n",
       "10418  Her main armored belt was 350 mm (13.8 in) thi...     1"
      ]
     },
     "execution_count": 11,
     "metadata": {},
     "output_type": "execute_result"
    }
   ],
   "source": [
    "# From 5001-5978 links\n",
    "df5 = d['datat5001_5978links']\n",
    "df5 = string_limit(df5)\n",
    "df5 = create_label(df5)\n",
    "df5 = unicode_text(df5)\n",
    "print(df5['label'].value_counts())\n",
    "df5.tail()"
   ]
  },
  {
   "cell_type": "code",
   "execution_count": 19,
   "metadata": {
    "scrolled": true
   },
   "outputs": [
    {
     "name": "stdout",
     "output_type": "stream",
     "text": [
      "(20000, 2)\n"
     ]
    },
    {
     "data": {
      "text/html": [
       "<div>\n",
       "<style scoped>\n",
       "    .dataframe tbody tr th:only-of-type {\n",
       "        vertical-align: middle;\n",
       "    }\n",
       "\n",
       "    .dataframe tbody tr th {\n",
       "        vertical-align: top;\n",
       "    }\n",
       "\n",
       "    .dataframe thead th {\n",
       "        text-align: right;\n",
       "    }\n",
       "</style>\n",
       "<table border=\"1\" class=\"dataframe\">\n",
       "  <thead>\n",
       "    <tr style=\"text-align: right;\">\n",
       "      <th></th>\n",
       "      <th>Statements</th>\n",
       "      <th>label</th>\n",
       "    </tr>\n",
       "  </thead>\n",
       "  <tbody>\n",
       "    <tr>\n",
       "      <th>0</th>\n",
       "      <td>The modern search for the Mary Rose was initia...</td>\n",
       "      <td>1</td>\n",
       "    </tr>\n",
       "    <tr>\n",
       "      <th>1</th>\n",
       "      <td>In the early 17th century, Richard Sackville, ...</td>\n",
       "      <td>1</td>\n",
       "    </tr>\n",
       "    <tr>\n",
       "      <th>2</th>\n",
       "      <td>Plateosaurus gracilis, the older species, is f...</td>\n",
       "      <td>1</td>\n",
       "    </tr>\n",
       "    <tr>\n",
       "      <th>3</th>\n",
       "      <td>Although the pharaoh delegated his authority, ...</td>\n",
       "      <td>1</td>\n",
       "    </tr>\n",
       "    <tr>\n",
       "      <th>4</th>\n",
       "      <td>Mammoths continued growing during adulthood, a...</td>\n",
       "      <td>1</td>\n",
       "    </tr>\n",
       "  </tbody>\n",
       "</table>\n",
       "</div>"
      ],
      "text/plain": [
       "                                          Statements label\n",
       "0  The modern search for the Mary Rose was initia...     1\n",
       "1  In the early 17th century, Richard Sackville, ...     1\n",
       "2  Plateosaurus gracilis, the older species, is f...     1\n",
       "3  Although the pharaoh delegated his authority, ...     1\n",
       "4  Mammoths continued growing during adulthood, a...     1"
      ]
     },
     "execution_count": 19,
     "metadata": {},
     "output_type": "execute_result"
    }
   ],
   "source": [
    "# dataframe with all positive examples\n",
    "\n",
    "df_positive = pd.concat([df1[df1['label']=='1'][:4000], df2[df2['label']=='1'][:4000], df3[df3['label']=='1'][:4000], \n",
    "                         df4[df4['label']=='1'][:4000], df5[df5['label']=='1'][:4000]], ignore_index=True, sort=False)\n",
    "print(df_positive.shape)\n",
    "# Cleaning and preprocessing the text \n",
    "df_positive['Statements'] = text_cleaning(df_positive['Statements'])\n",
    "df_positive.to_csv('df_positive1.csv', index=False,  header=None,  sep=' ', mode='a')\n",
    "df_positive.head()"
   ]
  },
  {
   "cell_type": "code",
   "execution_count": 20,
   "metadata": {
    "scrolled": true
   },
   "outputs": [
    {
     "name": "stdout",
     "output_type": "stream",
     "text": [
      "(19346, 2)\n"
     ]
    },
    {
     "data": {
      "text/html": [
       "<div>\n",
       "<style scoped>\n",
       "    .dataframe tbody tr th:only-of-type {\n",
       "        vertical-align: middle;\n",
       "    }\n",
       "\n",
       "    .dataframe tbody tr th {\n",
       "        vertical-align: top;\n",
       "    }\n",
       "\n",
       "    .dataframe thead th {\n",
       "        text-align: right;\n",
       "    }\n",
       "</style>\n",
       "<table border=\"1\" class=\"dataframe\">\n",
       "  <thead>\n",
       "    <tr style=\"text-align: right;\">\n",
       "      <th></th>\n",
       "      <th>Statements</th>\n",
       "      <th>label</th>\n",
       "    </tr>\n",
       "  </thead>\n",
       "  <tbody>\n",
       "    <tr>\n",
       "      <th>0</th>\n",
       "      <td>It seems that the kakapo  like many of New Ze...</td>\n",
       "      <td>0</td>\n",
       "    </tr>\n",
       "    <tr>\n",
       "      <th>1</th>\n",
       "      <td>Small for a sauropod, Nigersaurus was about 9 ...</td>\n",
       "      <td>0</td>\n",
       "    </tr>\n",
       "    <tr>\n",
       "      <th>2</th>\n",
       "      <td>When the watchman on the wall, the Shieldings'...</td>\n",
       "      <td>0</td>\n",
       "    </tr>\n",
       "    <tr>\n",
       "      <th>3</th>\n",
       "      <td>Velázquez uses this light not only to add vol...</td>\n",
       "      <td>0</td>\n",
       "    </tr>\n",
       "    <tr>\n",
       "      <th>4</th>\n",
       "      <td>The grey-cowled wood rail or grey-necked wood ...</td>\n",
       "      <td>0</td>\n",
       "    </tr>\n",
       "  </tbody>\n",
       "</table>\n",
       "</div>"
      ],
      "text/plain": [
       "                                          Statements label\n",
       "0  It seems that the kakapo  like many of New Ze...     0\n",
       "1  Small for a sauropod, Nigersaurus was about 9 ...     0\n",
       "2  When the watchman on the wall, the Shieldings'...     0\n",
       "3  Velázquez uses this light not only to add vol...     0\n",
       "4  The grey-cowled wood rail or grey-necked wood ...     0"
      ]
     },
     "execution_count": 20,
     "metadata": {},
     "output_type": "execute_result"
    }
   ],
   "source": [
    "#dataframe with all negative examples\n",
    "df_negative = pd.concat([df1[df1['label']=='0'], df2[df2['label']=='0'], df3[df3['label']=='0'], df4[df4['label']=='0'], df5[df5['label']=='0']], ignore_index=True, sort=False)\n",
    "print(df_negative.shape)\n",
    "# Cleaning and preprocessing the text \n",
    "df_negative['Statements'] = text_cleaning(df_negative['Statements'])\n",
    "df_negative.to_csv('df_negative1.csv', index=False,  header=None,  sep=' ', mode='a')\n",
    "df_negative.head()"
   ]
  },
  {
   "cell_type": "markdown",
   "metadata": {},
   "source": [
    "# Tokenize positive labels to sentence using spacy tokenizer. "
   ]
  },
  {
   "cell_type": "code",
   "execution_count": null,
   "metadata": {},
   "outputs": [],
   "source": [
    "import re\n",
    "import unicodedata\n",
    "\n",
    "# create list with 1000000 batch size. Spacy doc charecters limit\n",
    "file_open = open('E:/Sharpest_Mind/WikipediaCitation/data/processed/df_positive.prn', 'r', encoding='UTF-8',errors = 'ignore' )\n",
    "scraped_text = file_open.read()\n",
    "re.sub(r\"\\n\", \" \", scraped_text)   # remove newline charecter\n",
    "unicodedata.normalize(\"NFKD\",scraped_text)   # encoding special charecters\n",
    "file_open.close()\n",
    "total_count = len(scraped_text)\n",
    "chunks = (total_count - 1) // 1000000 + 1\n",
    "text_batches =[]\n",
    "for i in range(chunks):\n",
    "    batch = scraped_text[i*1000000:(i+1)*1000000]\n",
    "    \n",
    "    text_batches.append(batch)\n",
    "    "
   ]
  },
  {
   "cell_type": "code",
   "execution_count": null,
   "metadata": {
    "scrolled": true
   },
   "outputs": [],
   "source": [
    "len(text_batches)"
   ]
  },
  {
   "cell_type": "code",
   "execution_count": null,
   "metadata": {},
   "outputs": [],
   "source": [
    "# sentence tokenization \n",
    "import spacy\n",
    "import pandas as pd\n",
    "\n",
    "def custom_sentence_boundary(doc):\n",
    "    #  function to split sentences at the end of citation bracket and no splitting at some other charecters\n",
    "    for i, token in enumerate(doc):\n",
    "        if token.text == ']' :\n",
    "            doc[i+1].sent_start = True\n",
    "            \n",
    "    return doc\n",
    "\n",
    "def sentence_tokenization(text_batches):\n",
    "    nlp = spacy.load('en_core_web_sm')  \n",
    "    nlp.add_pipe(custom_sentence_boundary, before='parser')\n",
    "\n",
    "    sents_list = []    \n",
    "    \n",
    "    for elem in range(len(text_batches[0:100])):\n",
    "        texts =str(text_batches[elem])\n",
    "        texts= re.sub(r\"\\n\", \"\", texts)   # remove newline charecter\n",
    "        texts = re.sub(\"(<br/>)\", \"\", texts)\n",
    "        texts = re.sub('(<a).*(>).*(</a>)', '', texts)\n",
    "        texts = re.sub('(&amp)', '', texts)\n",
    "        texts = re.sub('(&gt)', '', texts)\n",
    "        texts = re.sub('(&lt)', '', texts)\n",
    "        texts = re.sub('(\\xa0)', ' ', texts)  \n",
    "        texts = unicodedata.normalize(\"NFKD\",texts)   # encoding special charecters\n",
    "        doc = nlp(texts)\n",
    "\n",
    "        for sent in doc.sents:\n",
    "            sents_list.append(sent.text)\n",
    "    df = pd.DataFrame(sents_list, columns=['text'])\n",
    "    df.to_csv('sents_list.csv', index=False)\n",
    "    \n",
    "    return sents_list"
   ]
  },
  {
   "cell_type": "code",
   "execution_count": null,
   "metadata": {},
   "outputs": [],
   "source": [
    "sent_token = sentence_tokenization(text_batches)"
   ]
  },
  {
   "cell_type": "code",
   "execution_count": null,
   "metadata": {
    "scrolled": true
   },
   "outputs": [],
   "source": [
    "len(sent_token)"
   ]
  },
  {
   "cell_type": "code",
   "execution_count": null,
   "metadata": {
    "scrolled": false
   },
   "outputs": [],
   "source": [
    "sent_token[:10]"
   ]
  },
  {
   "cell_type": "code",
   "execution_count": null,
   "metadata": {},
   "outputs": [],
   "source": [
    "df_new = pd.DataFrame({'Statements':sent_token})\n"
   ]
  },
  {
   "cell_type": "code",
   "execution_count": null,
   "metadata": {},
   "outputs": [],
   "source": [
    "df_new.to_csv('Positive0_100.csv', index=False)"
   ]
  },
  {
   "cell_type": "code",
   "execution_count": null,
   "metadata": {
    "scrolled": true
   },
   "outputs": [],
   "source": [
    "# From 5001-5978 links  - select positive labels\n",
    "#df_new= pd.read_csv('final_list.csv', encoding ='utf8')\n",
    "df_new = string_limit(df_new)\n",
    "df_new = create_label(df_new)\n",
    "df_new = unicode_text(df_new)\n",
    "print(df_new['label'].value_counts())\n",
    "df_new.tail()"
   ]
  },
  {
   "cell_type": "code",
   "execution_count": null,
   "metadata": {},
   "outputs": [],
   "source": [
    "df_pos = df_new[df_new['label']=='1']"
   ]
  },
  {
   "cell_type": "code",
   "execution_count": null,
   "metadata": {},
   "outputs": [],
   "source": [
    "df_pos.head()"
   ]
  },
  {
   "cell_type": "code",
   "execution_count": null,
   "metadata": {
    "scrolled": false
   },
   "outputs": [],
   "source": [
    "df_pos = df_pos[(df_pos['Statements'].str.split().str.len() >25)].reset_index(drop=True)\n",
    "df_pos.head()"
   ]
  },
  {
   "cell_type": "code",
   "execution_count": null,
   "metadata": {},
   "outputs": [],
   "source": [
    "df_pos.shape"
   ]
  },
  {
   "cell_type": "code",
   "execution_count": null,
   "metadata": {},
   "outputs": [],
   "source": [
    "df_pos.head()"
   ]
  },
  {
   "cell_type": "code",
   "execution_count": null,
   "metadata": {
    "scrolled": true
   },
   "outputs": [],
   "source": [
    "df_negative.shape"
   ]
  },
  {
   "cell_type": "code",
   "execution_count": null,
   "metadata": {
    "scrolled": true
   },
   "outputs": [],
   "source": [
    "df_negative.head()"
   ]
  },
  {
   "cell_type": "code",
   "execution_count": null,
   "metadata": {},
   "outputs": [],
   "source": [
    "# Combinig positive and negative lables and creating final trainigg data. \n",
    "df_final =pd.concat([df_pos, df_negative],  ignore_index=True, sort=False)"
   ]
  },
  {
   "cell_type": "code",
   "execution_count": null,
   "metadata": {
    "scrolled": true
   },
   "outputs": [],
   "source": [
    "df_final.shape"
   ]
  },
  {
   "cell_type": "code",
   "execution_count": null,
   "metadata": {},
   "outputs": [],
   "source": [
    "df_final.tail()"
   ]
  },
  {
   "cell_type": "code",
   "execution_count": null,
   "metadata": {},
   "outputs": [],
   "source": [
    "# labeled train dataset based on feature articles \n",
    "df_pos.to_csv('Positive_label.csv', index=False)"
   ]
  },
  {
   "cell_type": "code",
   "execution_count": null,
   "metadata": {},
   "outputs": [],
   "source": []
  }
 ],
 "metadata": {
  "kernelspec": {
   "display_name": "Python 3",
   "language": "python",
   "name": "python3"
  },
  "language_info": {
   "codemirror_mode": {
    "name": "ipython",
    "version": 3
   },
   "file_extension": ".py",
   "mimetype": "text/x-python",
   "name": "python",
   "nbconvert_exporter": "python",
   "pygments_lexer": "ipython3",
   "version": "3.7.3"
  },
  "toc": {
   "base_numbering": 1,
   "nav_menu": {},
   "number_sections": true,
   "sideBar": true,
   "skip_h1_title": true,
   "title_cell": "Table of Contents",
   "title_sidebar": "Contents",
   "toc_cell": true,
   "toc_position": {},
   "toc_section_display": true,
   "toc_window_display": false
  }
 },
 "nbformat": 4,
 "nbformat_minor": 4
}
