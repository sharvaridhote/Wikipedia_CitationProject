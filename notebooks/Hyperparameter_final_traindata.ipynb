{
 "cells": [
  {
   "cell_type": "markdown",
   "metadata": {
    "toc": true
   },
   "source": [
    "<h1>Table of Contents<span class=\"tocSkip\"></span></h1>\n",
    "<div class=\"toc\"><ul class=\"toc-item\"></ul></div>"
   ]
  },
  {
   "cell_type": "code",
   "execution_count": 33,
   "metadata": {
    "scrolled": true
   },
   "outputs": [],
   "source": [
    "import pandas as pd\n",
    "import unicodedata\n",
    "import random\n",
    "from train import training, load_data, evaluate\n",
    "from util import df_tolist\n",
    "from sklearn.utils import shuffle"
   ]
  },
  {
   "cell_type": "code",
   "execution_count": 34,
   "metadata": {
    "scrolled": false
   },
   "outputs": [
    {
     "name": "stdout",
     "output_type": "stream",
     "text": [
      "(29461, 2)\n",
      "0    17232\n",
      "1    12229\n",
      "Name: label, dtype: int64\n"
     ]
    },
    {
     "data": {
      "text/html": [
       "<div>\n",
       "<style scoped>\n",
       "    .dataframe tbody tr th:only-of-type {\n",
       "        vertical-align: middle;\n",
       "    }\n",
       "\n",
       "    .dataframe tbody tr th {\n",
       "        vertical-align: top;\n",
       "    }\n",
       "\n",
       "    .dataframe thead th {\n",
       "        text-align: right;\n",
       "    }\n",
       "</style>\n",
       "<table border=\"1\" class=\"dataframe\">\n",
       "  <thead>\n",
       "    <tr style=\"text-align: right;\">\n",
       "      <th></th>\n",
       "      <th>Statements</th>\n",
       "      <th>label</th>\n",
       "    </tr>\n",
       "  </thead>\n",
       "  <tbody>\n",
       "    <tr>\n",
       "      <th>8911</th>\n",
       "      <td>However, in 2001 the art historian AÌngel At...</td>\n",
       "      <td>1</td>\n",
       "    </tr>\n",
       "    <tr>\n",
       "      <th>32192</th>\n",
       "      <td>They gave their lives in service to their coun...</td>\n",
       "      <td>0</td>\n",
       "    </tr>\n",
       "    <tr>\n",
       "      <th>10104</th>\n",
       "      <td>Having arranged an introduction via Henry Fuse...</td>\n",
       "      <td>1</td>\n",
       "    </tr>\n",
       "    <tr>\n",
       "      <th>3253</th>\n",
       "      <td>The stolen portion of the stela was returned t...</td>\n",
       "      <td>1</td>\n",
       "    </tr>\n",
       "    <tr>\n",
       "      <th>14599</th>\n",
       "      <td>While dinosaurs were ancestrally bipedal, many...</td>\n",
       "      <td>0</td>\n",
       "    </tr>\n",
       "  </tbody>\n",
       "</table>\n",
       "</div>"
      ],
      "text/plain": [
       "                                              Statements  label\n",
       "8911   However, in 2001 the art historian AÌngel At...      1\n",
       "32192  They gave their lives in service to their coun...      0\n",
       "10104  Having arranged an introduction via Henry Fuse...      1\n",
       "3253   The stolen portion of the stela was returned t...      1\n",
       "14599  While dinosaurs were ancestrally bipedal, many...      0"
      ]
     },
     "execution_count": 34,
     "metadata": {},
     "output_type": "execute_result"
    }
   ],
   "source": [
    "# change to dataframe to Spacy format\n",
    "# wikidata featured articles scraped text\n",
    "df = pd.read_csv('E:/Sharpest_Mind/WikipediaCitation/src/Notebooks/Final_traindata.csv', encoding = 'utf8')\n",
    "df = df[(df['Statements'].str.split().str.len() >20)].reset_index(drop=True)\n",
    "df['Statements'] = df['Statements'].astype(str)\n",
    "df =shuffle(df)\n",
    "df = df.drop_duplicates()\n",
    "print(df.shape)\n",
    "print(df.label.value_counts())\n",
    "df.head()"
   ]
  },
  {
   "cell_type": "code",
   "execution_count": 35,
   "metadata": {},
   "outputs": [
    {
     "name": "stdout",
     "output_type": "stream",
     "text": [
      "(12229, 2)\n",
      "(17229, 2)\n"
     ]
    },
    {
     "data": {
      "text/plain": [
       "1    8000\n",
       "0    8000\n",
       "Name: label, dtype: int64"
      ]
     },
     "execution_count": 35,
     "metadata": {},
     "output_type": "execute_result"
    }
   ],
   "source": [
    "df1 = df[df['label']==1]\n",
    "print(df1.shape)\n",
    "print(df2.shape)\n",
    "df2 = df[df['label']==0]\n",
    "df_train=pd.concat([df1[:8000],df2[:8000]])\n",
    "df_dev=pd.concat([df1[8001:10000],df2[8001:10000]])\n",
    "\n",
    "df_train.label.value_counts()"
   ]
  },
  {
   "cell_type": "code",
   "execution_count": 36,
   "metadata": {},
   "outputs": [
    {
     "data": {
      "text/plain": [
       "1    1999\n",
       "0    1999\n",
       "Name: label, dtype: int64"
      ]
     },
     "execution_count": 36,
     "metadata": {},
     "output_type": "execute_result"
    }
   ],
   "source": [
    "df_dev.label.value_counts()"
   ]
  },
  {
   "cell_type": "code",
   "execution_count": 37,
   "metadata": {},
   "outputs": [
    {
     "name": "stderr",
     "output_type": "stream",
     "text": [
      "E:\\Sharpest_Mind\\WikipediaCitation\\src\\Notebooks\\util.py:79: SettingWithCopyWarning: \n",
      "A value is trying to be set on a copy of a slice from a DataFrame.\n",
      "Try using .loc[row_indexer,col_indexer] = value instead\n",
      "\n",
      "See the caveats in the documentation: https://pandas.pydata.org/pandas-docs/stable/user_guide/indexing.html#returning-a-view-versus-a-copy\n",
      "  df['tuples'] = df.apply(lambda row: (row[df.columns[0]], row[df.columns[1]]), axis=1)\n"
     ]
    }
   ],
   "source": [
    "df_train = shuffle(df_train)\n",
    "train =df_tolist(df_train)\n",
    "train_texts, train_cats = zip(*train)\n",
    "train_cats = [{\"POSITIVE\": bool(y), \"NEGATIVE\": not bool(y)} for y in train_cats]\n",
    "train_data = list(zip(train_texts,[{'cats': cats} for cats in train_cats]))"
   ]
  },
  {
   "cell_type": "code",
   "execution_count": 46,
   "metadata": {},
   "outputs": [
    {
     "name": "stderr",
     "output_type": "stream",
     "text": [
      "IOPub data rate exceeded.\n",
      "The notebook server will temporarily stop sending output\n",
      "to the client in order to avoid crashing it.\n",
      "To change this limit, set the config variable\n",
      "`--NotebookApp.iopub_data_rate_limit`.\n",
      "\n",
      "Current values:\n",
      "NotebookApp.iopub_data_rate_limit=1000000.0 (bytes/sec)\n",
      "NotebookApp.rate_limit_window=3.0 (secs)\n",
      "\n"
     ]
    }
   ],
   "source": [
    "df_dev = shuffle(df_dev)\n",
    "dev =df_tolist(df_dev)\n",
    "dev_texts, dev_cats = zip(*train)\n",
    "dev_cats = [{\"POSITIVE\": bool(y), \"NEGATIVE\": not bool(y)} for y in dev_cats]\n",
    "dev_data = list(zip(dev_texts,[{'cats': cats} for cats in dev_cats]))\n",
    "print(dev_data)"
   ]
  },
  {
   "cell_type": "code",
   "execution_count": 47,
   "metadata": {},
   "outputs": [
    {
     "name": "stdout",
     "output_type": "stream",
     "text": [
      "4000\n"
     ]
    }
   ],
   "source": [
    "# Converting the dataframe into a list of tuples\n",
    "# change to dataframe to Spacy format\n",
    "# wikidata citation needed text\n",
    "df4 = pd.read_csv('E:/Sharpest_Mind/WikipediaCitation/data/processed/csv_files/sort/Citation_needed_wiki.csv', encoding = 'ISO-8859-1')\n",
    "df4_test = shuffle(df4)\n",
    "#df4_1 = df4[df4['label']==1] \n",
    "#df4_0 = df4[df4['label']==0]\n",
    "#df4_test = pd.concat([df4)\n",
    "test1 =df_tolist(df4_test[:4000])\n",
    "test_texts1, test_cats1 = zip(*test1)\n",
    "test_cats1 = [{\"POSITIVE\": bool(y), \"NEGATIVE\": not bool(y)} for y in test_cats1]\n",
    "test_data1 = list(zip(test_texts1,[{'cats': cats} for cats in test_cats1]))\n",
    "print(len(test_data1))\n"
   ]
  },
  {
   "cell_type": "code",
   "execution_count": 48,
   "metadata": {},
   "outputs": [
    {
     "name": "stdout",
     "output_type": "stream",
     "text": [
      "4000\n"
     ]
    }
   ],
   "source": [
    "# Converting the dataframe into a list of tuples\n",
    "# change to dataframe to Spacy format\n",
    "# wikidata citation needed text\n",
    "df4 = pd.read_csv('E:/Sharpest_Mind/WikipediaCitation/data/processed/csv_files/sort/Citation_needed_wiki.csv', encoding = 'ISO-8859-1')\n",
    "df4_test = shuffle(df4)\n",
    "#df4_1 = df4[df4['label']==1] \n",
    "#df4_0 = df4[df4['label']==0]\n",
    "#df4_test = pd.concat([df4)\n",
    "test1 =df_tolist(df4_test[:4000])\n",
    "test_texts1, test_cats1 = zip(*test1)\n",
    "test_cats1 = [{\"POSITIVE\": bool(y), \"NEGATIVE\": not bool(y)} for y in test_cats1]\n",
    "test_data1 = list(zip(test_texts1,[{'cats': cats} for cats in test_cats1]))\n",
    "print(len(test_data1))\n"
   ]
  },
  {
   "cell_type": "code",
   "execution_count": 49,
   "metadata": {},
   "outputs": [
    {
     "name": "stdout",
     "output_type": "stream",
     "text": [
      "3980\n"
     ]
    }
   ],
   "source": [
    "# Converting the dataframe into a list of tuples\n",
    "# wikidata random articles -biography section\n",
    "df5 = pd.read_csv('E:/Sharpest_Mind/WikipediaCitation/data/processed/csv_files/sort/wiki_data_test.csv', encoding = 'ISO-8859-1')\n",
    "df5 = shuffle(df5)\n",
    "df5_1 = df5[df5['Label']==1] \n",
    "df5_0 = df5[df5['Label']==0]\n",
    "df5_test = pd.concat([df5_1[8000:],df5_0[8000:]])\n",
    "test2 =df_tolist(df5_test)\n",
    "\n",
    "random.shuffle(test2)\n",
    "\n",
    "test_texts2, test_cats2 = zip(*test2)\n",
    "test_cats2 = [{\"POSITIVE\": bool(y), \"NEGATIVE\": not bool(y)} for y in test_cats2]\n",
    "test_data2 = list(zip(test_texts2,[{'cats': cats} for cats in test_cats2]))\n",
    "print(len(test_data2))"
   ]
  },
  {
   "cell_type": "code",
   "execution_count": 50,
   "metadata": {
    "scrolled": true
   },
   "outputs": [
    {
     "name": "stdout",
     "output_type": "stream",
     "text": [
      "16000\n",
      "4000\n",
      "3980\n",
      "16000\n"
     ]
    }
   ],
   "source": [
    "print(len(train_data))\n",
    "print(len(test_data1))\n",
    "print(len(test_data2))\n",
    "print(len(dev_data))"
   ]
  },
  {
   "cell_type": "code",
   "execution_count": 51,
   "metadata": {},
   "outputs": [
    {
     "name": "stdout",
     "output_type": "stream",
     "text": [
      "Training the model...\n",
      "LOSS \tA_train\tA_dev\tA_test\t  P  \t  R  \t  F  \n",
      "17.8005\t0.5000\t0.5000\t0.4960\t0.5000\t1.0000\t0.6667\n",
      "17.7997\t0.5000\t0.5000\t0.5040\t0.5000\t1.0000\t0.6667\n",
      "17.7991\t0.5000\t0.5000\t0.4960\t0.0000\t0.0000\t0.0000\n",
      "Saved model to model_artifactnewdatatest1-2e-5\n"
     ]
    }
   ],
   "source": [
    "# no regularization\n",
    "train_results, dev_results, test_results = training(train_texts, train_cats, dev_texts, dev_cats, test_texts1, test_cats1, L2 = 0, \n",
    "                                                     learn_rate = 0.001, n_iter = 3, output_dir='model_artifactnewdatatest1-2e-5')"
   ]
  },
  {
   "cell_type": "code",
   "execution_count": null,
   "metadata": {
    "scrolled": true
   },
   "outputs": [],
   "source": [
    "# Model 1 - cnn, L2 =2e-5 test1 dec = decaying(10.0, 1.0, 0.001)\n",
    "train_results1, dev_results1, test_results1 = training(train_texts, train_cats, dev_texts, dev_cats, test_texts1, test_cats1, L2 = 2e-5, \n",
    "                                                     learn_rate = 0.001, n_iter = 3, output_dir='model_artifactnewdatatest1-2e-5')"
   ]
  },
  {
   "cell_type": "code",
   "execution_count": null,
   "metadata": {
    "scrolled": true
   },
   "outputs": [],
   "source": [
    "# Model 2 - cnn, L2 0.0001  test1 (10.0, 1.0, 0.001)\n",
    "train_results2, dev_results2, test_results2 = training(train_texts, train_cats, dev_texts, dev_cats, test_texts1, test_cats1, L2 = 2e-5, \n",
    "                                                     learn_rate = 0.0001, n_iter = 3, output_dir='model_artifactnewdatatestLR0.0001')"
   ]
  },
  {
   "cell_type": "code",
   "execution_count": null,
   "metadata": {},
   "outputs": [],
   "source": [
    "# Model 2 - cnn, L2 0.0001  test1 (10.0, 1.0, 0.001)\n",
    "train_results2, dev_results2, test_results2 = training(train_texts, train_cats, dev_texts, dev_cats, test_texts1, test_cats1, L2 = 1e-5, \n",
    "                                                     learn_rate = 0.0001, n_iter = 3, output_dir='model_artifactnewdatatestL1e-5')"
   ]
  },
  {
   "cell_type": "code",
   "execution_count": null,
   "metadata": {
    "scrolled": false
   },
   "outputs": [],
   "source": [
    "# Model 3 - cnn, L2 2e-3 (10.0, 1.0, 0.001)\n",
    "train_results3, dev_results3, test_results3 = training(train_texts, train_cats, dev_texts, dev_cats, test_texts1, test_cats1, L2 = 2e-5, \n",
    "                                                     learn_rate = 0.01, n_iter = 3, output_dir='model_artifactnewdatatest1LR0.01')"
   ]
  },
  {
   "cell_type": "code",
   "execution_count": null,
   "metadata": {
    "scrolled": true
   },
   "outputs": [],
   "source": [
    "#dec = decaying(0.6, 0.2, 1e-4)\n",
    "train_results4, dev_results4, test_results4 = training(train_texts, train_cats, dev_texts, dev_cats, test_texts1, test_cats1, L2 = 2e-4, \n",
    "                                                     learn_rate = 0.01, n_iter =3,  output_dir='model_artifactnewdatatestLRD')"
   ]
  },
  {
   "cell_type": "code",
   "execution_count": null,
   "metadata": {},
   "outputs": [],
   "source": [
    "# Model 3 - cnn, L2 2e-3 #dec = decaying(10.0, 1.0, 0.001)\n",
    "train_results5, dev_results5, test_results5 = training(train_texts, train_cats, dev_texts, dev_cats, test_texts1, test_cats1, L2 = 2e-4, \n",
    "                                                     learn_rate = 0.01, n_iter=3,  output_dir='model_artifact20K_HP3')"
   ]
  },
  {
   "cell_type": "code",
   "execution_count": null,
   "metadata": {},
   "outputs": [],
   "source": [
    "# Model 3 - cnn, L2 2e-3  dec = decaying(10.0, 1.0, 0.001)\n",
    "train_results6, dev_results6, test_results6 = training(train_texts, train_cats, dev_texts, dev_cats, test_texts2, test_cats2, L2 = 2e-4, \n",
    "                                                     learn_rate = 0.00001, n_iter=3,  output_dir='model_artifactnewdatatest12')"
   ]
  },
  {
   "cell_type": "code",
   "execution_count": null,
   "metadata": {},
   "outputs": [],
   "source": [
    "import matplotlib.pyplot as plt\n",
    "\n",
    "accuracy_train1 = [(d['textcat_a']) for d in train_results1]\n",
    "accuracy_dev1 = [(d['textcat_a']) for d in dev_results1]\n",
    "accuracy_test1 = [(d['textcat_a']) for d in test_results1]\n",
    "accuracy_train2 = [(d['textcat_a']) for d in train_results2]\n",
    "accuracy_dev2 = [(d['textcat_a']) for d in dev_results2]\n",
    "accuracy_test2 = [(d['textcat_a']) for d in test_results2]\n",
    "accuracy_train3 = [(d['textcat_a']) for d in train_results3]\n",
    "accuracy_dev3 = [(d['textcat_a']) for d in dev_results3]\n",
    "accuracy_test3 = [(d['textcat_a']) for d in test_results3]\n",
    "epochs = range(0,3)\n",
    "plt.plot(epochs, accuracy_train1, 'c', label='Train model1')\n",
    "plt.plot(epochs, accuracy_dev1, 'm', label='Val model1')\n",
    "plt.plot(epochs, accuracy_test1, 'y', label='Test model1')\n",
    "plt.plot(epochs, accuracy_train2, 'b', label='Train model2')\n",
    "plt.plot(epochs, accuracy_dev2, 'g', label='Val model2')\n",
    "plt.plot(epochs, accuracy_test2, 'r', label='Test model2')\n",
    "plt.plot(epochs, accuracy_train3, 'k', label='Train model2')\n",
    "plt.plot(epochs, accuracy_dev3, color='orange', label='Val model2')\n",
    "plt.plot(epochs, accuracy_test3, color='pink', label='Test model2')\n",
    "plt.title('Training Validation and Test Accuracy \\n Model 1: L2= 2e-5, Model 2 : L2 =2e-4, Model 3 : L3 =2e-3' )\n",
    "plt.xlabel('Epochs')\n",
    "plt.ylabel('Accuracy')\n",
    "plt.legend(bbox_to_anchor=(1.1, 1.05))\n",
    "plt.show()"
   ]
  },
  {
   "cell_type": "code",
   "execution_count": null,
   "metadata": {},
   "outputs": [],
   "source": [
    "import matplotlib.pyplot as plt\n",
    "\n",
    "accuracy_train4 = [(d['textcat_a']) for d in train_results4]\n",
    "accuracy_dev4 = [(d['textcat_a']) for d in dev_results4]\n",
    "accuracy_test4 = [(d['textcat_a']) for d in test_results4]\n",
    "\n",
    "epochs = range(0,3)\n",
    "plt.plot(epochs, accuracy_train4, 'g', label='Train')\n",
    "plt.plot(epochs, accuracy_dev4, 'k', label='Val')\n",
    "plt.plot(epochs, accuracy_test4, 'b', label='Test')\n",
    "\n",
    "plt.title('Training, Validation and Test Accuracy : LR2=2e-5')\n",
    "plt.xlabel('Epochs')\n",
    "plt.ylabel('Accuracy')\n",
    "plt.legend()\n",
    "plt.show()"
   ]
  },
  {
   "cell_type": "code",
   "execution_count": null,
   "metadata": {
    "scrolled": true
   },
   "outputs": [],
   "source": [
    "accuracy_train2 = [(d['textcat_a']) for d in train_results2]\n",
    "accuracy_dev2 = [(d['textcat_a']) for d in dev_results2]\n",
    "accuracy_test2 = [(d['textcat_a']) for d in test_results2]\n",
    "epochs = range(0,5)\n",
    "plt.plot(epochs, accuracy_train2, 'r', label='Train')\n",
    "plt.plot(epochs, accuracy_dev2, 'c', label='Val')\n",
    "plt.plot(epochs, accuracy_test2, 'y', label='Test')\n",
    "plt.title('Training, Validation and Test Accuracy  Model2 L2= 2e-4')\n",
    "plt.xlabel('Epochs')\n",
    "plt.ylabel('Accuracy')\n",
    "plt.legend()\n",
    "plt.show()"
   ]
  },
  {
   "cell_type": "code",
   "execution_count": null,
   "metadata": {},
   "outputs": [],
   "source": [
    "accuracy_train3 = [(d['textcat_a']) for d in train_results3]\n",
    "accuracy_dev3 = [(d['textcat_a']) for d in dev_results3]\n",
    "accuracy_test3 = [(d['textcat_a']) for d in test_results3]\n",
    "epochs = range(0,5)\n",
    "plt.plot(epochs, accuracy_train3, 'r', label='Train')\n",
    "plt.plot(epochs, accuracy_dev3, 'c', label='Val')\n",
    "plt.plot(epochs, accuracy_test3, 'y', label='Test')\n",
    "plt.title('Training and Validation Accuracy  Model3 L2= 2e-3')\n",
    "plt.xlabel('Epochs')\n",
    "plt.ylabel('Accuracy')\n",
    "plt.legend()\n",
    "plt.show()"
   ]
  },
  {
   "cell_type": "code",
   "execution_count": null,
   "metadata": {},
   "outputs": [],
   "source": [
    "import matplotlib.pyplot as plt\n",
    "\n",
    "precision_test1 = [(d['textcat_p']) for d in test_results1]\n",
    "precision_test2 = [(d['textcat_p']) for d in test_results2]\n",
    "precision_test3 = [(d['textcat_p']) for d in test_results3]\n",
    "#precision_test4 = [(d['textcat_p']) for d in test_result4]\n",
    "\n",
    "epochs = range(0,5)\n",
    "plt.plot(epochs, precision_test1, 'g', label='L2=2e-5')\n",
    "plt.plot(epochs, precision_test2, 'b', label='L2=2e-4')\n",
    "plt.plot(epochs, precision_test3, 'r', label='L2=2e-3')\n",
    "#plt.plot(epochs, precision_test4, 'c', label='4')\n",
    "plt.title('Test precision')\n",
    "plt.xlabel('Epochs')\n",
    "plt.ylabel('precision')\n",
    "plt.legend()\n",
    "plt.show()"
   ]
  },
  {
   "cell_type": "code",
   "execution_count": null,
   "metadata": {},
   "outputs": [],
   "source": [
    "import matplotlib.pyplot as plt\n",
    "\n",
    "precision_test1 = [(d['textcat_a']) for d in test_results1]\n",
    "precision_test2 = [(d['textcat_a']) for d in test_results2]\n",
    "precision_test3 = [(d['textcat_a']) for d in test_result3]\n",
    "precision_test4 = [(d['textcat_a']) for d in test_result4]\n",
    "\n",
    "epochs = range(0,5)\n",
    "plt.plot(epochs, precision_test1, 'g', label='1')\n",
    "plt.plot(epochs, precision_test2, 'b', label='2')\n",
    "plt.plot(epochs, precision_test3, 'r', label='3')\n",
    "plt.plot(epochs, precision_test4, 'c', label='4')\n",
    "plt.title('Test accuracy ')\n",
    "plt.xlabel('Epochs')\n",
    "plt.ylabel('precision')\n",
    "plt.legend()\n",
    "plt.show()"
   ]
  },
  {
   "cell_type": "code",
   "execution_count": null,
   "metadata": {},
   "outputs": [],
   "source": [
    "import spacy\n",
    "# Testing the model = https://en.wikipedia.org/wiki/Che_Guevara - positive sentence\n",
    "loaded_model = spacy.load('model_artifactnewdatatest1LR0.01L22E-4')\n",
    "test_text= \"Such positions also allowed him to play a central role in training the militia forces who repelled the Bay of Pigs Invasion and bringing the Soviet nuclear-armed ballistic missiles to Cuba which precipitated the 1962 Cuban Missile Crisis \"\n",
    "doc=loaded_model(test_text)\n",
    "doc.cats"
   ]
  },
  {
   "cell_type": "code",
   "execution_count": null,
   "metadata": {},
   "outputs": [],
   "source": [
    "spacy.displacy.render(doc, style='ent')"
   ]
  },
  {
   "cell_type": "code",
   "execution_count": null,
   "metadata": {
    "scrolled": true
   },
   "outputs": [],
   "source": [
    "# Testing the model - negative sentences\n",
    "test_text=\"Later, during the Age of Exploration, maps became progressively more accurate for navigation needs and were often sprinkled with sketches and drawings such as sailing ships showing the direction of trade winds, little trees and mounds to represent forests and mountains and of course, plenty of sea creatures and exotic natives much of them imaginary. \"\n",
    "doc=loaded_model(test_text)\n",
    "doc.cats"
   ]
  },
  {
   "cell_type": "code",
   "execution_count": null,
   "metadata": {},
   "outputs": [],
   "source": [
    "# Testing the model - negative sentence\n",
    "test_text=\"Later, during the Age of Exploration, maps became progressively more accurate for navigation needs and were often sprinkled with sketches and drawings such as sailing ships showing the direction of trade winds, little trees and mounds to represent forests and mountains and of course, plenty of sea creatures and exotic natives much of them imaginary. \"\n",
    "doc=loaded_model(test_text)\n",
    "doc.cats"
   ]
  },
  {
   "cell_type": "code",
   "execution_count": null,
   "metadata": {},
   "outputs": [],
   "source": [
    "#positive sentence \n",
    "\n",
    "test_text1 = 'Anthropomorphic maps date back to when Sebastian Münster used a queen to depict Europe in 1570.'\n",
    "doc=loaded_model(test_text1)\n",
    "doc.cats"
   ]
  },
  {
   "cell_type": "code",
   "execution_count": null,
   "metadata": {},
   "outputs": [],
   "source": [
    "#positive sentence \n",
    "\n",
    "test_text = 'The leading panoramic map artists in the U.S.A. were Herman Brosius, Camille N. Drie, Thaddeus Mortimer Fowler, Paul Giraud, Augustus Koch, D. D. Morse, Henry Welge, and A. L. Westyard.'\n",
    "doc=nlp(test_text)\n",
    "doc.cats"
   ]
  }
 ],
 "metadata": {
  "kernelspec": {
   "display_name": "Python 3",
   "language": "python",
   "name": "python3"
  },
  "language_info": {
   "codemirror_mode": {
    "name": "ipython",
    "version": 3
   },
   "file_extension": ".py",
   "mimetype": "text/x-python",
   "name": "python",
   "nbconvert_exporter": "python",
   "pygments_lexer": "ipython3",
   "version": "3.7.3"
  },
  "toc": {
   "base_numbering": 1,
   "nav_menu": {},
   "number_sections": true,
   "sideBar": true,
   "skip_h1_title": true,
   "title_cell": "Table of Contents",
   "title_sidebar": "Contents",
   "toc_cell": true,
   "toc_position": {},
   "toc_section_display": true,
   "toc_window_display": false
  }
 },
 "nbformat": 4,
 "nbformat_minor": 4
}
