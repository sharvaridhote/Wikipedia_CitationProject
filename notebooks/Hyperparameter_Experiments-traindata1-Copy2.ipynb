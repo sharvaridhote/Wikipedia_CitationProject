{
 "cells": [
  {
   "cell_type": "markdown",
   "metadata": {
    "toc": true
   },
   "source": [
    "<h1>Table of Contents<span class=\"tocSkip\"></span></h1>\n",
    "<div class=\"toc\"><ul class=\"toc-item\"></ul></div>"
   ]
  },
  {
   "cell_type": "code",
   "execution_count": 11,
   "metadata": {
    "scrolled": true
   },
   "outputs": [],
   "source": [
    "import pandas as pd\n",
    "import unicodedata\n",
    "import random\n",
    "from train import training, load_data, evaluate\n",
    "from util import df_tolist\n",
    "from sklearn.utils import shuffle"
   ]
  },
  {
   "cell_type": "code",
   "execution_count": 21,
   "metadata": {
    "scrolled": false
   },
   "outputs": [
    {
     "name": "stdout",
     "output_type": "stream",
     "text": [
      "(36339, 2)\n",
      "1    19107\n",
      "0    17232\n",
      "Name: label, dtype: int64\n"
     ]
    },
    {
     "data": {
      "text/html": [
       "<div>\n",
       "<style scoped>\n",
       "    .dataframe tbody tr th:only-of-type {\n",
       "        vertical-align: middle;\n",
       "    }\n",
       "\n",
       "    .dataframe tbody tr th {\n",
       "        vertical-align: top;\n",
       "    }\n",
       "\n",
       "    .dataframe thead th {\n",
       "        text-align: right;\n",
       "    }\n",
       "</style>\n",
       "<table border=\"1\" class=\"dataframe\">\n",
       "  <thead>\n",
       "    <tr style=\"text-align: right;\">\n",
       "      <th></th>\n",
       "      <th>Statements</th>\n",
       "      <th>label</th>\n",
       "    </tr>\n",
       "  </thead>\n",
       "  <tbody>\n",
       "    <tr>\n",
       "      <th>12239</th>\n",
       "      <td>Bosing concludes that a medieval mindset was n...</td>\n",
       "      <td>1</td>\n",
       "    </tr>\n",
       "    <tr>\n",
       "      <th>37468</th>\n",
       "      <td>She was launched in 1764 as the collier Earl o...</td>\n",
       "      <td>0</td>\n",
       "    </tr>\n",
       "    <tr>\n",
       "      <th>33347</th>\n",
       "      <td>Infinity Blade is an action role-playing game ...</td>\n",
       "      <td>0</td>\n",
       "    </tr>\n",
       "    <tr>\n",
       "      <th>431</th>\n",
       "      <td>The Marciana came into possession of the histo...</td>\n",
       "      <td>1</td>\n",
       "    </tr>\n",
       "    <tr>\n",
       "      <th>34133</th>\n",
       "      <td>Numbers in parentheses denote appearances as s...</td>\n",
       "      <td>0</td>\n",
       "    </tr>\n",
       "  </tbody>\n",
       "</table>\n",
       "</div>"
      ],
      "text/plain": [
       "                                              Statements  label\n",
       "12239  Bosing concludes that a medieval mindset was n...      1\n",
       "37468  She was launched in 1764 as the collier Earl o...      0\n",
       "33347  Infinity Blade is an action role-playing game ...      0\n",
       "431    The Marciana came into possession of the histo...      1\n",
       "34133  Numbers in parentheses denote appearances as s...      0"
      ]
     },
     "execution_count": 21,
     "metadata": {},
     "output_type": "execute_result"
    }
   ],
   "source": [
    "# change to dataframe to Spacy format\n",
    "# wikidata featured articles scraped text\n",
    "df = pd.read_csv('E:/Sharpest_Mind/WikipediaCitation/src/Notebooks/Sentences_traindata.csv', encoding = 'utf8')\n",
    "df = df[(df['Statements'].str.split().str.len() >10)].reset_index(drop=True)\n",
    "df['Statements'] = df['Statements'].astype(str)\n",
    "df =shuffle(df)\n",
    "df = df.drop_duplicates()\n",
    "print(df.shape)\n",
    "print(df.label.value_counts())\n",
    "df.head()"
   ]
  },
  {
   "cell_type": "code",
   "execution_count": 22,
   "metadata": {},
   "outputs": [
    {
     "data": {
      "text/plain": [
       "1    10000\n",
       "0    10000\n",
       "Name: label, dtype: int64"
      ]
     },
     "execution_count": 22,
     "metadata": {},
     "output_type": "execute_result"
    }
   ],
   "source": [
    "df1 = df[df['label']==1]\n",
    "df2 = df[df['label']==0]\n",
    "df3=pd.concat([df1[:10000],df2[:10000]])\n",
    "df3.label.value_counts()"
   ]
  },
  {
   "cell_type": "code",
   "execution_count": 23,
   "metadata": {
    "scrolled": true
   },
   "outputs": [
    {
     "data": {
      "image/png": "[encoded data removed]",
      "text/plain": [
       "<Figure size 432x288 with 1 Axes>"
      ]
     },
     "metadata": {
      "needs_background": "light"
     },
     "output_type": "display_data"
    }
   ],
   "source": [
    "import matplotlib.pyplot as plt\n",
    "ax = df3['label'].value_counts().plot(kind='bar',\n",
    "                                    figsize=(6,4), title = 'Training DataSet')\n",
    "plt.legend\n",
    "ax.set_xlabel(\"Label\")\n",
    "ax.set_ylabel(\"Count\")\n",
    "\n",
    "plt.savefig('label_count.png')\n",
    "plt.show()"
   ]
  },
  {
   "cell_type": "code",
   "execution_count": 24,
   "metadata": {},
   "outputs": [
    {
     "data": {
      "text/html": [
       "<div>\n",
       "<style scoped>\n",
       "    .dataframe tbody tr th:only-of-type {\n",
       "        vertical-align: middle;\n",
       "    }\n",
       "\n",
       "    .dataframe tbody tr th {\n",
       "        vertical-align: top;\n",
       "    }\n",
       "\n",
       "    .dataframe thead th {\n",
       "        text-align: right;\n",
       "    }\n",
       "</style>\n",
       "<table border=\"1\" class=\"dataframe\">\n",
       "  <thead>\n",
       "    <tr style=\"text-align: right;\">\n",
       "      <th></th>\n",
       "      <th>Statements</th>\n",
       "      <th>label</th>\n",
       "    </tr>\n",
       "  </thead>\n",
       "  <tbody>\n",
       "    <tr>\n",
       "      <th>12239</th>\n",
       "      <td>Bosing concludes that a medieval mindset was n...</td>\n",
       "      <td>1</td>\n",
       "    </tr>\n",
       "    <tr>\n",
       "      <th>431</th>\n",
       "      <td>The Marciana came into possession of the histo...</td>\n",
       "      <td>1</td>\n",
       "    </tr>\n",
       "    <tr>\n",
       "      <th>14530</th>\n",
       "      <td>Aldous Huxley wrote in 1957 that Goya lacked R...</td>\n",
       "      <td>1</td>\n",
       "    </tr>\n",
       "    <tr>\n",
       "      <th>16192</th>\n",
       "      <td>Michael Kimmelman, a reviewer for The New York...</td>\n",
       "      <td>1</td>\n",
       "    </tr>\n",
       "    <tr>\n",
       "      <th>10028</th>\n",
       "      <td>The bands are separated by deep narrow channel...</td>\n",
       "      <td>1</td>\n",
       "    </tr>\n",
       "  </tbody>\n",
       "</table>\n",
       "</div>"
      ],
      "text/plain": [
       "                                              Statements  label\n",
       "12239  Bosing concludes that a medieval mindset was n...      1\n",
       "431    The Marciana came into possession of the histo...      1\n",
       "14530  Aldous Huxley wrote in 1957 that Goya lacked R...      1\n",
       "16192  Michael Kimmelman, a reviewer for The New York...      1\n",
       "10028  The bands are separated by deep narrow channel...      1"
      ]
     },
     "execution_count": 24,
     "metadata": {},
     "output_type": "execute_result"
    }
   ],
   "source": [
    "df3.head()"
   ]
  },
  {
   "cell_type": "code",
   "execution_count": 25,
   "metadata": {},
   "outputs": [
    {
     "name": "stdout",
     "output_type": "stream",
     "text": [
      "[('By early 237 BC, after numerous setbacks, the rebels were defeated and their cities brought back under Carthaginian rule. An expedition was prepared to reoccupy Sardinia, where mutinous soldiers had slaughtered all Carthaginians. However, Rome declared that this would be an act of war and occupied both Sardinia and Corsica, in contravention of the recent peace treaty. This has been considered to be the single greatest cause of war with Carthage breaking out again in 218 BC in the Second Punic War.', {'cats': {'POSITIVE': False, 'NEGATIVE': True}})]\n",
      "[('The cloth is Z-spun (tightly spun) and tabby woven with flax perhaps combined with cotton.', {'cats': {'POSITIVE': True, 'NEGATIVE': False}})]\n"
     ]
    },
    {
     "name": "stderr",
     "output_type": "stream",
     "text": [
      "E:\\Sharpest_Mind\\WikipediaCitation\\src\\Notebooks\\util.py:79: SettingWithCopyWarning: \n",
      "A value is trying to be set on a copy of a slice from a DataFrame.\n",
      "Try using .loc[row_indexer,col_indexer] = value instead\n",
      "\n",
      "See the caveats in the documentation: https://pandas.pydata.org/pandas-docs/stable/user_guide/indexing.html#returning-a-view-versus-a-copy\n",
      "  df['tuples'] = df.apply(lambda row: (row[df.columns[0]], row[df.columns[1]]), axis=1)\n"
     ]
    }
   ],
   "source": [
    "# Processing the final format of training and validation data\n",
    "# Calling the load_data() function \n",
    "\n",
    "(train_texts, train_cats), (dev_texts, dev_cats) = load_data(df3,split=0.8)\n",
    "train_data = list(zip(train_texts,[{'cats': cats} for cats in train_cats]))\n",
    "print(train_data[:1])\n",
    "dev_data = list(zip(dev_texts,[{'cats': cats} for cats in dev_cats]))\n",
    "print(dev_data[:1])\n"
   ]
  },
  {
   "cell_type": "code",
   "execution_count": 26,
   "metadata": {},
   "outputs": [
    {
     "name": "stdout",
     "output_type": "stream",
     "text": [
      "4000\n"
     ]
    }
   ],
   "source": [
    "# Converting the dataframe into a list of tuples\n",
    "# change to dataframe to Spacy format\n",
    "# wikidata citation needed text\n",
    "df4 = pd.read_csv('E:/Sharpest_Mind/WikipediaCitation/data/processed/csv_files/sort/Citation_needed_wiki.csv', encoding = 'ISO-8859-1')\n",
    "df4 = shuffle(df4)\n",
    "df4_1 = df4[df4['label']==1] \n",
    "df4_0 = df4[df4['label']==0]\n",
    "df4_test = pd.concat([df4_1[:2000],df4_0[:2000]])\n",
    "test1 =df_tolist(df4_test)\n",
    "test_texts1, test_cats1 = zip(*test1)\n",
    "test_cats1 = [{\"POSITIVE\": bool(y), \"NEGATIVE\": not bool(y)} for y in test_cats1]\n",
    "test_data1 = list(zip(test_texts1,[{'cats': cats} for cats in test_cats1]))\n",
    "print(len(test_data1))\n"
   ]
  },
  {
   "cell_type": "code",
   "execution_count": 27,
   "metadata": {},
   "outputs": [
    {
     "name": "stdout",
     "output_type": "stream",
     "text": [
      "3980\n"
     ]
    }
   ],
   "source": [
    "# Converting the dataframe into a list of tuples\n",
    "# wikidata random articles -biography section\n",
    "df5 = pd.read_csv('E:/Sharpest_Mind/WikipediaCitation/data/processed/csv_files/sort/wiki_data_test.csv', encoding = 'ISO-8859-1')\n",
    "df5 = shuffle(df5)\n",
    "df5_1 = df5[df5['Label']==1] \n",
    "df5_0 = df5[df5['Label']==0]\n",
    "df5_test = pd.concat([df5_1[8000:],df5_0[8000:]])\n",
    "test2 =df_tolist(df5_test)\n",
    "\n",
    "random.shuffle(test2)\n",
    "\n",
    "test_texts2, test_cats2 = zip(*test2)\n",
    "test_cats2 = [{\"POSITIVE\": bool(y), \"NEGATIVE\": not bool(y)} for y in test_cats2]\n",
    "test_data2 = list(zip(test_texts2,[{'cats': cats} for cats in test_cats2]))\n",
    "print(len(test_data2))"
   ]
  },
  {
   "cell_type": "code",
   "execution_count": 28,
   "metadata": {},
   "outputs": [
    {
     "name": "stdout",
     "output_type": "stream",
     "text": [
      "16000\n",
      "4000\n",
      "3980\n",
      "4000\n"
     ]
    }
   ],
   "source": [
    "print(len(train_data))\n",
    "print(len(test_data1))\n",
    "print(len(test_data2))\n",
    "print(len(dev_data))"
   ]
  },
  {
   "cell_type": "code",
   "execution_count": null,
   "metadata": {
    "scrolled": true
   },
   "outputs": [
    {
     "name": "stdout",
     "output_type": "stream",
     "text": [
      "Training the model...\n",
      "LOSS \tA_train\tA_dev\tA_test\t  P  \t  R  \t  F  \n",
      "17.7957\t0.5016\t0.4937\t0.5000\t0.5016\t1.0000\t0.6681\n"
     ]
    }
   ],
   "source": [
    "# Model 1 - cnn, L2 =2e-5 test1\n",
    "train_results1, dev_results1, test_results1 = training(train_texts, train_cats, dev_texts, dev_cats, test_texts1, test_cats1, L2 = 2e-5, \n",
    "                                                     learn_rate = 0.001, n_iter = 3, output_dir='model_artifactnewdatatest1-2e-5')"
   ]
  },
  {
   "cell_type": "code",
   "execution_count": 21,
   "metadata": {
    "scrolled": true
   },
   "outputs": [
    {
     "name": "stdout",
     "output_type": "stream",
     "text": [
      "Training the model...\n",
      "LOSS \tA_train\tA_dev\tA_test\t  P  \t  R  \t  F  \n",
      "16.9429\t0.8939\t0.8557\t0.6528\t0.9035\t0.8817\t0.8925\n",
      "6.8996\t0.9615\t0.9370\t0.6653\t0.9762\t0.9459\t0.9608\n",
      "2.8630\t0.9826\t0.9612\t0.7004\t0.9814\t0.9839\t0.9826\n",
      "Saved model to model_artifactnewdatatestLR0.0001\n"
     ]
    }
   ],
   "source": [
    "# Model 2 - cnn, L2 0.0001  test1\n",
    "train_results2, dev_results2, test_results2 = training(train_texts, train_cats, dev_texts, dev_cats, test_texts1, test_cats1, L2 = 2e-5, \n",
    "                                                     learn_rate = 0.0001, n_iter = 3, output_dir='model_artifactnewdatatestLR0.0001')"
   ]
  },
  {
   "cell_type": "code",
   "execution_count": 23,
   "metadata": {
    "scrolled": false
   },
   "outputs": [
    {
     "name": "stdout",
     "output_type": "stream",
     "text": [
      "Training the model...\n",
      "LOSS \tA_train\tA_dev\tA_test\t  P  \t  R  \t  F  \n",
      "16.3958\t0.9745\t0.9697\t0.8692\t0.9529\t0.9982\t0.9751\n",
      "4.7241\t0.9781\t0.9740\t0.8112\t0.9586\t0.9994\t0.9785\n",
      "2.6048\t0.9792\t0.9747\t0.7959\t0.9619\t0.9980\t0.9796\n",
      "Saved model to model_artifactnewdatatest1LR0.01\n"
     ]
    }
   ],
   "source": [
    "# Model 3 - cnn, L2 2e-3\n",
    "train_results3, dev_results3, test_results3 = training(train_texts, train_cats, dev_texts, dev_cats, test_texts1, test_cats1, L2 = 2e-5, \n",
    "                                                     learn_rate = 0.01, n_iter = 3, output_dir='model_artifactnewdatatest1LR0.01')"
   ]
  },
  {
   "cell_type": "code",
   "execution_count": 25,
   "metadata": {},
   "outputs": [
    {
     "name": "stdout",
     "output_type": "stream",
     "text": [
      "Training the model...\n",
      "LOSS \tA_train\tA_dev\tA_test\t  P  \t  R  \t  F  \n",
      "13.1179\t0.9734\t0.9617\t0.7174\t0.9711\t0.9758\t0.9735\n",
      "2.6657\t0.9860\t0.9727\t0.6518\t0.9745\t0.9981\t0.9861\n",
      "1.3675\t0.9855\t0.9730\t0.6706\t0.9722\t0.9995\t0.9857\n",
      "Saved model to model_artifactnewdatatestLRD\n"
     ]
    }
   ],
   "source": [
    "#dec = decaying(10.0, 1.0, 0.001)\n",
    "train_results4, dev_results4, test_results4 = training(train_texts, train_cats, dev_texts, dev_cats, test_texts1, test_cats1, L2 = 2e-5, \n",
    "                                                     learn_rate = 0.001, n_iter =3,  output_dir='model_artifactnewdatatestLRD')"
   ]
  },
  {
   "cell_type": "code",
   "execution_count": 27,
   "metadata": {},
   "outputs": [
    {
     "name": "stdout",
     "output_type": "stream",
     "text": [
      "Training the model...\n",
      "LOSS \tA_train\tA_dev\tA_test\t  P  \t  R  \t  F  \n",
      "16.7232\t0.9677\t0.9665\t0.8982\t0.9424\t0.9962\t0.9686\n",
      "5.5760\t0.9684\t0.9672\t0.8874\t0.9422\t0.9980\t0.9693\n",
      "3.7195\t0.9741\t0.9705\t0.8759\t0.9515\t0.9990\t0.9747\n",
      "Saved model to model_artifactnewdatatest1LR0.01L22E-4\n"
     ]
    }
   ],
   "source": [
    "# Model 3 - cnn, L2 2e-3\n",
    "train_results5, dev_results5, test_results5 = training(train_texts, train_cats, dev_texts, dev_cats, test_texts1, test_cats1, L2 = 2e-4, \n",
    "                                                     learn_rate = 0.01, n_iter=3,  output_dir='model_artifactnewdatatest1LR0.01L22E-4')"
   ]
  },
  {
   "cell_type": "code",
   "execution_count": null,
   "metadata": {},
   "outputs": [],
   "source": [
    "# Model 3 - cnn, L2 2e-3\n",
    "train_results6, dev_results6, test_results6 = training(train_texts, train_cats, dev_texts, dev_cats, test_texts2, test_cats2, L2 = 2e-3, \n",
    "                                                     learn_rate = 0.0001, n_iter=3,  output_dir='model_artifactnewdatatest12')"
   ]
  },
  {
   "cell_type": "code",
   "execution_count": 9,
   "metadata": {},
   "outputs": [
    {
     "ename": "NameError",
     "evalue": "name 'train_results1' is not defined",
     "output_type": "error",
     "traceback": [
      "\u001b[1;31m---------------------------------------------------------------------------\u001b[0m",
      "\u001b[1;31mNameError\u001b[0m                                 Traceback (most recent call last)",
      "\u001b[1;32m<ipython-input-9-abb4b49d4363>\u001b[0m in \u001b[0;36m<module>\u001b[1;34m\u001b[0m\n\u001b[0;32m      1\u001b[0m \u001b[1;32mimport\u001b[0m \u001b[0mmatplotlib\u001b[0m\u001b[1;33m.\u001b[0m\u001b[0mpyplot\u001b[0m \u001b[1;32mas\u001b[0m \u001b[0mplt\u001b[0m\u001b[1;33m\u001b[0m\u001b[1;33m\u001b[0m\u001b[0m\n\u001b[0;32m      2\u001b[0m \u001b[1;33m\u001b[0m\u001b[0m\n\u001b[1;32m----> 3\u001b[1;33m \u001b[0maccuracy_train1\u001b[0m \u001b[1;33m=\u001b[0m \u001b[1;33m[\u001b[0m\u001b[1;33m(\u001b[0m\u001b[0md\u001b[0m\u001b[1;33m[\u001b[0m\u001b[1;34m'textcat_a'\u001b[0m\u001b[1;33m]\u001b[0m\u001b[1;33m)\u001b[0m \u001b[1;32mfor\u001b[0m \u001b[0md\u001b[0m \u001b[1;32min\u001b[0m \u001b[0mtrain_results1\u001b[0m\u001b[1;33m]\u001b[0m\u001b[1;33m\u001b[0m\u001b[1;33m\u001b[0m\u001b[0m\n\u001b[0m\u001b[0;32m      4\u001b[0m \u001b[0maccuracy_dev1\u001b[0m \u001b[1;33m=\u001b[0m \u001b[1;33m[\u001b[0m\u001b[1;33m(\u001b[0m\u001b[0md\u001b[0m\u001b[1;33m[\u001b[0m\u001b[1;34m'textcat_a'\u001b[0m\u001b[1;33m]\u001b[0m\u001b[1;33m)\u001b[0m \u001b[1;32mfor\u001b[0m \u001b[0md\u001b[0m \u001b[1;32min\u001b[0m \u001b[0mdev_results1\u001b[0m\u001b[1;33m]\u001b[0m\u001b[1;33m\u001b[0m\u001b[1;33m\u001b[0m\u001b[0m\n\u001b[0;32m      5\u001b[0m \u001b[0maccuracy_test1\u001b[0m \u001b[1;33m=\u001b[0m \u001b[1;33m[\u001b[0m\u001b[1;33m(\u001b[0m\u001b[0md\u001b[0m\u001b[1;33m[\u001b[0m\u001b[1;34m'textcat_a'\u001b[0m\u001b[1;33m]\u001b[0m\u001b[1;33m)\u001b[0m \u001b[1;32mfor\u001b[0m \u001b[0md\u001b[0m \u001b[1;32min\u001b[0m \u001b[0mtest_results1\u001b[0m\u001b[1;33m]\u001b[0m\u001b[1;33m\u001b[0m\u001b[1;33m\u001b[0m\u001b[0m\n",
      "\u001b[1;31mNameError\u001b[0m: name 'train_results1' is not defined"
     ]
    }
   ],
   "source": [
    "import matplotlib.pyplot as plt\n",
    "\n",
    "accuracy_train1 = [(d['textcat_a']) for d in train_results1]\n",
    "accuracy_dev1 = [(d['textcat_a']) for d in dev_results1]\n",
    "accuracy_test1 = [(d['textcat_a']) for d in test_results1]\n",
    "accuracy_train2 = [(d['textcat_a']) for d in train_results2]\n",
    "accuracy_dev2 = [(d['textcat_a']) for d in dev_results2]\n",
    "accuracy_test2 = [(d['textcat_a']) for d in test_results2]\n",
    "accuracy_train3 = [(d['textcat_a']) for d in train_results3]\n",
    "accuracy_dev3 = [(d['textcat_a']) for d in dev_results3]\n",
    "accuracy_test3 = [(d['textcat_a']) for d in test_results3]\n",
    "epochs = range(0,5)\n",
    "plt.plot(epochs, accuracy_train1, 'c', label='Train model1')\n",
    "plt.plot(epochs, accuracy_dev1, 'm', label='Val model1')\n",
    "plt.plot(epochs, accuracy_test1, 'y', label='Test model1')\n",
    "plt.plot(epochs, accuracy_train2, 'b', label='Train model2')\n",
    "plt.plot(epochs, accuracy_dev2, 'g', label='Val model2')\n",
    "plt.plot(epochs, accuracy_test2, 'r', label='Test model2')\n",
    "plt.plot(epochs, accuracy_train3, 'k', label='Train model2')\n",
    "plt.plot(epochs, accuracy_dev3, color='orange', label='Val model2')\n",
    "plt.plot(epochs, accuracy_test3, color='pink', label='Test model2')\n",
    "plt.title('Training Validation and Test Accuracy \\n Model 1: L2= 2e-5, Model 2 : L2 =2e-4, Model 3 : L3 =2e-3' )\n",
    "plt.xlabel('Epochs')\n",
    "plt.ylabel('Accuracy')\n",
    "plt.legend(bbox_to_anchor=(1.1, 1.05))\n",
    "plt.show()"
   ]
  },
  {
   "cell_type": "code",
   "execution_count": null,
   "metadata": {},
   "outputs": [],
   "source": [
    "import matplotlib.pyplot as plt\n",
    "\n",
    "accuracy_train1 = [(d['textcat_a']) for d in train_results1]\n",
    "accuracy_dev1 = [(d['textcat_a']) for d in dev_results1]\n",
    "accuracy_test1 = [(d['textcat_a']) for d in test_results1]\n",
    "\n",
    "epochs = range(0,5)\n",
    "plt.plot(epochs, accuracy_train1, 'g', label='Train')\n",
    "plt.plot(epochs, accuracy_dev1, 'k', label='Val')\n",
    "plt.plot(epochs, accuracy_test1, 'b', label='Test')\n",
    "\n",
    "plt.title('Training, Validation and Test Accuracy : LR2=2e-5')\n",
    "plt.xlabel('Epochs')\n",
    "plt.ylabel('Accuracy')\n",
    "plt.legend()\n",
    "plt.show()"
   ]
  },
  {
   "cell_type": "code",
   "execution_count": null,
   "metadata": {
    "scrolled": true
   },
   "outputs": [],
   "source": [
    "accuracy_train2 = [(d['textcat_a']) for d in train_results2]\n",
    "accuracy_dev2 = [(d['textcat_a']) for d in dev_results2]\n",
    "accuracy_test2 = [(d['textcat_a']) for d in test_results2]\n",
    "epochs = range(0,5)\n",
    "plt.plot(epochs, accuracy_train2, 'r', label='Train')\n",
    "plt.plot(epochs, accuracy_dev2, 'c', label='Val')\n",
    "plt.plot(epochs, accuracy_test2, 'y', label='Test')\n",
    "plt.title('Training, Validation and Test Accuracy  Model2 L2= 2e-4')\n",
    "plt.xlabel('Epochs')\n",
    "plt.ylabel('Accuracy')\n",
    "plt.legend()\n",
    "plt.show()"
   ]
  },
  {
   "cell_type": "code",
   "execution_count": null,
   "metadata": {},
   "outputs": [],
   "source": [
    "accuracy_train3 = [(d['textcat_a']) for d in train_results3]\n",
    "accuracy_dev3 = [(d['textcat_a']) for d in dev_results3]\n",
    "accuracy_test3 = [(d['textcat_a']) for d in test_results3]\n",
    "epochs = range(0,5)\n",
    "plt.plot(epochs, accuracy_train3, 'r', label='Train')\n",
    "plt.plot(epochs, accuracy_dev3, 'c', label='Val')\n",
    "plt.plot(epochs, accuracy_test3, 'y', label='Test')\n",
    "plt.title('Training and Validation Accuracy  Model3 L2= 2e-3')\n",
    "plt.xlabel('Epochs')\n",
    "plt.ylabel('Accuracy')\n",
    "plt.legend()\n",
    "plt.show()"
   ]
  },
  {
   "cell_type": "code",
   "execution_count": null,
   "metadata": {},
   "outputs": [],
   "source": [
    "import matplotlib.pyplot as plt\n",
    "\n",
    "precision_test1 = [(d['textcat_p']) for d in test_results1]\n",
    "precision_test2 = [(d['textcat_p']) for d in test_results2]\n",
    "precision_test3 = [(d['textcat_p']) for d in test_results3]\n",
    "#precision_test4 = [(d['textcat_p']) for d in test_result4]\n",
    "\n",
    "epochs = range(0,5)\n",
    "plt.plot(epochs, precision_test1, 'g', label='L2=2e-5')\n",
    "plt.plot(epochs, precision_test2, 'b', label='L2=2e-4')\n",
    "plt.plot(epochs, precision_test3, 'r', label='L2=2e-3')\n",
    "#plt.plot(epochs, precision_test4, 'c', label='4')\n",
    "plt.title('Test precision')\n",
    "plt.xlabel('Epochs')\n",
    "plt.ylabel('precision')\n",
    "plt.legend()\n",
    "plt.show()"
   ]
  },
  {
   "cell_type": "code",
   "execution_count": null,
   "metadata": {},
   "outputs": [],
   "source": [
    "import matplotlib.pyplot as plt\n",
    "\n",
    "precision_test1 = [(d['textcat_a']) for d in test_results1]\n",
    "precision_test2 = [(d['textcat_a']) for d in test_results2]\n",
    "precision_test3 = [(d['textcat_a']) for d in test_result3]\n",
    "precision_test4 = [(d['textcat_a']) for d in test_result4]\n",
    "\n",
    "epochs = range(0,5)\n",
    "plt.plot(epochs, precision_test1, 'g', label='1')\n",
    "plt.plot(epochs, precision_test2, 'b', label='2')\n",
    "plt.plot(epochs, precision_test3, 'r', label='3')\n",
    "plt.plot(epochs, precision_test4, 'c', label='4')\n",
    "plt.title('Test accuracy ')\n",
    "plt.xlabel('Epochs')\n",
    "plt.ylabel('precision')\n",
    "plt.legend()\n",
    "plt.show()"
   ]
  },
  {
   "cell_type": "code",
   "execution_count": 33,
   "metadata": {},
   "outputs": [
    {
     "data": {
      "text/plain": [
       "{'POSITIVE': 0.6063688397407532, 'NEGATIVE': 0.3936311900615692}"
      ]
     },
     "execution_count": 33,
     "metadata": {},
     "output_type": "execute_result"
    }
   ],
   "source": [
    "import spacy\n",
    "# Testing the model = https://en.wikipedia.org/wiki/Che_Guevara - positive sentence\n",
    "loaded_model = spacy.load('E:/Sharpest_Mind/WikipediaCitation/src/Notebooks/model_artifactnewdatatest1LR0.01L22E-4')\n",
    "test_text= \"Such positions also allowed him to play a central role in training the militia forces who repelled the Bay of Pigs Invasion and bringing the Soviet nuclear-armed ballistic missiles to Cuba which precipitated the 1962 Cuban Missile Crisis \"\n",
    "doc=loaded_model(test_text)\n",
    "doc.cats"
   ]
  },
  {
   "cell_type": "code",
   "execution_count": null,
   "metadata": {},
   "outputs": [],
   "source": [
    "spacy.displacy.render(doc, style='ent')"
   ]
  },
  {
   "cell_type": "code",
   "execution_count": 32,
   "metadata": {
    "scrolled": true
   },
   "outputs": [
    {
     "data": {
      "text/plain": [
       "{'POSITIVE': 0.8592894673347473, 'NEGATIVE': 0.14071056246757507}"
      ]
     },
     "execution_count": 32,
     "metadata": {},
     "output_type": "execute_result"
    }
   ],
   "source": [
    "# Testing the model - negative sentences\n",
    "test_text=\"Later, during the Age of Exploration, maps became progressively more accurate for navigation needs and were often sprinkled with sketches and drawings such as sailing ships showing the direction of trade winds, little trees and mounds to represent forests and mountains and of course, plenty of sea creatures and exotic natives much of them imaginary. \"\n",
    "doc=loaded_model(test_text)\n",
    "doc.cats"
   ]
  },
  {
   "cell_type": "code",
   "execution_count": 30,
   "metadata": {},
   "outputs": [
    {
     "data": {
      "text/plain": [
       "{'POSITIVE': 0.08235668390989304, 'NEGATIVE': 0.9176433086395264}"
      ]
     },
     "execution_count": 30,
     "metadata": {},
     "output_type": "execute_result"
    }
   ],
   "source": [
    "# Testing the model - negative sentence\n",
    "test_text=\"Later, during the Age of Exploration, maps became progressively more accurate for navigation needs and were often sprinkled with sketches and drawings such as sailing ships showing the direction of trade winds, little trees and mounds to represent forests and mountains and of course, plenty of sea creatures and exotic natives much of them imaginary. \"\n",
    "doc=loaded_model(test_text)\n",
    "doc.cats"
   ]
  },
  {
   "cell_type": "code",
   "execution_count": 31,
   "metadata": {},
   "outputs": [
    {
     "data": {
      "text/plain": [
       "{'POSITIVE': 0.998930037021637, 'NEGATIVE': 0.0010699756676331162}"
      ]
     },
     "execution_count": 31,
     "metadata": {},
     "output_type": "execute_result"
    }
   ],
   "source": [
    "#positive sentence \n",
    "\n",
    "test_text1 = 'Anthropomorphic maps date back to when Sebastian Münster used a queen to depict Europe in 1570.'\n",
    "doc=loaded_model(test_text1)\n",
    "doc.cats"
   ]
  },
  {
   "cell_type": "code",
   "execution_count": null,
   "metadata": {},
   "outputs": [],
   "source": [
    "#positive sentence \n",
    "\n",
    "test_text = 'The leading panoramic map artists in the U.S.A. were Herman Brosius, Camille N. Drie, Thaddeus Mortimer Fowler, Paul Giraud, Augustus Koch, D. D. Morse, Henry Welge, and A. L. Westyard.'\n",
    "doc=nlp(test_text)\n",
    "doc.cats"
   ]
  }
 ],
 "metadata": {
  "kernelspec": {
   "display_name": "Python 3",
   "language": "python",
   "name": "python3"
  },
  "language_info": {
   "codemirror_mode": {
    "name": "ipython",
    "version": 3
   },
   "file_extension": ".py",
   "mimetype": "text/x-python",
   "name": "python",
   "nbconvert_exporter": "python",
   "pygments_lexer": "ipython3",
   "version": "3.7.3"
  },
  "toc": {
   "base_numbering": 1,
   "nav_menu": {},
   "number_sections": true,
   "sideBar": true,
   "skip_h1_title": true,
   "title_cell": "Table of Contents",
   "title_sidebar": "Contents",
   "toc_cell": true,
   "toc_position": {},
   "toc_section_display": true,
   "toc_window_display": false
  }
 },
 "nbformat": 4,
 "nbformat_minor": 4
}
